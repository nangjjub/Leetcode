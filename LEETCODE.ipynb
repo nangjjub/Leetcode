{
 "cells": [
  {
   "cell_type": "markdown",
   "id": "e3cd822c-c99d-43f5-802c-86f7a084f162",
   "metadata": {},
   "source": [
    "__LEETCODE__\n",
    "============="
   ]
  },
  {
   "cell_type": "markdown",
   "id": "7ce9bce4-f438-4546-90b0-576bcfc3edbe",
   "metadata": {},
   "source": [
    "__#[1](https://leetcode.com/problems/two-sum)/Two Sum__"
   ]
  },
  {
   "cell_type": "code",
   "execution_count": 1,
   "id": "9540875c-8bab-45e7-a35c-b764ba504425",
   "metadata": {},
   "outputs": [],
   "source": [
    "class Solution(object):\n",
    "    def twoSum(self, nums, target):\n",
    "        \"\"\"\n",
    "        :type nums: List[int]\n",
    "        :type target: int\n",
    "        :rtype: List[int]\n",
    "        \"\"\"\n",
    "        for i in range(len(nums)):\n",
    "            for j in range(i+1, len(nums)):\n",
    "                if nums[i] + nums[j] == target:\n",
    "                    return [i,j]"
   ]
  },
  {
   "cell_type": "markdown",
   "id": "2953b998-304b-451f-be13-b665632e407a",
   "metadata": {},
   "source": [
    "__#[7](https://leetcode.com/problems/reverse-integer)/Reverse Integer__"
   ]
  },
  {
   "cell_type": "code",
   "execution_count": 2,
   "id": "3a6035cc-2bc1-4d9e-97bc-682014f38f47",
   "metadata": {},
   "outputs": [],
   "source": [
    "class Solution(object):\n",
    "    def reverse(self, x):\n",
    "        \"\"\"\n",
    "        :type x: int\n",
    "        :rtype: int\n",
    "        \"\"\"\n",
    "        if x == 0 :\n",
    "            return 0\n",
    "        while not x % 10 :\n",
    "            x //= 10\n",
    "        sx = str(abs(x))\n",
    "        l = len(sx)\n",
    "        res = 0\n",
    "        for i in range(l) :\n",
    "            res += 10**i * int(sx[i])\n",
    "        if res.bit_length() > 31 :\n",
    "            return 0\n",
    "        if x >= 0 :\n",
    "            return res\n",
    "        return -res"
   ]
  },
  {
   "cell_type": "markdown",
   "id": "424c0b18-5d31-4d14-a2fb-d25059beedda",
   "metadata": {},
   "source": [
    "__#[12](https://leetcode.com/problems/integer-to-roman)/Integer to Roman__"
   ]
  },
  {
   "cell_type": "code",
   "execution_count": 3,
   "id": "c17b6afb-a1a7-4e5f-8207-0fdcbf2e0887",
   "metadata": {},
   "outputs": [],
   "source": [
    "class Solution(object):\n",
    "    def intToRoman(self, num):\n",
    "        \"\"\"\n",
    "        :type num: int\n",
    "        :rtype: str\n",
    "        \"\"\"\n",
    "        symlist = [[\"I\", 1], [\"IV\", 4], [\"V\", 5], [\"IX\", 9], [\"X\", 10], [\"XL\", 40], [\"L\", 50],\n",
    "                   [\"XC\", 90], [\"C\", 100], [\"CD\", 400], [\"D\", 500], [\"CM\", 900], [\"M\", 1000]]\n",
    "        res = \"\"\n",
    "        for sym, val in reversed(symlist):\n",
    "            if num // val:\n",
    "                count = num // val\n",
    "                res += (sym * count)\n",
    "                num = num % val\n",
    "        return res"
   ]
  },
  {
   "cell_type": "markdown",
   "id": "b092ab39-910a-4634-897b-9e1ed95d079a",
   "metadata": {},
   "source": [
    "__#[14](https://leetcode.com/problems/longest-common-prefix)/Longest Common Prefix__"
   ]
  },
  {
   "cell_type": "code",
   "execution_count": 4,
   "id": "9be5044e-c1fe-4577-8f53-74fec49ff234",
   "metadata": {},
   "outputs": [],
   "source": [
    "class Solution(object):\n",
    "    def longestCommonPrefix(self, strs):\n",
    "        \"\"\"\n",
    "        :type strs: List[str]\n",
    "        :rtype: str\n",
    "        \"\"\"\n",
    "        prefix = strs[0]\n",
    "        for i in range(1, len(strs)):\n",
    "            while strs[i].find(prefix) != 0:\n",
    "                prefix = prefix[:-1]\n",
    "                if not prefix:\n",
    "                    return \"\"\n",
    "        return prefix"
   ]
  },
  {
   "cell_type": "markdown",
   "id": "c46d0809-bc56-4eb8-ba7b-a0ee61edee62",
   "metadata": {},
   "source": [
    "__#[20](https://leetcode.com/problems/valid-parentheses)/Valid Parentheses__"
   ]
  },
  {
   "cell_type": "code",
   "execution_count": 5,
   "id": "206d7e91-b460-4d7f-85a3-0aad704b5e2a",
   "metadata": {},
   "outputs": [],
   "source": [
    "class Solution(object):\n",
    "    def isValid(self, s):\n",
    "        \"\"\"\n",
    "        :type s: str\n",
    "        :rtype: bool\n",
    "        \"\"\"\n",
    "        while '()' in s or '[]' in s or \"{}\" in s:\n",
    "            s = s.replace('()', '').replace('[]', '').replace('{}', '')\n",
    "        return False if len(s) != 0 else True"
   ]
  },
  {
   "cell_type": "markdown",
   "id": "55109bd5-7831-47c3-88f0-5771fce5d21b",
   "metadata": {},
   "source": [
    "__#[21](https://leetcode.com/problems/merge-two-sorted-lists)/Merge Two Sorted Lists__"
   ]
  },
  {
   "cell_type": "code",
   "execution_count": 6,
   "id": "d2b19843-4bbf-44a1-aca6-689ec0d990fc",
   "metadata": {},
   "outputs": [],
   "source": [
    "# Definition for singly-linked list.\n",
    "# class ListNode(object):\n",
    "#     def __init__(self, val=0, next=None):\n",
    "#         self.val = val\n",
    "#         self.next = next\n",
    "class Solution(object):\n",
    "    def mergeTwoLists(self, list1, list2):\n",
    "        \"\"\"\n",
    "        :type list1: Optional[ListNode]\n",
    "        :type list2: Optional[ListNode]\n",
    "        :rtype: Optional[ListNode]\n",
    "        \"\"\"\n",
    "        cur = dummy = ListNode()\n",
    "        while list1 and list2:               \n",
    "            if list1.val < list2.val:\n",
    "                cur.next = list1\n",
    "                list1, cur = list1.next, list1\n",
    "            else:\n",
    "                cur.next = list2\n",
    "                list2, cur = list2.next, list2\n",
    "                \n",
    "        if list1 or list2:\n",
    "            cur.next = list1 if list1 else list2\n",
    "            \n",
    "        return dummy.next"
   ]
  },
  {
   "cell_type": "markdown",
   "id": "1a7514cf-b3a5-4a84-aa3e-b99d082d06d7",
   "metadata": {},
   "source": [
    "__#[26](https://leetcode.com/problems/remove-duplicates-from-sorted-array)/Remove Duplicates from Sorted Array__"
   ]
  },
  {
   "cell_type": "code",
   "execution_count": 7,
   "id": "b9b42fb4-e622-4c7d-9a7f-1ce373b9e999",
   "metadata": {},
   "outputs": [],
   "source": [
    "class Solution(object):\n",
    "    def removeDuplicates(self, nums):\n",
    "        \"\"\"\n",
    "        :type nums: List[int]\n",
    "        :rtype: int\n",
    "        \"\"\"\n",
    "        i = 0 \n",
    "        for j in range(1,len(nums)):\n",
    "            if nums[i] != nums[j]:\n",
    "                i += 1\n",
    "                nums[i] = nums[j]\n",
    "        \n",
    "        return i+1"
   ]
  },
  {
   "cell_type": "markdown",
   "id": "73d561c0-9824-4f6a-8bf0-af7b34a6f9fe",
   "metadata": {},
   "source": [
    "__#[27](https://leetcode.com/problems/remove-element)/Remove Element__"
   ]
  },
  {
   "cell_type": "code",
   "execution_count": 8,
   "id": "dd40d828-53a2-4080-bf37-c31cac2651f8",
   "metadata": {},
   "outputs": [],
   "source": [
    "class Solution(object):\n",
    "    def removeElement(self, nums, val):\n",
    "        \"\"\"\n",
    "        :type nums: List[int]\n",
    "        :type val: int\n",
    "        :rtype: int\n",
    "        \"\"\"\n",
    "        for i in range(len(nums)):\n",
    "            if nums[0] != val:\n",
    "                nums.append(nums[0])\n",
    "                del nums[0]\n",
    "            else:\n",
    "                del nums[0]\n",
    "        return len(nums)"
   ]
  },
  {
   "cell_type": "markdown",
   "id": "78a3507f-3996-4221-9256-6274c59f83cf",
   "metadata": {},
   "source": [
    "__#[35](https://leetcode.com/problems/search-insert-position)/Search Insert Position__"
   ]
  },
  {
   "cell_type": "code",
   "execution_count": 9,
   "id": "55aa519c-29b9-4525-a9b7-43570083c8e0",
   "metadata": {},
   "outputs": [],
   "source": [
    "class Solution(object):\n",
    "    def searchInsert(self, nums, target):\n",
    "        \"\"\"\n",
    "        :type nums: List[int]\n",
    "        :type target: int\n",
    "        :rtype: int\n",
    "        \"\"\"\n",
    "        l = 0\n",
    "        r = len(nums) - 1\n",
    "        while l <= r:\n",
    "            mid = (l + r) // 2\n",
    "            if nums[mid] < target:\n",
    "                l = mid + 1\n",
    "            elif nums[mid] > target:\n",
    "                r = mid - 1\n",
    "            else:\n",
    "                return mid\n",
    "        return l"
   ]
  },
  {
   "cell_type": "markdown",
   "id": "6da5a2b9-c670-4da0-b6bd-113d4530c403",
   "metadata": {},
   "source": [
    "__#[48](https://leetcode.com/problems/rotate-image)/Rotate Image__"
   ]
  },
  {
   "cell_type": "code",
   "execution_count": 10,
   "id": "285fc9bd-4e3f-49b8-8589-e148fdf50fe4",
   "metadata": {},
   "outputs": [],
   "source": [
    "class Solution(object):\n",
    "    def rotate(self, matrix):\n",
    "        \"\"\"\n",
    "        :type matrix: List[List[int]]\n",
    "        :rtype: None Do not return anything, modify matrix in-place instead.\n",
    "        \"\"\"\n",
    "        n = []\n",
    "        for row in matrix:\n",
    "            n.append(row[:])\n",
    "        for x in range(len(matrix)):\n",
    "            for y in range(len(matrix)):\n",
    "                matrix[x][y] = n[len(matrix)-y-1][x]\n",
    "        print(n)\n",
    "        matrix = n"
   ]
  },
  {
   "cell_type": "markdown",
   "id": "684b37d2-b160-44fd-8568-0b3f3593c657",
   "metadata": {},
   "source": [
    "__#[58](https://leetcode.com/problems/length-of-last-word)/Length of Last Word__"
   ]
  },
  {
   "cell_type": "code",
   "execution_count": 11,
   "id": "2e65120d-19ae-4a3a-9cc1-06c5640c37ac",
   "metadata": {},
   "outputs": [],
   "source": [
    "class Solution(object):\n",
    "    def lengthOfLastWord(self, s):\n",
    "        \"\"\"\n",
    "        :type s: str\n",
    "        :rtype: int\n",
    "        \"\"\"\n",
    "        return len(s.strip().split(' ')[-1])"
   ]
  },
  {
   "cell_type": "markdown",
   "id": "2da4e338-28f7-427a-a2a6-299d0492f5ae",
   "metadata": {},
   "source": [
    "__#[66](https://leetcode.com/problems/plus-one)/Plus One__"
   ]
  },
  {
   "cell_type": "code",
   "execution_count": 12,
   "id": "982ea36c-48ce-444f-9133-bcced2763792",
   "metadata": {},
   "outputs": [],
   "source": [
    "class Solution(object):\n",
    "    def plusOne(self, digits):\n",
    "        \"\"\"\n",
    "        :type digits: List[int]\n",
    "        :rtype: List[int]\n",
    "        \"\"\"\n",
    "        num_string_list = list(map(str, digits))\n",
    "        num_string = ''.join(num_string_list)\n",
    "        my_number = int(num_string) + 1\n",
    "        answer_number_string = list(str(my_number))\n",
    "        \n",
    "        answer = list(map(int, answer_number_string))\n",
    "        return answer"
   ]
  },
  {
   "cell_type": "markdown",
   "id": "61b5d905-6c6c-417e-b512-6da7e5805ab7",
   "metadata": {},
   "source": [
    "__#[69](https://leetcode.com/problems/sqrtx)/Sqrt(x)__"
   ]
  },
  {
   "cell_type": "code",
   "execution_count": 13,
   "id": "6350b53e-7ff0-422f-a731-6f60c794f473",
   "metadata": {},
   "outputs": [],
   "source": [
    "class Solution(object):\n",
    "    def mySqrt(self, x):\n",
    "        \"\"\"\n",
    "        :type x: int\n",
    "        :rtype: int\n",
    "        \"\"\"\n",
    "        left = 0\n",
    "        right = x\n",
    "        while left <= right:\n",
    "            mid = left + (right - left) // 2\n",
    "\n",
    "            if mid * mid > x:\n",
    "                right = mid - 1\n",
    "            elif mid * mid < x:\n",
    "                left = mid + 1\n",
    "            else:\n",
    "                return mid\n",
    "        return right"
   ]
  },
  {
   "cell_type": "markdown",
   "id": "29689bf3-5890-4a96-8bc3-c9adc6fa5e31",
   "metadata": {},
   "source": [
    "__#[71](https://leetcode.com/problems/simplify-path/)/Simplify Path__"
   ]
  },
  {
   "cell_type": "code",
   "execution_count": 14,
   "id": "ab127c76-310d-47b6-95d3-695497ef5699",
   "metadata": {},
   "outputs": [],
   "source": [
    "class Solution(object):\n",
    "    def simplifyPath(self, path):\n",
    "        \"\"\"\n",
    "        :type path: str\n",
    "        :rtype: str\n",
    "        \"\"\"\n",
    "        return __import__('os').path.abspath(path)"
   ]
  },
  {
   "cell_type": "markdown",
   "id": "ce4f566d-346e-4bdb-8e21-eebdb6fbf57f",
   "metadata": {},
   "source": [
    "__#[88](https://leetcode.com/problems/merge-sorted-array)/Merge Sorted Array__"
   ]
  },
  {
   "cell_type": "code",
   "execution_count": 15,
   "id": "0718f902-1e97-46af-b33a-01f5bcf0f98c",
   "metadata": {},
   "outputs": [],
   "source": [
    "class Solution(object):\n",
    "    def merge(self, nums1, m, nums2, n):\n",
    "        \"\"\"\n",
    "        :type nums1: List[int]\n",
    "        :type m: int\n",
    "        :type nums2: List[int]\n",
    "        :type n: int\n",
    "        :rtype: None Do not return anything, modify nums1 in-place instead.\n",
    "        \"\"\"\n",
    "        for j in range(n):\n",
    "          nums1[m+j] = nums2[j]\n",
    "        nums1.sort()"
   ]
  },
  {
   "cell_type": "markdown",
   "id": "ce5ed3c7-ea88-4ebc-aed9-f1969d0fedf1",
   "metadata": {},
   "source": [
    "__#[94](https://leetcode.com/problems/binary-tree-inorder-traversal)/Binary Tree Inorder Traversal__"
   ]
  },
  {
   "cell_type": "code",
   "execution_count": 16,
   "id": "0a510877-677d-437d-a05c-cc417ab384d4",
   "metadata": {},
   "outputs": [],
   "source": [
    "# Definition for a binary tree node.\n",
    "# class TreeNode(object):\n",
    "#     def __init__(self, val=0, left=None, right=None):\n",
    "#         self.val = val\n",
    "#         self.left = left\n",
    "#         self.right = right\n",
    "class Solution(object):\n",
    "    def inorderTraversal(self, root):\n",
    "        \"\"\"\n",
    "        :type root: TreeNode\n",
    "        :rtype: List[int]\n",
    "        \"\"\"\n",
    "        st = []\n",
    "        res = []\n",
    "\n",
    "        while root or st:\n",
    "            while root:\n",
    "                st.append(root)\n",
    "                root = root.left\n",
    "            \n",
    "            root = st.pop()\n",
    "            res.append(root.val)\n",
    "\n",
    "            root = root.right\n",
    "        \n",
    "        return res"
   ]
  },
  {
   "cell_type": "markdown",
   "id": "5290c66a-32d1-42a5-9f3b-bf087abe1a37",
   "metadata": {},
   "source": [
    "__#[100](https://leetcode.com/problems/same-tree)/Same Tree__"
   ]
  },
  {
   "cell_type": "code",
   "execution_count": 17,
   "id": "ee7b6a7b-e159-4309-8a3c-0bebebbb9af2",
   "metadata": {},
   "outputs": [],
   "source": [
    "# Definition for a binary tree node.\n",
    "# class TreeNode(object):\n",
    "#     def __init__(self, val=0, left=None, right=None):\n",
    "#         self.val = val\n",
    "#         self.left = left\n",
    "#         self.right = right\n",
    "class Solution(object):\n",
    "    def isSameTree(self, p, q):\n",
    "        \"\"\"\n",
    "        :type p: TreeNode\n",
    "        :type q: TreeNode\n",
    "        :rtype: bool\n",
    "        \"\"\"\n",
    "        if not p and not q:\n",
    "            return True\n",
    "        if not p or not q:\n",
    "            return False\n",
    "        return p.val == q.val and self.isSameTree(p.left,q.left) and self.isSameTree(p.right,q.right)"
   ]
  },
  {
   "cell_type": "markdown",
   "id": "5614595c-0b33-4f61-bc6a-940e59a8b497",
   "metadata": {},
   "source": [
    "__#[104](https://leetcode.com/problems/maximum-depth-of-binary-tree)/Maximum Depth of Binary Tree__"
   ]
  },
  {
   "cell_type": "code",
   "execution_count": 18,
   "id": "c7fc99fb-7a83-4f20-a864-cf8f28969c0b",
   "metadata": {},
   "outputs": [],
   "source": [
    "# Definition for a binary tree node.\n",
    "# class TreeNode(object):\n",
    "#     def __init__(self, val=0, left=None, right=None):\n",
    "#         self.val = val\n",
    "#         self.left = left\n",
    "#         self.right = right\n",
    "class Solution(object):\n",
    "    def maxDepth(self, root):\n",
    "        \"\"\"\n",
    "        :type root: TreeNode\n",
    "        :rtype: int\n",
    "        \"\"\"\n",
    "        if root == None:\n",
    "            return 0\n",
    "\n",
    "        left_depth = self.maxDepth(root.left)\n",
    "        right_depth = self.maxDepth(root.right)\n",
    "        return 1 + max(left_depth, right_depth)"
   ]
  },
  {
   "cell_type": "markdown",
   "id": "54b8d84d-e659-486c-a6d9-5cf5ee1ebbb4",
   "metadata": {},
   "source": [
    "__#[112](https://leetcode.com/problems/path-sum)/Path Sum__"
   ]
  },
  {
   "cell_type": "code",
   "execution_count": 19,
   "id": "f5e78045-b953-4809-be81-96a5f2dfb38c",
   "metadata": {},
   "outputs": [],
   "source": [
    "# Definition for a binary tree node.\n",
    "# class TreeNode(object):\n",
    "#     def __init__(self, val=0, left=None, right=None):\n",
    "#         self.val = val\n",
    "#         self.left = left\n",
    "#         self.right = right\n",
    "class Solution(object):\n",
    "    def hasPathSum(self, root, targetSum):\n",
    "        \"\"\"\n",
    "        :type root: TreeNode\n",
    "        :type targetSum: int\n",
    "        :rtype: bool\n",
    "        \"\"\"\n",
    "        if not root:\n",
    "            return False\n",
    "        \n",
    "        if not root.left and not root.right:\n",
    "            return targetSum == root.val\n",
    "        \n",
    "        left_sum = self.hasPathSum(root.left, targetSum - root.val)\n",
    "        right_sum = self.hasPathSum(root.right, targetSum - root.val)\n",
    "        \n",
    "        return left_sum or right_sum"
   ]
  },
  {
   "cell_type": "markdown",
   "id": "c669926f-4849-47be-baac-8f87c111fcf3",
   "metadata": {},
   "source": [
    "__#[118](https://leetcode.com/problems/pascals-triangle)/Pascal's Triangle__"
   ]
  },
  {
   "cell_type": "code",
   "execution_count": 20,
   "id": "5481c1f9-1416-4227-ab59-9226536f21bd",
   "metadata": {},
   "outputs": [],
   "source": [
    "class Solution(object):\n",
    "    def generate(self, numRows):\n",
    "        \"\"\"\n",
    "        :type numRows: int\n",
    "        :rtype: List[List[int]]\n",
    "        \"\"\"\n",
    "        ans = [[1]]\n",
    "        \n",
    "        for n in range(1, numRows):\n",
    "            nextRow = [1]\n",
    "            \n",
    "            for m in range(n-1):\n",
    "                nextRow.append(ans[n-1][m]+ans[n-1][m+1])\n",
    "            \n",
    "            nextRow.append(1)\n",
    "            ans.append(nextRow)\n",
    "            \n",
    "        return ans"
   ]
  },
  {
   "cell_type": "markdown",
   "id": "517ee89d-b54d-4028-a8a7-1caaa47b011d",
   "metadata": {},
   "source": [
    "__#[121](https://leetcode.com/problems/best-time-to-buy-and-sell-stock)/Best Time to Buy and Sell Stock__"
   ]
  },
  {
   "cell_type": "code",
   "execution_count": 21,
   "id": "72ddbea2-38aa-4633-ba0c-05e8e3809dda",
   "metadata": {},
   "outputs": [],
   "source": [
    "class Solution(object):\n",
    "    def maxProfit(self, prices):\n",
    "        \"\"\"\n",
    "        :type prices: List[int]\n",
    "        :rtype: int\n",
    "        \"\"\"\n",
    "        dp = [0] * len(prices)\n",
    "        buy = prices[0]\n",
    "        for i in range(1, len(prices)):\n",
    "            dp[i] = prices[i] - buy\n",
    "            buy = min(buy, prices[i])\n",
    "        return max(dp)"
   ]
  },
  {
   "cell_type": "markdown",
   "id": "3dba4865-0201-4aca-bc14-d8b588f4c030",
   "metadata": {},
   "source": [
    "__#[125](https://leetcode.com/problems/valid-palindrome)/Valid Palindrome__"
   ]
  },
  {
   "cell_type": "code",
   "execution_count": 22,
   "id": "fbdbb9a8-338c-4d27-b376-f65d40bf5b06",
   "metadata": {},
   "outputs": [],
   "source": [
    "class Solution(object):\n",
    "    def isPalindrome(self, s):\n",
    "        \"\"\"\n",
    "        :type s: str\n",
    "        :rtype: bool\n",
    "        \"\"\"\n",
    "        string=[]\n",
    "\n",
    "        for i in s:\n",
    "            if i.isalnum():\n",
    "                string.append(i.lower())\n",
    "            else:\n",
    "                continue\n",
    "        index_comp=(len(string)+1)//2\n",
    "        for i in range(index_comp):\n",
    "            if string[i]==string[len(string)-1-i]:\n",
    "                continue\n",
    "            else:\n",
    "                return False\n",
    "        return True"
   ]
  },
  {
   "cell_type": "markdown",
   "id": "26546e74-0e57-4688-b667-4360301005bd",
   "metadata": {},
   "source": [
    "__#[136](https://leetcode.com/problems/single-number)/Single Number__"
   ]
  },
  {
   "cell_type": "code",
   "execution_count": 23,
   "id": "dda72b6d-24c8-40fa-9e44-2b4e8af2fa3d",
   "metadata": {},
   "outputs": [],
   "source": [
    "class Solution(object):\n",
    "    def singleNumber(self, nums):\n",
    "        \"\"\"\n",
    "        :type nums: List[int]\n",
    "        :rtype: int\n",
    "        \"\"\"\n",
    "        s = set()\n",
    "        for i in nums:\n",
    "            if i not in s: \n",
    "                s.add(i)\n",
    "            else:\n",
    "                s.remove(i)\n",
    "        return list(s)[0]"
   ]
  },
  {
   "cell_type": "markdown",
   "id": "f495679f-0664-48e9-927a-3198ddf0172c",
   "metadata": {},
   "source": [
    "__#[160](https://leetcode.com/problems/intersection-of-two-linked-lists)/Intersection of Two Linked Lists__"
   ]
  },
  {
   "cell_type": "code",
   "execution_count": 24,
   "id": "9e894e30-28b0-4389-905d-eb118c0986fe",
   "metadata": {},
   "outputs": [],
   "source": [
    "# Definition for singly-linked list.\n",
    "# class ListNode(object):\n",
    "#     def __init__(self, x):\n",
    "#         self.val = x\n",
    "#         self.next = None\n",
    "\n",
    "class Solution(object):\n",
    "    def getIntersectionNode(self, headA, headB):\n",
    "        \"\"\"\n",
    "        :type head1, head1: ListNode\n",
    "        :rtype: ListNode\n",
    "        \"\"\"\n",
    "        if headA is None or headB is None:\n",
    "            return None\n",
    "        \n",
    "        l1,l2 = headA, headB\n",
    "        while l1 != l2:\n",
    "            l1 = l1.next if l1 else headB\n",
    "            l2 = l2.next if l2 else headA\n",
    "        return l1 "
   ]
  },
  {
   "cell_type": "markdown",
   "id": "b70b6592-a07d-4b33-ad5a-765fe94554ef",
   "metadata": {},
   "source": [
    "__#[168](https://leetcode.com/problems/excel-sheet-column-title)/Excel Sheet Column Title__"
   ]
  },
  {
   "cell_type": "code",
   "execution_count": 25,
   "id": "0dfd2746-7ab2-4123-9210-766d67fabefc",
   "metadata": {},
   "outputs": [],
   "source": [
    "class Solution(object):\n",
    "    def convertToTitle(self, columnNumber):\n",
    "        \"\"\"\n",
    "        :type columnNumber: int\n",
    "        :rtype: str\n",
    "        \"\"\"\n",
    "        result = []\n",
    "        while columnNumber:\n",
    "            columnNumber, remainder = divmod(columnNumber - 1, 26)\n",
    "            result.append(chr(65 + remainder))\n",
    "        return ''.join(reversed(result))"
   ]
  },
  {
   "cell_type": "markdown",
   "id": "6d8b0f75-7e2f-4c06-b8ea-1ab13480f009",
   "metadata": {},
   "source": [
    "__#[169](https://leetcode.com/problems/majority-element)/Majority Element__"
   ]
  },
  {
   "cell_type": "code",
   "execution_count": 26,
   "id": "ae2635a7-7014-4025-895e-cc623b3c8bf6",
   "metadata": {},
   "outputs": [],
   "source": [
    "class Solution(object):\n",
    "    def majorityElement(self, nums):\n",
    "        \"\"\"\n",
    "        :type nums: List[int]\n",
    "        :rtype: int\n",
    "        \"\"\"\n",
    "        return Counter(nums).most_common(1)[0][0]"
   ]
  },
  {
   "cell_type": "markdown",
   "id": "5063bc57-bd44-4346-8ea9-ff4709bca72a",
   "metadata": {},
   "source": [
    "__#[171](https://leetcode.com/problems/excel-sheet-column-number)/Excel Sheet Column Number__"
   ]
  },
  {
   "cell_type": "code",
   "execution_count": 27,
   "id": "b4d81039-78ab-4e69-bbf0-d082bc4b4eda",
   "metadata": {},
   "outputs": [],
   "source": [
    "class Solution(object):\n",
    "    def titleToNumber(self, columnTitle):\n",
    "        \"\"\"\n",
    "        :type columnTitle: str\n",
    "        :rtype: int\n",
    "        \"\"\"\n",
    "        dic={\"A\":1,\"B\":2,\"C\":3,\"D\":4,\"E\":5,\"F\":6,\"G\":7,\"H\":8,\"I\":9,\"J\":10,\"K\":11,\"L\":12,\"M\":13,\"N\":14,\"O\":15,\"P\":16,\"Q\":17,\"R\":18,\"S\":19,\"T\":20,\"U\":21,\"V\":22,\"W\":23,\"X\":24,\"Y\":25,\"Z\":26}\n",
    "        total = 0\n",
    "        j = 0\n",
    "        for i in range(len(columnTitle)-1,-1,-1):\n",
    "            total=total+((26**j)*dic[columnTitle[i]])\n",
    "            j += 1\n",
    "        return total"
   ]
  },
  {
   "cell_type": "markdown",
   "id": "f5ea2b86-6006-4e1f-b0b0-a3023755bc8e",
   "metadata": {},
   "source": [
    "__#[190](https://leetcode.com/problems/reverse-bits)/Reverse Bits__"
   ]
  },
  {
   "cell_type": "code",
   "execution_count": 31,
   "id": "f9968f11-5a13-432b-9ce8-c36bdb289670",
   "metadata": {},
   "outputs": [],
   "source": [
    "class Solution:\n",
    "    # @param n, an integer\n",
    "    # @return an integer\n",
    "    def reverseBits(self, n):\n",
    "        res = 0\n",
    "        for _ in range(32):\n",
    "            lsb = n & 1\n",
    "            res = res << 1\n",
    "            res = res | lsb\n",
    "            n = n >> 1\n",
    "        return res "
   ]
  },
  {
   "cell_type": "markdown",
   "id": "78964f8a-e68f-44d9-8838-10356c656d6e",
   "metadata": {},
   "source": [
    "__#[191](https://leetcode.com/problems/number-of-1-bits)/Number of 1 Bits__"
   ]
  },
  {
   "cell_type": "code",
   "execution_count": 32,
   "id": "08fb01da-9db8-4aee-96ff-9d9e112a3ae6",
   "metadata": {},
   "outputs": [],
   "source": [
    "class Solution(object):\n",
    "    def hammingWeight(self, n):\n",
    "        \"\"\"\n",
    "        :type n: int\n",
    "        :rtype: int\n",
    "        \"\"\"\n",
    "        return str(bin(n)).count('1')"
   ]
  },
  {
   "cell_type": "markdown",
   "id": "daf3643f-1e25-43be-828e-79bb5bf0eec4",
   "metadata": {},
   "source": [
    "__#[202](https://leetcode.com/problems/happy-number)/Happy Number__"
   ]
  },
  {
   "cell_type": "code",
   "execution_count": 33,
   "id": "1aa2127f-0db4-4dd7-a6af-f8ce6d6e912f",
   "metadata": {},
   "outputs": [],
   "source": [
    "class Solution(object):\n",
    "    def isHappy(self, n):\n",
    "        \"\"\"\n",
    "        :type n: int\n",
    "        :rtype: bool\n",
    "        \"\"\"\n",
    "        current_number = n\n",
    "        number = 0\n",
    "        numbers = {}\n",
    "        \n",
    "        while True:\n",
    "            for i in str(current_number):\n",
    "                number += int(i) ** 2\n",
    "            if number == 1:\n",
    "                return True\n",
    "            if number in numbers:\n",
    "                return False\n",
    "            numbers[number] = 0\n",
    "            current_number = number\n",
    "            number = 0"
   ]
  },
  {
   "cell_type": "markdown",
   "id": "6190752a-3290-4b87-8b05-191818b3f7c1",
   "metadata": {},
   "source": [
    "__#[203](https://leetcode.com/problems/remove-linked-list-elements)/Remove Linked List Elements__"
   ]
  },
  {
   "cell_type": "code",
   "execution_count": 34,
   "id": "6748410f-f01c-4a8a-8020-2455508eafb2",
   "metadata": {},
   "outputs": [],
   "source": [
    "# Definition for singly-linked list.\n",
    "# class ListNode(object):\n",
    "#     def __init__(self, val=0, next=None):\n",
    "#         self.val = val\n",
    "#         self.next = next\n",
    "class Solution(object):\n",
    "    def removeElements(self, head, val):\n",
    "        \"\"\"\n",
    "        :type head: ListNode\n",
    "        :type val: int\n",
    "        :rtype: ListNode\n",
    "        \"\"\"\n",
    "        while head and head.val == val:\n",
    "            head = head.next\n",
    "\n",
    "        current = head\n",
    "\n",
    "        # Second loop\n",
    "        while current:\n",
    "            while current and current.next and current.next.val == val:\n",
    "                current.next = current.next.next\n",
    "            current = current.next\n",
    "        return head"
   ]
  },
  {
   "cell_type": "markdown",
   "id": "53f8671c-4c46-4c59-97a4-96bd6e1ae3c4",
   "metadata": {},
   "source": [
    "__#[205](https://leetcode.com/problems/isomorphic-strings)/Isomorphic Strings__"
   ]
  },
  {
   "cell_type": "code",
   "execution_count": 35,
   "id": "4f80743e-fb74-45a0-876a-747899124700",
   "metadata": {},
   "outputs": [],
   "source": [
    "class Solution(object):\n",
    "    def isIsomorphic(self, s, t):\n",
    "        \"\"\"\n",
    "        :type s: str\n",
    "        :type t: str\n",
    "        :rtype: bool\n",
    "        \"\"\"\n",
    "        if len(s) != len(t):\n",
    "            return False\n",
    "\n",
    "        mapS2T = {}\n",
    "        mapT2S = {}\n",
    "\n",
    "        for charS, charT in zip(s, t):\n",
    "            if charS in mapS2T:\n",
    "                if mapS2T[charS] != charT:\n",
    "                    return False\n",
    "            else:\n",
    "                if charT in mapT2S:\n",
    "                    return False\n",
    "\n",
    "                mapS2T[charS] = charT\n",
    "                mapT2S[charT] = charS\n",
    "\n",
    "        return True"
   ]
  },
  {
   "cell_type": "markdown",
   "id": "218216cb-de22-4458-829d-7fb36861baee",
   "metadata": {},
   "source": [
    "__#[206](https://leetcode.com/problems/reverse-linked-list)/Reverse Linked List__"
   ]
  },
  {
   "cell_type": "code",
   "execution_count": 36,
   "id": "bcc9e3d7-d924-48d9-8857-97df0c9bed54",
   "metadata": {},
   "outputs": [],
   "source": [
    "# Definition for singly-linked list.\n",
    "# class ListNode(object):\n",
    "#     def __init__(self, val=0, next=None):\n",
    "#         self.val = val\n",
    "#         self.next = next\n",
    "class Solution(object):\n",
    "    def reverseList(self, head):\n",
    "        \"\"\"\n",
    "        :type head: ListNode\n",
    "        :rtype: ListNode\n",
    "        \"\"\"\n",
    "        prev = None\n",
    "        current = head\n",
    "        while current is not None:\n",
    "            next_node = current.next\n",
    "            current.next = prev\n",
    "            prev = current\n",
    "            current = next_node\n",
    "        return prev"
   ]
  },
  {
   "cell_type": "markdown",
   "id": "273a56b8-702d-4229-a22b-fe0c3471a3de",
   "metadata": {},
   "source": [
    "__#[217](https://leetcode.com/problems/contains-duplicate)/Contains Duplicate__"
   ]
  },
  {
   "cell_type": "code",
   "execution_count": 37,
   "id": "b16c6011-eb21-431b-95ee-3693834fbb22",
   "metadata": {},
   "outputs": [],
   "source": [
    "class Solution(object):\n",
    "    def containsDuplicate(self, nums):\n",
    "        \"\"\"\n",
    "        :type nums: List[int]\n",
    "        :rtype: bool\n",
    "        \"\"\"\n",
    "        a = set()\n",
    "        for i in range(len(nums)):\n",
    "            if nums[i] not in a:\n",
    "                a.add(nums[i])\n",
    "            else:\n",
    "                return True\n",
    "        return False"
   ]
  },
  {
   "cell_type": "markdown",
   "id": "692b2530-bd95-45d5-923c-881cd4657189",
   "metadata": {},
   "source": [
    "__#[219](https://leetcode.com/problems/contains-duplicate-ii)/Contains Duplicate II__"
   ]
  },
  {
   "cell_type": "code",
   "execution_count": 38,
   "id": "ed3eaa48-d3ea-4fe5-b52b-331cbae1cf70",
   "metadata": {},
   "outputs": [],
   "source": [
    "class Solution(object):\n",
    "    def containsNearbyDuplicate(self, nums, k):\n",
    "        \"\"\"\n",
    "        :type nums: List[int]\n",
    "        :type k: int\n",
    "        :rtype: bool\n",
    "        \"\"\"\n",
    "        hset = {}\n",
    "        for idx in range(len(nums)):\n",
    "            if nums[idx] in hset and abs(idx - hset[nums[idx]]) <= k:\n",
    "                return True\n",
    "            hset[nums[idx]] = idx\n",
    "        return False"
   ]
  },
  {
   "cell_type": "markdown",
   "id": "7b7ebd2c-2db6-400a-8bc1-32fdc85be0b1",
   "metadata": {},
   "source": [
    "__#[226](https://leetcode.com/problems/invert-binary-tree)/Invert Binary Tree__"
   ]
  },
  {
   "cell_type": "code",
   "execution_count": 39,
   "id": "bbd83ace-eae6-4e59-8522-e6b3e64fde70",
   "metadata": {},
   "outputs": [],
   "source": [
    "# Definition for a binary tree node.\n",
    "# class TreeNode(object):\n",
    "#     def __init__(self, val=0, left=None, right=None):\n",
    "#         self.val = val\n",
    "#         self.left = left\n",
    "#         self.right = right\n",
    "class Solution(object):\n",
    "    def invertTree(self, root):\n",
    "        \"\"\"\n",
    "        :type root: TreeNode\n",
    "        :rtype: TreeNode\n",
    "        \"\"\"\n",
    "        if root:\n",
    "            invert = self.invertTree\n",
    "            root.left, root.right = invert(root.right), invert(root.left)\n",
    "            return root"
   ]
  },
  {
   "cell_type": "markdown",
   "id": "f21cc6c4-b0b2-46c1-b72e-8b9d05df0fc6",
   "metadata": {},
   "source": [
    "__#[228](https://leetcode.com/problems/summary-ranges)/Summary Ranges__"
   ]
  },
  {
   "cell_type": "code",
   "execution_count": 40,
   "id": "3851ad29-5925-42f8-b7dc-317f5eda1c35",
   "metadata": {},
   "outputs": [],
   "source": [
    "class Solution(object):\n",
    "    def summaryRanges(self, nums):\n",
    "        \"\"\"\n",
    "        :type nums: List[int]\n",
    "        :rtype: List[str]\n",
    "        \"\"\"\n",
    "        if len(nums) == 0:\n",
    "            return []\n",
    "        k = []\n",
    "        i = 0\n",
    "        while i <= len(nums)-1:\n",
    "            j = i\n",
    "            r = []\n",
    "            while j <= len(nums)-1:\n",
    "                if nums[j]+1 in nums:\n",
    "                    r.append(nums[j])\n",
    "                    j += 1\n",
    "                else:\n",
    "                    r.append(nums[j])\n",
    "                    j += 1\n",
    "                    break\n",
    "            if len(r) != 1:\n",
    "                k.append(str(r[0])+'->'+str(r[-1]))\n",
    "            else:\n",
    "                k.append(str(r[0]))\n",
    "            i = j\n",
    "        return k"
   ]
  },
  {
   "cell_type": "markdown",
   "id": "0a1f1631-05c9-41b6-8146-f3c2246d50fd",
   "metadata": {},
   "source": [
    "__#[231](https://leetcode.com/problems/power-of-two/)/Power of Two__"
   ]
  },
  {
   "cell_type": "code",
   "execution_count": 41,
   "id": "c730536a-5d70-47a4-8a0d-9f29bc653059",
   "metadata": {},
   "outputs": [],
   "source": [
    "class Solution(object):\n",
    "    def isPowerOfTwo(self, n):\n",
    "        \"\"\"\n",
    "        :type n: int\n",
    "        :rtype: bool\n",
    "        \"\"\"\n",
    "        if n <= 0:\n",
    "            return False\n",
    "        if n == 1:\n",
    "            return True\n",
    "        while n % 2 == 0:\n",
    "            n = n / 2\n",
    "        return n == 1"
   ]
  },
  {
   "cell_type": "markdown",
   "id": "974c3941-3efe-4b04-b1b9-867bb86448e9",
   "metadata": {},
   "source": [
    "__#[258](https://leetcode.com/problems/add-digits)/Add Digits__"
   ]
  },
  {
   "cell_type": "code",
   "execution_count": 42,
   "id": "0cf5b2e3-3a11-48ef-b1b1-af462b575e3c",
   "metadata": {},
   "outputs": [],
   "source": [
    "class Solution(object):\n",
    "    def addDigits(self, num):\n",
    "        \"\"\"\n",
    "        :type num: int\n",
    "        :rtype: int\n",
    "        \"\"\"\n",
    "        while(num>=10):\n",
    "            num = sum(int(digit) for digit in str(num))\n",
    "        return num"
   ]
  },
  {
   "cell_type": "markdown",
   "id": "efc956a8-6ed5-49b5-9fd6-d8b7dec333e2",
   "metadata": {},
   "source": [
    "__#[263](https://leetcode.com/problems/ugly-number)/Ugly Number__"
   ]
  },
  {
   "cell_type": "code",
   "execution_count": 43,
   "id": "624e603c-0df2-46c7-b6b0-64c4b33178b0",
   "metadata": {},
   "outputs": [],
   "source": [
    "class Solution(object):\n",
    "    def isUgly(self, n):\n",
    "        \"\"\"\n",
    "        :type n: int\n",
    "        :rtype: bool\n",
    "        \"\"\"\n",
    "        if n < 1: return False\n",
    "        if n == 1: return True\n",
    "\n",
    "        good = set([2, 3, 5])\n",
    "\n",
    "        def ugly(a, base):\n",
    "            if a in good:\n",
    "                return True\n",
    "            if a % base != 0:\n",
    "                return False\n",
    "            new_a = a // base\n",
    "            return ugly(new_a, 2) or ugly(new_a, 3) or ugly(new_a, 5)\n",
    "\n",
    "        return ugly(n, 2) or ugly(n, 3) or ugly(n, 5)"
   ]
  },
  {
   "cell_type": "markdown",
   "id": "8f2bddc3-a417-48b8-916e-f9dc33fa1418",
   "metadata": {},
   "source": [
    "__#[268](https://leetcode.com/problems/missing-number)/Missing Number__"
   ]
  },
  {
   "cell_type": "code",
   "execution_count": 44,
   "id": "39c7848d-b157-4dc8-a775-f9b6998abcbd",
   "metadata": {},
   "outputs": [],
   "source": [
    "class Solution(object):\n",
    "    def missingNumber(self, nums):\n",
    "        \"\"\"\n",
    "        :type nums: List[int]\n",
    "        :rtype: int\n",
    "        \"\"\"\n",
    "        num_dict = {}\n",
    "        for i in nums:\n",
    "            if i not in num_dict:\n",
    "                num_dict[i] = 1\n",
    "                \n",
    "        for j in range(len(nums)+1):\n",
    "            if j not in num_dict:\n",
    "                return j"
   ]
  },
  {
   "cell_type": "markdown",
   "id": "6c6304b8-9170-4b46-9992-28e8a2439d0a",
   "metadata": {},
   "source": [
    "__#[278](https://leetcode.com/problems/first-bad-version)/First Bad Version__"
   ]
  },
  {
   "cell_type": "code",
   "execution_count": 45,
   "id": "f13f6130-5a16-4262-8981-768bcf2855e6",
   "metadata": {},
   "outputs": [],
   "source": [
    "# The isBadVersion API is already defined for you.\n",
    "# @param version, an integer\n",
    "# @return a bool\n",
    "# def isBadVersion(version):\n",
    "\n",
    "class Solution(object):\n",
    "    def firstBadVersion(self, n):\n",
    "        \"\"\"\n",
    "        :type n: int\n",
    "        :rtype: int\n",
    "        \"\"\"\n",
    "        l, r = 1, n\n",
    "        while l <= r:\n",
    "            mid = l+ (r-l)//2\n",
    "            if isBadVersion(mid):\n",
    "                r = mid-1\n",
    "                first_bad = mid\n",
    "            else:\n",
    "                l = mid + 1\n",
    "        \n",
    "        return first_bad"
   ]
  },
  {
   "cell_type": "markdown",
   "id": "158718af-bd68-43a3-817a-437a5a5e207d",
   "metadata": {},
   "source": [
    "__#[283](https://leetcode.com/problems/move-zeroes/)/Move Zeroes__"
   ]
  },
  {
   "cell_type": "code",
   "execution_count": 46,
   "id": "0a4acdd5-bd80-488e-897a-5aef4a305db6",
   "metadata": {},
   "outputs": [],
   "source": [
    "class Solution(object):\n",
    "    def moveZeroes(self, nums):\n",
    "        \"\"\"\n",
    "        :type nums: List[int]\n",
    "        :rtype: None Do not return anything, modify nums in-place instead.\n",
    "        \"\"\"\n",
    "        zeroIndex = 0\n",
    "        currIndex = 0\n",
    "        for i,n in enumerate(nums):\n",
    "            if nums[zeroIndex] != 0 and n == 0:\n",
    "                zeroIndex = i\n",
    "            elif n != 0:\n",
    "                nums[zeroIndex], nums[i] = nums[i], nums[zeroIndex]\n",
    "                zeroIndex += 1 "
   ]
  },
  {
   "cell_type": "markdown",
   "id": "15c2666f-470e-4f6f-9c08-8c2f5c5a0abb",
   "metadata": {},
   "source": [
    "__#[290](https://leetcode.com/problems/word-pattern)/Word Pattern__"
   ]
  },
  {
   "cell_type": "code",
   "execution_count": 47,
   "id": "815a1635-885c-47d2-91cb-40b428ff6ee1",
   "metadata": {},
   "outputs": [],
   "source": [
    "class Solution(object):\n",
    "    def wordPattern(self, pattern, s):\n",
    "        \"\"\"\n",
    "        :type pattern: str\n",
    "        :type s: str\n",
    "        :rtype: bool\n",
    "        \"\"\"\n",
    "        s1 = s.split(\" \")\n",
    "        if len(pattern) != len(s1):\n",
    "            return False\n",
    "        d = {}\n",
    "        for i in range(len(pattern)):\n",
    "            try:\n",
    "                if ((pattern[i] in d) or (s1[i] in d.values())) and (d[pattern[i]] != s1[i]):\n",
    "                    return False\n",
    "            except KeyError:\n",
    "                return False\n",
    "            if s1[i] not in d.values():\n",
    "                d[pattern[i]] = s1[i]\n",
    "        return True"
   ]
  },
  {
   "cell_type": "markdown",
   "id": "b33c10e8-83ae-4e19-99cc-298bc94e66b0",
   "metadata": {},
   "source": [
    "__#[292](https://leetcode.com/problems/nim-game/)/Nim Game__"
   ]
  },
  {
   "cell_type": "code",
   "execution_count": 48,
   "id": "c4b5ea17-c5ff-4558-bb8d-4f460640097a",
   "metadata": {},
   "outputs": [],
   "source": [
    "class Solution(object):\n",
    "    def canWinNim(self, n):\n",
    "        \"\"\"\n",
    "        :type n: int\n",
    "        :rtype: bool\n",
    "        \"\"\"\n",
    "        return n % 4 != 0"
   ]
  },
  {
   "cell_type": "markdown",
   "id": "77a984e1-e809-4246-8199-e806d797fbeb",
   "metadata": {},
   "source": [
    "__#[326](https://leetcode.com/problems/power-of-three)/Power of Three__"
   ]
  },
  {
   "cell_type": "code",
   "execution_count": 49,
   "id": "c447958b-dafa-453e-8466-e632d86c4137",
   "metadata": {},
   "outputs": [],
   "source": [
    "class Solution(object):\n",
    "    def isPowerOfThree(self, n):\n",
    "        \"\"\"\n",
    "        :type n: int\n",
    "        :rtype: bool\n",
    "        \"\"\"\n",
    "        return n > 0 and (math.log10(n) / math.log10(3)) % 1 == 0"
   ]
  },
  {
   "cell_type": "markdown",
   "id": "6aad4299-99b8-4393-9c86-96f7586c53b5",
   "metadata": {},
   "source": [
    "__#[338](https://leetcode.com/problems/counting-bits/)/Counting Bits__"
   ]
  },
  {
   "cell_type": "code",
   "execution_count": 50,
   "id": "56d16070-7d12-495c-a7ec-34bf93ddf5b9",
   "metadata": {},
   "outputs": [],
   "source": [
    "class Solution(object):\n",
    "    def countBits(self, n):\n",
    "        \"\"\"\n",
    "        :type n: int\n",
    "        :rtype: List[int]\n",
    "        \"\"\"\n",
    "        result=[0]*(n+1) \n",
    "        offset=1\n",
    "        for i in range(1,n+1):\n",
    "            if  offset*2 ==i:\n",
    "                offset=i\n",
    "            result[i]=1+result[i-offset]\n",
    "            \n",
    "        return result"
   ]
  },
  {
   "cell_type": "markdown",
   "id": "825989cd-09c7-47f7-9eeb-10cdf96004cd",
   "metadata": {},
   "source": [
    "__#[344](https://leetcode.com/problems/reverse-string/)/Reverse String__"
   ]
  },
  {
   "cell_type": "code",
   "execution_count": 51,
   "id": "ea3359c1-54d9-4070-8871-307b7ff722d0",
   "metadata": {},
   "outputs": [],
   "source": [
    "class Solution(object):\n",
    "    def reverseString(self, s):\n",
    "        \"\"\"\n",
    "        :type s: List[str]\n",
    "        :rtype: None Do not return anything, modify s in-place instead.\n",
    "        \"\"\"\n",
    "        i = 0\n",
    "        j = len(s) - 1\n",
    "        while i < j:\n",
    "            s[i], s[j] = s[j], s[i]\n",
    "            i += 1\n",
    "            j -= 1"
   ]
  },
  {
   "cell_type": "markdown",
   "id": "4f570d1a-d86e-47b3-bad4-912ac8fff589",
   "metadata": {},
   "source": [
    "__#[349](https://leetcode.com/problems/intersection-of-two-arrays/)/Intersection of Two Arrays__"
   ]
  },
  {
   "cell_type": "code",
   "execution_count": 52,
   "id": "8e5ddd77-ce0d-40cf-95d6-56115e6ba02b",
   "metadata": {},
   "outputs": [],
   "source": [
    "class Solution(object):\n",
    "    def intersection(self, nums1, nums2):\n",
    "        \"\"\"\n",
    "        :type nums1: List[int]\n",
    "        :type nums2: List[int]\n",
    "        :rtype: List[int]\n",
    "        \"\"\"\n",
    "        nums1 = set(nums1)\n",
    "        nums2 = set(nums2)\n",
    "        intersection_set = nums1.intersection(nums2)\n",
    "        intersection_list = list(intersection_set)\n",
    "        return intersection_list"
   ]
  },
  {
   "cell_type": "markdown",
   "id": "6a324760-3006-4018-9682-30a21a4c115c",
   "metadata": {},
   "source": [
    "__#[350](https://leetcode.com/problems/intersection-of-two-arrays-ii)/Intersection of Two Arrays II__"
   ]
  },
  {
   "cell_type": "code",
   "execution_count": 53,
   "id": "b4e9431f-f0ca-4bf8-adfd-c6b18352ca53",
   "metadata": {},
   "outputs": [],
   "source": [
    "class Solution(object):\n",
    "    def intersect(self, nums1, nums2):\n",
    "        \"\"\"\n",
    "        :type nums1: List[int]\n",
    "        :type nums2: List[int]\n",
    "        :rtype: List[int]\n",
    "        \"\"\"\n",
    "        counts = {}\n",
    "        res = []\n",
    "\n",
    "        for num in nums1:\n",
    "            counts[num] = counts.get(num, 0) + 1\n",
    "\n",
    "        for num in nums2:\n",
    "            if num in counts and counts[num] > 0:\n",
    "                res.append(num)\n",
    "                counts[num] -= 1\n",
    "\n",
    "        return res"
   ]
  },
  {
   "cell_type": "markdown",
   "id": "2e016fc0-0a6b-4f7c-96d4-c10a443f6465",
   "metadata": {},
   "source": [
    "__#[367](https://leetcode.com/problems/valid-perfect-square)/Valid Perfect Square__"
   ]
  },
  {
   "cell_type": "code",
   "execution_count": 54,
   "id": "270232f7-2285-4ae1-b9ed-2e0d6d624fda",
   "metadata": {},
   "outputs": [],
   "source": [
    "class Solution(object):\n",
    "    def isPerfectSquare(self, num):\n",
    "        \"\"\"\n",
    "        :type num: int\n",
    "        :rtype: bool\n",
    "        \"\"\"\n",
    "        if num >= 0 and num < 2:\n",
    "            return True\n",
    "        else:\n",
    "            i = 0\n",
    "            j = 1\n",
    "            while i <= num:\n",
    "                if i == num:\n",
    "                    return True\n",
    "                i += j\n",
    "                j += 2\n",
    "            return False"
   ]
  },
  {
   "cell_type": "markdown",
   "id": "dbe5cf1b-72d9-4161-a29a-5b24a3e83fac",
   "metadata": {},
   "source": [
    "__#[392](https://leetcode.com/problems/is-subsequence)/Is Subsequence__"
   ]
  },
  {
   "cell_type": "code",
   "execution_count": 55,
   "id": "7ad1e462-57e4-4f1d-8b0c-15b5ab1be20e",
   "metadata": {},
   "outputs": [],
   "source": [
    "class Solution(object):\n",
    "    def isSubsequence(self, s, t):\n",
    "        \"\"\"\n",
    "        :type s: str\n",
    "        :type t: str\n",
    "        :rtype: bool\n",
    "        \"\"\"\n",
    "        if len(s) > len(t):\n",
    "            return False\n",
    "        if len(s) == 0:\n",
    "            return True\n",
    "        subsequence=0\n",
    "        for i in range(0,len(t)):\n",
    "            if subsequence <= len(s) -1:\n",
    "                print(s[subsequence])\n",
    "                if s[subsequence] == t[i]:\n",
    "\n",
    "                    subsequence += 1\n",
    "        return  subsequence == len(s)"
   ]
  },
  {
   "cell_type": "markdown",
   "id": "b83b974b-ddd5-4138-8409-5939ec951002",
   "metadata": {},
   "source": [
    "__#[405](https://leetcode.com/problems/convert-a-number-to-hexadecimal)/Convert a Number to Hexadecimal__"
   ]
  },
  {
   "cell_type": "code",
   "execution_count": 56,
   "id": "0e23b651-a139-4269-8302-4cc125e21e46",
   "metadata": {},
   "outputs": [],
   "source": [
    "class Solution(object):\n",
    "    def toHex(self, num):\n",
    "        \"\"\"\n",
    "        :type num: int\n",
    "        :rtype: str\n",
    "        \"\"\"\n",
    "        if num == 0:\n",
    "            return '0'\n",
    "    \n",
    "        if num < 0:\n",
    "            num = (1 << 32) + num\n",
    "    \n",
    "        hex_digits = '0123456789abcdef'\n",
    "    \n",
    "        hex_num = ''     \n",
    "    \n",
    "        while num > 0:\n",
    "            digit = num % 16 \n",
    "            hex_digit = hex_digits[digit]\n",
    "            hex_num = hex_digit + hex_num \n",
    "            num //= 16 \n",
    "        return hex_num"
   ]
  },
  {
   "cell_type": "markdown",
   "id": "4b92bed6-e36c-4581-a1cb-e35c0afc939c",
   "metadata": {},
   "source": [
    "__#[409](https://leetcode.com/problems/longest-palindrome)/Longest Palindrome__"
   ]
  },
  {
   "cell_type": "code",
   "execution_count": 57,
   "id": "7e85d3c4-1aff-42a8-a119-dbef232cd88a",
   "metadata": {},
   "outputs": [],
   "source": [
    "class Solution(object):\n",
    "    def longestPalindrome(self, s):\n",
    "        \"\"\"\n",
    "        :type s: str\n",
    "        :rtype: int\n",
    "        \"\"\"\n",
    "        ss = set()\n",
    "        for letter in s:\n",
    "            if letter not in ss:\n",
    "                ss.add(letter)\n",
    "            else:\n",
    "                ss.remove(letter)\n",
    "        if len(ss) != 0:\n",
    "            return len(s) - len(ss) + 1\n",
    "        else:\n",
    "            return len(s)"
   ]
  },
  {
   "cell_type": "markdown",
   "id": "2eaa3687-3320-4e10-bc7d-84819117bc40",
   "metadata": {},
   "source": [
    "__#[412](https://leetcode.com/problems/fizz-buzz)/Fizz Buzz__"
   ]
  },
  {
   "cell_type": "code",
   "execution_count": 58,
   "id": "470097e5-dde5-4561-a0b7-b00442230816",
   "metadata": {},
   "outputs": [],
   "source": [
    "class Solution(object):\n",
    "    def fizzBuzz(self, n):\n",
    "        \"\"\"\n",
    "        :type n: int\n",
    "        :rtype: List[str]\n",
    "        \"\"\"\n",
    "        result = []\n",
    "        for i in range(n):\n",
    "            if (i+1)%3 == 0 and (i+1)%5 == 0:\n",
    "                result.append(\"FizzBuzz\")\n",
    "            elif (i+1)%3 == 0:\n",
    "                result.append(\"Fizz\")\n",
    "            elif (i+1)%5 == 0:\n",
    "                result.append(\"Buzz\")\n",
    "            else:\n",
    "                result.append(str(i+1))\n",
    "        return result"
   ]
  },
  {
   "cell_type": "markdown",
   "id": "02845807-f1f9-46f4-b51e-93abf69fb0b1",
   "metadata": {},
   "source": [
    "__#[414](https://leetcode.com/problems/third-maximum-number)/Third Maximum Number__"
   ]
  },
  {
   "cell_type": "code",
   "execution_count": 59,
   "id": "a8127f2e-46a7-424d-a2f5-8194f49e93f3",
   "metadata": {},
   "outputs": [],
   "source": [
    "class Solution(object):\n",
    "    def thirdMax(self, nums):\n",
    "        \"\"\"\n",
    "        :type nums: List[int]\n",
    "        :rtype: int\n",
    "        \"\"\"\n",
    "        if len(nums) >= 3:\n",
    "            checked = set()\n",
    "            count = 0\n",
    "            nums.sort()\n",
    "            for i in range(len(nums) - 1, -1, -1):\n",
    "                if nums[i] not in checked and count == 2:\n",
    "                    return nums[i]\n",
    "                elif nums[i] not in checked:\n",
    "                    checked.add(nums[i])\n",
    "                    count += 1\n",
    "            return max(nums)\n",
    "        else:\n",
    "            return max(nums)"
   ]
  },
  {
   "cell_type": "markdown",
   "id": "f9cbc381-3d76-4e06-be35-a2a022c34e4e",
   "metadata": {},
   "source": [
    "__#[415](https://leetcode.com/problems/add-strings)/Add Strings__"
   ]
  },
  {
   "cell_type": "code",
   "execution_count": 60,
   "id": "c6abe3d6-0918-49f1-b44d-cc0ec5409d21",
   "metadata": {},
   "outputs": [],
   "source": [
    "class Solution(object):\n",
    "    def addStrings(self, num1, num2):\n",
    "        \"\"\"\n",
    "        :type num1: str\n",
    "        :type num2: str\n",
    "        :rtype: str\n",
    "        \"\"\"\n",
    "        n1 = int(num1)\n",
    "        n2 = int(num2)\n",
    "        st = str(n1 + n2)\n",
    "        return st"
   ]
  },
  {
   "cell_type": "markdown",
   "id": "40a67081-4faf-49da-a0c7-d72b78991b8a",
   "metadata": {},
   "source": [
    "__#[441](https://leetcode.com/problems/arranging-coins)/Arranging Coins__"
   ]
  },
  {
   "cell_type": "code",
   "execution_count": 61,
   "id": "efd18d77-27a2-4746-937b-fbfb0b0ce6b2",
   "metadata": {},
   "outputs": [],
   "source": [
    "class Solution(object):\n",
    "    def arrangeCoins(self, n):\n",
    "        \"\"\"\n",
    "        :type n: int\n",
    "        :rtype: int\n",
    "        \"\"\"\n",
    "        f = 1\n",
    "        l = n\n",
    "\n",
    "        while f<=l:\n",
    "            mid = (f+l)//2\n",
    "            temp = (mid*(mid+1))//2\n",
    "            if temp == n:\n",
    "                return mid\n",
    "            elif temp > n:\n",
    "                l = mid-1\n",
    "            else:\n",
    "                f = mid+1\n",
    "        return l"
   ]
  },
  {
   "cell_type": "markdown",
   "id": "8d661dd1-fe1b-4c74-af82-76cdc11ec184",
   "metadata": {},
   "source": [
    "__#[448](https://leetcode.com/problems/find-all-numbers-disappeared-in-an-array)/Find All Numbers Disappeared in an Array__"
   ]
  },
  {
   "cell_type": "code",
   "execution_count": 62,
   "id": "4f468156-d172-465a-b646-2edcabd1dc1a",
   "metadata": {},
   "outputs": [],
   "source": [
    "class Solution(object):\n",
    "    def findDisappearedNumbers(self, nums):\n",
    "        \"\"\"\n",
    "        :type nums: List[int]\n",
    "        :rtype: List[int]\n",
    "        \"\"\"\n",
    "        a = set(range(1,len(nums)+1))\n",
    "        b = set(nums)\n",
    "        return list(a - b)"
   ]
  },
  {
   "cell_type": "markdown",
   "id": "945b20f9-7fd2-48f3-b4bb-d014c2da39b4",
   "metadata": {},
   "source": [
    "__#[455](https://leetcode.com/problems/assign-cookies)/Assign Cookies__"
   ]
  },
  {
   "cell_type": "code",
   "execution_count": 63,
   "id": "d5920eea-b11e-44ae-a323-ef409b5835eb",
   "metadata": {},
   "outputs": [],
   "source": [
    "class Solution(object):\n",
    "    def findContentChildren(self, g, s):\n",
    "        \"\"\"\n",
    "        :type g: List[int]\n",
    "        :type s: List[int]\n",
    "        :rtype: int\n",
    "        \"\"\"\n",
    "        if len(g) == 0 or len(s) == 0:\n",
    "            return 0\n",
    "    \n",
    "        res = 0\n",
    "        g, s = sorted(g), sorted(s)\n",
    "        while s and g:\n",
    "            cookie = s.pop()\n",
    "            while g:\n",
    "                greed = g.pop()\n",
    "                if greed <= cookie:\n",
    "                    res += 1\n",
    "                    break\n",
    "    \n",
    "        return res"
   ]
  },
  {
   "cell_type": "markdown",
   "id": "1a080538-52f6-49c5-932b-c6bb2ceac27f",
   "metadata": {},
   "source": [
    "__#[492](https://leetcode.com/problems/construct-the-rectangle)/Construct the Rectangle__"
   ]
  },
  {
   "cell_type": "code",
   "execution_count": 64,
   "id": "d21f1e6d-bd9b-4574-b416-c8a8bea2f5ff",
   "metadata": {},
   "outputs": [],
   "source": [
    "class Solution(object):\n",
    "    def constructRectangle(self, area):\n",
    "        \"\"\"\n",
    "        :type area: int\n",
    "        :rtype: List[int]\n",
    "        \"\"\"\n",
    "        for i in range(int(sqrt(area)), 0, -1):\n",
    "            if area % i == 0:\n",
    "                return [area // i, i]"
   ]
  },
  {
   "cell_type": "markdown",
   "id": "506ff835-f833-4d62-be92-77f8de448670",
   "metadata": {},
   "source": [
    "__#[504](https://leetcode.com/problems/base-7)/Base 7__"
   ]
  },
  {
   "cell_type": "code",
   "execution_count": 65,
   "id": "9c4a85eb-2ded-4237-9621-6be64f46173a",
   "metadata": {},
   "outputs": [],
   "source": [
    "class Solution(object):\n",
    "    def convertToBase7(self, num):\n",
    "        \"\"\"\n",
    "        :type num: int\n",
    "        :rtype: str\n",
    "        \"\"\"\n",
    "        s=\"\"\n",
    "        x=0\n",
    "        p=1\n",
    "        if num==0:\n",
    "            return \"0\"\n",
    "        if num<0:\n",
    "            p=-1\n",
    "            num*=-1\n",
    "        while num>0:\n",
    "            t=num//7\n",
    "            s+=str(num%7)\n",
    "            num//=7\n",
    "        \n",
    "        x=int(s[::-1])*p\n",
    "        return str(x)"
   ]
  },
  {
   "cell_type": "markdown",
   "id": "ffa4746d-f94e-4b44-ac11-f265280ba9f1",
   "metadata": {},
   "source": [
    "__#[506](https://leetcode.com/problems/relative-ranks)/Relative Ranks__"
   ]
  },
  {
   "cell_type": "code",
   "execution_count": 66,
   "id": "1bbc4e3c-4865-400d-b93e-466fbfd72173",
   "metadata": {},
   "outputs": [],
   "source": [
    "class Solution(object):\n",
    "    def findRelativeRanks(self, score):\n",
    "        \"\"\"\n",
    "        :type score: List[int]\n",
    "        :rtype: List[str]\n",
    "        \"\"\"\n",
    "        heap = [] # to store score and their indices\n",
    "        res = ['']*len(score)\n",
    "        position = 0\n",
    "\n",
    "        #push each score and index into heap\n",
    "        for i in range(len(score)):\n",
    "            heapq.heappush(heap, (-score[i],i))\n",
    "\n",
    "        #iterate over all the all scores and pop the score with highest value\n",
    "        while position < len(score):\n",
    "            index = heapq.heappop(heap)[1]\n",
    "\n",
    "        #assign ranks based on the order of popping \n",
    "            if position == 0:\n",
    "                res[index] = 'Gold Medal'\n",
    "            elif position == 1:\n",
    "                res[index] = 'Silver Medal'\n",
    "            elif position == 2:\n",
    "                res[index] = 'Bronze Medal'\n",
    "            else:\n",
    "                res[index] = str(position+1)\n",
    "            position += 1\n",
    "        \n",
    "        return res"
   ]
  },
  {
   "cell_type": "markdown",
   "id": "e9740ab7-20a0-48ed-806f-3fe3f161cb17",
   "metadata": {},
   "source": [
    "__#[509](https://leetcode.com/problems/fibonacci-number)/Fibonacci Number__"
   ]
  },
  {
   "cell_type": "code",
   "execution_count": 67,
   "id": "a1373daf-9f64-4aa6-8b3f-6ac706a64615",
   "metadata": {},
   "outputs": [],
   "source": [
    "class Solution(object):\n",
    "    def fib(self, n):\n",
    "        \"\"\"\n",
    "        :type n: int\n",
    "        :rtype: int\n",
    "        \"\"\"\n",
    "        arr = []\n",
    "        arr.append(0)\n",
    "        arr.append(1)\n",
    "        for i in range(n)[1:]:\n",
    "            arr.append(arr[i] + arr[i-1])\n",
    "        return arr[n]"
   ]
  },
  {
   "cell_type": "markdown",
   "id": "c455f8d9-c788-40d7-b078-41f3d3817fae",
   "metadata": {},
   "source": [
    "__#[557](https://leetcode.com/problems/reverse-words-in-a-string-iii)/Reverse Words in a String III__"
   ]
  },
  {
   "cell_type": "code",
   "execution_count": 68,
   "id": "0d91902b-7a56-433f-9df9-16c2a64a63ef",
   "metadata": {},
   "outputs": [],
   "source": [
    "class Solution(object):\n",
    "    def reverseWords(self, s):\n",
    "        \"\"\"\n",
    "        :type s: str\n",
    "        :rtype: str\n",
    "        \"\"\"\n",
    "        return \" \".join([word[::-1] for word in s.split(\" \")])"
   ]
  },
  {
   "cell_type": "markdown",
   "id": "b3137085-a839-4267-8118-44697fda0905",
   "metadata": {},
   "source": [
    "__#[594](https://leetcode.com/problems/longest-harmonious-subsequence)/Longest Harmonious Subsequence__"
   ]
  },
  {
   "cell_type": "code",
   "execution_count": 69,
   "id": "4ee4021f-f2bb-4cca-9591-f6faca828283",
   "metadata": {},
   "outputs": [],
   "source": [
    "class Solution(object):\n",
    "    def findLHS(self, nums):\n",
    "        \"\"\"\n",
    "        :type nums: List[int]\n",
    "        :rtype: int\n",
    "        \"\"\"\n",
    "        count = collections.Counter(nums)\n",
    "        return max([count[n] + count[n + 1] for n in count if n + 1 in count] or [0])"
   ]
  },
  {
   "cell_type": "markdown",
   "id": "fbc94680-f417-4446-8efc-995d12f1c647",
   "metadata": {},
   "source": [
    "__#[598](https://leetcode.com/problems/range-addition-ii)/Range Addition II__"
   ]
  },
  {
   "cell_type": "code",
   "execution_count": 70,
   "id": "4da02862-442a-4e9e-95f0-e2d9ac49df1c",
   "metadata": {},
   "outputs": [],
   "source": [
    "class Solution(object):\n",
    "    def maxCount(self, m, n, ops):\n",
    "        \"\"\"\n",
    "        :type m: int\n",
    "        :type n: int\n",
    "        :type ops: List[List[int]]\n",
    "        :rtype: int\n",
    "        \"\"\"\n",
    "        return min(ops, key=lambda x: x[0])[0]*min(ops, key=lambda x: x[1])[1] if ops else m*n"
   ]
  },
  {
   "cell_type": "markdown",
   "id": "d3e9b211-4b18-4342-82d9-32e8d387b82e",
   "metadata": {},
   "source": [
    "__#[605](https://leetcode.com/problems/can-place-flowers)/Can Place Flowers__"
   ]
  },
  {
   "cell_type": "code",
   "execution_count": 71,
   "id": "f5a4e038-70e1-4fad-8683-b59b084724ca",
   "metadata": {},
   "outputs": [],
   "source": [
    "class Solution(object):\n",
    "    def canPlaceFlowers(self, flowerbed, n):\n",
    "        \"\"\"\n",
    "        :type flowerbed: List[int]\n",
    "        :type n: int\n",
    "        :rtype: bool\n",
    "        \"\"\"\n",
    "        if n == 0 : \n",
    "            return True\n",
    "        if len(flowerbed) == 1 :\n",
    "            if flowerbed[0]== 1 and n==1 :\n",
    "                return False\n",
    "            else : \n",
    "                return True\n",
    "        for i in range(len(flowerbed)):\n",
    "            if i == 0 and flowerbed[i] == 0:\n",
    "                if flowerbed[i+1] == 0 :\n",
    "                    n-=1\n",
    "                    flowerbed[i]=1\n",
    "            elif i == (len(flowerbed)-1)  : \n",
    "                if(flowerbed[i-1] == 0) and flowerbed[i] == 0: \n",
    "                    n-=1\n",
    "                    flowerbed[i]=1\n",
    "            else:\n",
    "                if flowerbed[i-1] == 0 and flowerbed[i+1] == 0 and flowerbed[i]==0 : \n",
    "                    n-=1\n",
    "                    flowerbed[i]=1\n",
    "            if n<1 : \n",
    "                return True\n",
    "        return False"
   ]
  },
  {
   "cell_type": "markdown",
   "id": "3a2a40f8-cb51-41e2-b380-9d8cd8943c9b",
   "metadata": {},
   "source": [
    "__#[628](https://leetcode.com/problems/maximum-product-of-three-numbers)/Maximum Product of Three Numbers__"
   ]
  },
  {
   "cell_type": "code",
   "execution_count": 72,
   "id": "90aca2d0-7bd9-4998-9cab-b5a31de2b8a5",
   "metadata": {},
   "outputs": [],
   "source": [
    "class Solution(object):\n",
    "    def maximumProduct(self, nums):\n",
    "        \"\"\"\n",
    "        :type nums: List[int]\n",
    "        :rtype: int\n",
    "        \"\"\"\n",
    "        a, b = heapq.nlargest(3, nums), heapq.nsmallest(2, nums)\n",
    "        return max(a[0] * a[1] * a[2], b[0] * b[1] * a[0])"
   ]
  },
  {
   "cell_type": "markdown",
   "id": "550a62f1-76d1-4c78-b84f-2f4dd34ae112",
   "metadata": {},
   "source": [
    "__#[645](https://leetcode.com/problems/set-mismatch/)/Set Mismatch__"
   ]
  },
  {
   "cell_type": "code",
   "execution_count": 73,
   "id": "25f638a5-821f-46ec-afa4-8e1e9e83a3b0",
   "metadata": {},
   "outputs": [],
   "source": [
    "class Solution(object):\n",
    "    def findErrorNums(self, nums):\n",
    "        \"\"\"\n",
    "        :type nums: List[int]\n",
    "        :rtype: List[int]\n",
    "        \"\"\"\n",
    "        res = []\n",
    "        for num in nums:\n",
    "            if nums[abs(num)-1] < 0: res.append(abs(num))\n",
    "            nums[abs(num)-1] *= -1\n",
    "        for i, num in enumerate(nums):\n",
    "            if num > 0 and i+1 != res[0]: res.append(i+1)\n",
    "        return res"
   ]
  },
  {
   "cell_type": "markdown",
   "id": "2a0ca200-4298-4f93-acc3-b0e9935d41f6",
   "metadata": {},
   "source": [
    "__#[700](https://leetcode.com/problems/search-in-a-binary-search-tree)/Search in a Binary Search Tree___"
   ]
  },
  {
   "cell_type": "code",
   "execution_count": 74,
   "id": "8e8fe8d1-e4a3-460d-b46c-26e7d4563111",
   "metadata": {},
   "outputs": [],
   "source": [
    "# Definition for a binary tree node.\n",
    "# class TreeNode(object):\n",
    "#     def __init__(self, val=0, left=None, right=None):\n",
    "#         self.val = val\n",
    "#         self.left = left\n",
    "#         self.right = right\n",
    "class Solution(object):\n",
    "    def searchBST(self, root, val):\n",
    "        \"\"\"\n",
    "        :type root: TreeNode\n",
    "        :type val: int\n",
    "        :rtype: TreeNode\n",
    "        \"\"\"\n",
    "        if not root:\n",
    "            return None\n",
    "        if root.val==val:\n",
    "            return root\n",
    "        elif root.val>val:\n",
    "            return self.searchBST(root.left,val)\n",
    "        elif root.val<val:\n",
    "            return self.searchBST(root.right,val)"
   ]
  },
  {
   "cell_type": "markdown",
   "id": "891f138b-ea2b-47f1-9378-d0d07c24a909",
   "metadata": {},
   "source": [
    "__#[709](https://leetcode.com/problems/to-lower-case)/To Lower Case__"
   ]
  },
  {
   "cell_type": "code",
   "execution_count": 75,
   "id": "1c049467-5455-4fc4-9959-5bfc994a47df",
   "metadata": {},
   "outputs": [],
   "source": [
    "class Solution(object):\n",
    "    def toLowerCase(self, s):\n",
    "        \"\"\"\n",
    "        :type s: str\n",
    "        :rtype: str\n",
    "        \"\"\"\n",
    "        lower_case_str = \"\"\n",
    "        for char in s:\n",
    "            ascii_val = ord(char)\n",
    "            if 65 <= ascii_val <= 90:\n",
    "                lower_case_str += chr(ascii_val + 32)\n",
    "            else:\n",
    "                lower_case_str += char\n",
    "        return lower_case_str"
   ]
  },
  {
   "cell_type": "markdown",
   "id": "5d088937-8399-407c-895d-a6c6fdf8534f",
   "metadata": {},
   "source": [
    "__#[747](https://leetcode.com/problems/largest-number-at-least-twice-of-others)/Largest Number At Least Twice of Others__"
   ]
  },
  {
   "cell_type": "code",
   "execution_count": 76,
   "id": "5d81d35c-4549-454b-864b-a20fc10c23a0",
   "metadata": {},
   "outputs": [],
   "source": [
    "class Solution(object):\n",
    "    def dominantIndex(self, nums):\n",
    "        \"\"\"\n",
    "        :type nums: List[int]\n",
    "        :rtype: int\n",
    "        \"\"\"\n",
    "        m_num = float('-inf')\n",
    "        max_idx = -1\n",
    "        smax = float('-inf')\n",
    "        \n",
    "        for i, num in enumerate(nums):\n",
    "            if num > m_num:\n",
    "                sec_max = m_num\n",
    "                m_num = num\n",
    "                max_idx = i\n",
    "            elif num > sec_max:\n",
    "                sec_max = num\n",
    "                \n",
    "        if m_num >= 2 * sec_max:\n",
    "            return max_idx\n",
    "        else:\n",
    "            return -1"
   ]
  },
  {
   "cell_type": "markdown",
   "id": "16fff6b4-beda-4ae4-bdae-88c96b162726",
   "metadata": {},
   "source": [
    "__#[771](https://leetcode.com/problems/jewels-and-stones)/Jewels and Stones__"
   ]
  },
  {
   "cell_type": "code",
   "execution_count": 77,
   "id": "acc2a38e-ce1e-41f9-8337-7d2002f7d90e",
   "metadata": {},
   "outputs": [],
   "source": [
    "class Solution(object):\n",
    "    def numJewelsInStones(self, jewels, stones):\n",
    "        \"\"\"\n",
    "        :type jewels: str\n",
    "        :type stones: str\n",
    "        :rtype: int\n",
    "        \"\"\"\n",
    "        count = 0\n",
    "        for i in stones:\n",
    "            if i in jewels:\n",
    "                count += 1 \n",
    "        return count\n",
    "        return len([i for i in stones if i in jewels])\n",
    "        return sum([stones.count(i) for i in jewels])\n",
    "        return sum([i in jewels for i in stones])"
   ]
  },
  {
   "cell_type": "markdown",
   "id": "ad066900-7623-45a6-863a-5b064001f91d",
   "metadata": {},
   "source": [
    "__#[797](https://leetcode.com/problems/all-paths-from-source-to-target)/All Paths From Source to Target__"
   ]
  },
  {
   "cell_type": "code",
   "execution_count": 78,
   "id": "f59323ee-f5ec-417c-9f18-09bc54d6aee1",
   "metadata": {},
   "outputs": [],
   "source": [
    "class Solution(object):\n",
    "    def allPathsSourceTarget(self, graph):\n",
    "        \"\"\"\n",
    "        :type graph: List[List[int]]\n",
    "        :rtype: List[List[int]]\n",
    "        \"\"\"\n",
    "        n = len(graph)\n",
    "        def f(i):\n",
    "            if i == n-1:\n",
    "                return [[n-1]]\n",
    "            return [[i] + p for c in graph[i] for p in f(c)]\n",
    "        return f(0)"
   ]
  },
  {
   "cell_type": "markdown",
   "id": "ad47a04c-28b6-4e6c-81ad-984690d741c8",
   "metadata": {},
   "source": [
    "__#[804](https://leetcode.com/problems/unique-morse-code-words)/Unique Morse Code Words__"
   ]
  },
  {
   "cell_type": "code",
   "execution_count": 79,
   "id": "9884cf4b-780a-482e-8d57-517b60520de0",
   "metadata": {},
   "outputs": [],
   "source": [
    "class Solution(object):\n",
    "    def uniqueMorseRepresentations(self, words):\n",
    "        \"\"\"\n",
    "        :type words: List[str]\n",
    "        :rtype: int\n",
    "        \"\"\"\n",
    "        morse = {'a':\".-\", 'b':\"-...\", 'c':\"-.-.\", 'd':\"-..\", 'e':\".\", 'f':\"..-.\", 'g':\"--.\", 'h':\"....\", 'i':\"..\", 'j':\".---\", 'k':\"-.-\", 'l':\".-..\", 'm':\"--\", 'n':\"-.\", 'o':\"---\", 'p':\".--.\", 'q':\"--.-\", 'r':\".-.\", 's':\"...\", 't':\"-\", 'u':\"..-\", 'v':\"...-\", 'w':\".--\", 'x':\"-..-\", 'y':\"-.--\", 'z':\"--..\"}\n",
    "        fin = set()\n",
    "        for word in words:\n",
    "            temp = \"\"\n",
    "            for i in range(len(word)):\n",
    "                temp += morse[word[i]]\n",
    "            fin.add(temp)\n",
    "        return len(fin)"
   ]
  },
  {
   "cell_type": "markdown",
   "id": "323c8590-0a75-43d9-9ad2-d9825245acf5",
   "metadata": {},
   "source": [
    "__#[812](https://leetcode.com/problems/largest-triangle-area)/Largest Triangle Area__"
   ]
  },
  {
   "cell_type": "code",
   "execution_count": 80,
   "id": "9ac1c46e-9fb5-47b9-955c-e03ac867d7a2",
   "metadata": {},
   "outputs": [],
   "source": [
    "class Solution(object):\n",
    "    def largestTriangleArea(self, points):\n",
    "        \"\"\"\n",
    "        :type points: List[List[int]]\n",
    "        :rtype: float\n",
    "        \"\"\"\n",
    "        return max(abs(0.5*(x1*(y2-y3)+x2*(y3-y1)+x3*(y1-y2))) for [x1,y1], [x2,y2], [x3,y3] in combinations(points, 3))"
   ]
  },
  {
   "cell_type": "markdown",
   "id": "9fff4a6e-effd-4f63-9814-7b68e2517d4c",
   "metadata": {},
   "source": [
    "__#[832](https://leetcode.com/problems/flipping-an-image/)/Flipping an Image__"
   ]
  },
  {
   "cell_type": "code",
   "execution_count": 81,
   "id": "70398a18-8d01-4d7c-b1fc-e04a6b7efce4",
   "metadata": {},
   "outputs": [],
   "source": [
    "class Solution(object):\n",
    "    def flipAndInvertImage(self, image):\n",
    "        \"\"\"\n",
    "        :type image: List[List[int]]\n",
    "        :rtype: List[List[int]]\n",
    "        \"\"\"\n",
    "        result = []\n",
    "        for i in image:\n",
    "            result.append(i[::-1])\n",
    "        for i in range(len(result)):\n",
    "            for j in range(len(result[i])):\n",
    "                if result[i][j] == 0:\n",
    "                    result[i][j] = 1\n",
    "                else:\n",
    "                    result[i][j] = 0\n",
    "        return result"
   ]
  },
  {
   "cell_type": "markdown",
   "id": "b559665d-8dc4-4d5c-8c7d-e9d2a16b9c9e",
   "metadata": {},
   "source": [
    "__#[905](https://leetcode.com/problems/sort-array-by-parity)/Sort Array By Parity__"
   ]
  },
  {
   "cell_type": "code",
   "execution_count": 82,
   "id": "52b1fc71-9e57-4f69-aa41-d4affea084df",
   "metadata": {},
   "outputs": [],
   "source": [
    "class Solution(object):\n",
    "    def sortArrayByParity(self, nums):\n",
    "        \"\"\"\n",
    "        :type nums: List[int]\n",
    "        :rtype: List[int]\n",
    "        \"\"\"\n",
    "        l=0\n",
    "        for r in range(len(nums)):\n",
    "            if nums[r]%2 ==0:\n",
    "                nums[l],nums[r]=nums[r],nums[l]\n",
    "                l+=1\n",
    "        return nums"
   ]
  },
  {
   "cell_type": "markdown",
   "id": "ce1338c9-3847-47f4-8067-d4838cd84002",
   "metadata": {},
   "source": [
    "__#[908](https://leetcode.com/problems/smallest-range-i)/Smallest Range I__"
   ]
  },
  {
   "cell_type": "code",
   "execution_count": 83,
   "id": "5386e24f-7570-4f81-b6b8-5ea3518cb6ff",
   "metadata": {},
   "outputs": [],
   "source": [
    "class Solution(object):\n",
    "    def smallestRangeI(self, nums, k):\n",
    "        \"\"\"\n",
    "        :type nums: List[int]\n",
    "        :type k: int\n",
    "        :rtype: int\n",
    "        \"\"\"\n",
    "        max1 = max(nums)\n",
    "        min1 = min(nums)\n",
    "        d = max1 - min1\n",
    "        if d <= 2*k:\n",
    "            return 0\n",
    "        else:\n",
    "            return d - 2*k "
   ]
  },
  {
   "cell_type": "markdown",
   "id": "888d67da-c91d-40b0-b847-22db1d47d126",
   "metadata": {},
   "source": [
    "__#[914](https://leetcode.com/problems/x-of-a-kind-in-a-deck-of-cards)/X of a Kind in a Deck of Cards__"
   ]
  },
  {
   "cell_type": "code",
   "execution_count": 84,
   "id": "bb0f169a-0f77-4b34-93d8-4c66ffae6f1a",
   "metadata": {},
   "outputs": [],
   "source": [
    "class Solution(object):\n",
    "    def hasGroupsSizeX(self, deck):\n",
    "        \"\"\"\n",
    "        :type deck: List[int]\n",
    "        :rtype: bool\n",
    "        \"\"\"\n",
    "        def gcd(a, b):\n",
    "            while b:\n",
    "                a, b = b, a % b\n",
    "            return a\n",
    "        cache = Counter(deck)\n",
    "\n",
    "        if len(cache) == 1:\n",
    "            return cache[deck[0]] > 1\n",
    "\n",
    "        x = cache[deck[0]]\n",
    "\n",
    "        for num in cache.values():\n",
    "            x = gcd(x, num)\n",
    "\n",
    "        return x > 1"
   ]
  },
  {
   "cell_type": "markdown",
   "id": "f3c317f1-ac79-464a-993d-903b114fa62b",
   "metadata": {},
   "source": [
    "__#[917](https://leetcode.com/problems/reverse-only-letters/)/Reverse Only Letters__"
   ]
  },
  {
   "cell_type": "code",
   "execution_count": 85,
   "id": "06aa0cb5-1b48-454a-b2aa-a4d3002d5b91",
   "metadata": {},
   "outputs": [],
   "source": [
    "class Solution(object):\n",
    "    def reverseOnlyLetters(self, s):\n",
    "        \"\"\"\n",
    "        :type s: str\n",
    "        :rtype: str\n",
    "        \"\"\"\n",
    "        res = \"\"\n",
    "        def findalpha(reverseidx) : \n",
    "            while reverseidx > 0 and not s[reverseidx].isalpha() : \n",
    "                reverseidx-=1\n",
    "            return reverseidx\n",
    "        reverseidx = findalpha(len(s)-1)\n",
    "        for char in s : \n",
    "            if char.isalpha() : \n",
    "                res += s[reverseidx]\n",
    "                reverseidx = findalpha(reverseidx-1)\n",
    "            else : \n",
    "                res += char\n",
    "        return res"
   ]
  },
  {
   "cell_type": "markdown",
   "id": "bc495a5a-1a89-4ee5-9834-593cdcf866d8",
   "metadata": {},
   "source": [
    "__#[922](https://leetcode.com/problems/sort-array-by-parity-ii)/Sort Array By Parity II__"
   ]
  },
  {
   "cell_type": "code",
   "execution_count": 86,
   "id": "18486382-ae14-4a92-b599-c226e85e4fed",
   "metadata": {},
   "outputs": [],
   "source": [
    "class Solution(object):\n",
    "    def sortArrayByParityII(self, nums):\n",
    "        \"\"\"\n",
    "        :type nums: List[int]\n",
    "        :rtype: List[int]\n",
    "        \"\"\"\n",
    "        even = 0\n",
    "        odd = 1\n",
    "        while even < len(nums) and odd < len(nums):\n",
    "            while even < len(nums) and nums[even] % 2 == 0:\n",
    "                even += 2\n",
    "            \n",
    "            while odd < len(nums) and nums[odd] % 2 == 1:\n",
    "                odd += 2\n",
    "            \n",
    "            if even < len(nums) and odd < len(nums):\n",
    "                nums[even], nums[odd] = nums[odd], nums[even]\n",
    "                even += 2\n",
    "                odd += 2\n",
    "\n",
    "        return nums"
   ]
  },
  {
   "cell_type": "markdown",
   "id": "7d84b283-e689-43c3-a79a-6e915ec27022",
   "metadata": {},
   "source": [
    "__#[938](https://leetcode.com/problems/range-sum-of-bst)/Range Sum of BST__"
   ]
  },
  {
   "cell_type": "code",
   "execution_count": 87,
   "id": "528887e2-36d6-4615-830c-55ffe94555ad",
   "metadata": {},
   "outputs": [],
   "source": [
    "# Definition for a binary tree node.\n",
    "# class TreeNode(object):\n",
    "#     def __init__(self, val=0, left=None, right=None):\n",
    "#         self.val = val\n",
    "#         self.left = left\n",
    "#         self.right = right\n",
    "class Solution(object):\n",
    "    def rangeSumBST(self, root, low, high):\n",
    "        \"\"\"\n",
    "        :type root: TreeNode\n",
    "        :type low: int\n",
    "        :type high: int\n",
    "        :rtype: int\n",
    "        \"\"\"\n",
    "        sum_val = 0\n",
    "        stack = []\n",
    "\n",
    "        while root or stack:\n",
    "            while root:\n",
    "                stack.append(root)\n",
    "                root = root.left\n",
    "\n",
    "            root = stack.pop()\n",
    "\n",
    "            if low <= root.val <= high:\n",
    "                sum_val += root.val\n",
    "\n",
    "            root = root.right\n",
    "\n",
    "        return sum_val"
   ]
  },
  {
   "cell_type": "markdown",
   "id": "b25a6bcf-352e-4858-a029-e5f886e883cc",
   "metadata": {},
   "source": [
    "__#[950](https://leetcode.com/problems/reveal-cards-in-increasing-order)/Reveal Cards In Increasing Order__"
   ]
  },
  {
   "cell_type": "code",
   "execution_count": 88,
   "id": "ae45f2e2-3953-4256-a7be-2d1473e29b1f",
   "metadata": {},
   "outputs": [],
   "source": [
    "class Solution(object):\n",
    "    def deckRevealedIncreasing(self, deck):\n",
    "        \"\"\"\n",
    "        :type deck: List[int]\n",
    "        :rtype: List[int]\n",
    "        \"\"\"\n",
    "        N = len(deck)\n",
    "        result = [0] * N\n",
    "        deck.sort()\n",
    "        self.everyOther(deck, result, 0, 0, False)\n",
    "        return result\n",
    "\n",
    "    def everyOther(self, deck, result, indexInDeck, indexInResult, skip):\n",
    "        N = len(deck)\n",
    "        if indexInDeck == N:\n",
    "            return\n",
    "        while indexInResult < N:\n",
    "            if result[indexInResult] == 0:\n",
    "                if not skip:\n",
    "                    result[indexInResult] = deck[indexInDeck]\n",
    "                    indexInDeck += 1\n",
    "                skip = not skip\n",
    "            indexInResult += 1\n",
    "        self.everyOther(deck, result, indexInDeck, 0, skip)"
   ]
  },
  {
   "cell_type": "markdown",
   "id": "a81cb590-893d-4f5d-900e-e25354cb2962",
   "metadata": {},
   "source": [
    "__#[977](https://leetcode.com/problems/squares-of-a-sorted-array)/Squares of a Sorted Array__"
   ]
  },
  {
   "cell_type": "code",
   "execution_count": 89,
   "id": "1cf18424-fb78-46ca-86de-76b9832f10bd",
   "metadata": {},
   "outputs": [],
   "source": [
    "class Solution(object):\n",
    "    def sortedSquares(self, nums):\n",
    "        \"\"\"\n",
    "        :type nums: List[int]\n",
    "        :rtype: List[int]\n",
    "        \"\"\"\n",
    "        sqlist = []\n",
    "        for i in range(len(nums)):\n",
    "            sqlist.append(nums[i] * nums[i])\n",
    "        sqlist.sort()\n",
    "        return sqlist"
   ]
  },
  {
   "cell_type": "markdown",
   "id": "18a41154-ddd7-46c1-8f0a-2a51f8e18f0a",
   "metadata": {},
   "source": [
    "__#[1005](https://leetcode.com/problems/maximize-sum-of-array-after-k-negations)/Maximize Sum Of Array After K Negations__"
   ]
  },
  {
   "cell_type": "code",
   "execution_count": 90,
   "id": "fe04f50a-499d-4dc1-9d38-7ccb3024e68b",
   "metadata": {},
   "outputs": [],
   "source": [
    "class Solution(object):\n",
    "    def largestSumAfterKNegations(self, nums, k):\n",
    "        \"\"\"\n",
    "        :type nums: List[int]\n",
    "        :type k: int\n",
    "        :rtype: int\n",
    "        \"\"\"\n",
    "        nums.sort()\n",
    "        i = 0\n",
    "        while i<len(nums) and k>0 and nums[i]<0 :\n",
    "            nums[i] = -nums[i]\n",
    "            i, k = i+1, k-1\n",
    "        nums[nums.index(min(nums))] *= -1 if k&1 else 1\n",
    "        return sum(nums) "
   ]
  },
  {
   "cell_type": "markdown",
   "id": "d13f146a-1b13-46f2-ba56-e39703d62577",
   "metadata": {},
   "source": [
    "__#[1021](https://leetcode.com/problems/remove-outermost-parentheses)/Remove Outermost Parentheses__"
   ]
  },
  {
   "cell_type": "code",
   "execution_count": 91,
   "id": "8d6df6ca-ce31-44c7-83a7-59480ed56c43",
   "metadata": {},
   "outputs": [],
   "source": [
    "class Solution(object):\n",
    "    def removeOuterParentheses(self, s):\n",
    "        \"\"\"\n",
    "        :type s: str\n",
    "        :rtype: str\n",
    "        \"\"\"\n",
    "        res, opened = [], 0\n",
    "        for c in s:\n",
    "            if c == '(' and opened > 0: res.append(c)\n",
    "            if c == ')' and opened > 1: res.append(c)\n",
    "            opened += 1 if c == '(' else -1\n",
    "        \n",
    "        return \"\".join(res)"
   ]
  },
  {
   "cell_type": "markdown",
   "id": "b319a02f-5e2a-4fb5-aa57-a71e97b9bbe9",
   "metadata": {},
   "source": [
    "__#[1025](https://leetcode.com/problems/divisor-game)/Divisor Game__"
   ]
  },
  {
   "cell_type": "code",
   "execution_count": 92,
   "id": "6fa6342b-0783-4cf8-87ed-d00b7c3f01a0",
   "metadata": {},
   "outputs": [],
   "source": [
    "class Solution(object):\n",
    "    def divisorGame(self, n):\n",
    "        \"\"\"\n",
    "        :type n: int\n",
    "        :rtype: bool\n",
    "        \"\"\"\n",
    "        return n % 2 == 0"
   ]
  },
  {
   "cell_type": "markdown",
   "id": "47a41e3b-e8bc-44cd-b3d9-34c7fb5fb8e7",
   "metadata": {},
   "source": [
    "__#[1030](https://leetcode.com/problems/matrix-cells-in-distance-order)/Matrix Cells in Distance Order__"
   ]
  },
  {
   "cell_type": "code",
   "execution_count": 93,
   "id": "2931a75f-4786-4ed5-aab4-032e961075cd",
   "metadata": {},
   "outputs": [],
   "source": [
    "class Solution(object):\n",
    "    def allCellsDistOrder(self, rows, cols, rCenter, cCenter):\n",
    "        \"\"\"\n",
    "        :type rows: int\n",
    "        :type cols: int\n",
    "        :type rCenter: int\n",
    "        :type cCenter: int\n",
    "        :rtype: List[List[int]]\n",
    "        \"\"\"\n",
    "        return sorted(\n",
    "            [[r, c] for r in range(0, rows, 1) for c in range(0, cols, 1)],\n",
    "            key=lambda coord: abs(coord[0] - rCenter) + abs(coord[1] - cCenter),\n",
    "        )"
   ]
  },
  {
   "cell_type": "markdown",
   "id": "89fa238f-6649-474d-8784-7cc46336827c",
   "metadata": {},
   "source": [
    "__#[1037](https://leetcode.com/problems/valid-boomerang)/Valid Boomerang__"
   ]
  },
  {
   "cell_type": "code",
   "execution_count": 94,
   "id": "0928ce49-33a7-48cf-9d16-ba871a049e68",
   "metadata": {},
   "outputs": [],
   "source": [
    "class Solution(object):\n",
    "    def isBoomerang(self, points):\n",
    "        \"\"\"\n",
    "        :type points: List[List[int]]\n",
    "        :rtype: bool\n",
    "        \"\"\"\n",
    "        x1 = points[0][0]\n",
    "        y1 = points[0][1]\n",
    "        x2 = points[1][0]\n",
    "        y2 = points[1][1]\n",
    "        x3 = points[2][0]\n",
    "        y3 = points[2][1]\n",
    "        if x1 * (y2 - y3) + x2 * (y3 - y1) + x3 * (y1 - y2) == 0:\n",
    "            return False\n",
    "        else:\n",
    "            return True"
   ]
  },
  {
   "cell_type": "markdown",
   "id": "40bc0de6-882f-4a39-b158-fd9209666ecd",
   "metadata": {},
   "source": [
    "__#[1051](https://leetcode.com/problems/height-checker)/Height Checker__"
   ]
  },
  {
   "cell_type": "code",
   "execution_count": 95,
   "id": "c075dcdd-8504-4877-b762-010612081cb1",
   "metadata": {},
   "outputs": [],
   "source": [
    "class Solution(object):\n",
    "    def heightChecker(self, heights):\n",
    "        \"\"\"\n",
    "        :type heights: List[int]\n",
    "        :rtype: int\n",
    "        \"\"\"\n",
    "        check = sorted(heights)\n",
    "        result = 0\n",
    "        for i in range(len(check)):\n",
    "            if check[i] != heights[i]:\n",
    "                result += 1\n",
    "        return result"
   ]
  },
  {
   "cell_type": "markdown",
   "id": "062f8a88-c1fd-4864-9f21-8dad49ed6cfa",
   "metadata": {},
   "source": [
    "__#[1108](https://leetcode.com/problems/defanging-an-ip-address)/Defanging an IP Address__"
   ]
  },
  {
   "cell_type": "code",
   "execution_count": 96,
   "id": "b37b35dd-8c6d-4bec-824f-bf35afa8c864",
   "metadata": {},
   "outputs": [],
   "source": [
    "class Solution(object):\n",
    "    def defangIPaddr(self, address):\n",
    "        \"\"\"\n",
    "        :type address: str\n",
    "        :rtype: str\n",
    "        \"\"\"\n",
    "        return address.replace('.', '[.]')"
   ]
  },
  {
   "cell_type": "markdown",
   "id": "d243436f-d6d1-463a-98f4-48ea2bf84973",
   "metadata": {},
   "source": [
    "__#[1128](https://leetcode.com/problems/number-of-equivalent-domino-pairs)/Number of Equivalent Domino Pairs__"
   ]
  },
  {
   "cell_type": "code",
   "execution_count": 97,
   "id": "b00deb32-446e-4e9a-bac8-73128309abed",
   "metadata": {},
   "outputs": [],
   "source": [
    "class Solution(object):\n",
    "    def numEquivDominoPairs(self, dominoes):\n",
    "        \"\"\"\n",
    "        :type dominoes: List[List[int]]\n",
    "        :rtype: int\n",
    "        \"\"\"\n",
    "        check = [[0] * 10 for i in range(10)]\n",
    "        result = 0\n",
    "        for i in range(len(dominoes)) :\n",
    "            x,y = dominoes[i][0], dominoes[i][1]\n",
    "            if x > y : \n",
    "                check[y][x] += 1\n",
    "            else : \n",
    "                check[x][y] += 1\n",
    "                \n",
    "        for i in range(10) : \n",
    "            for j in range(10) :\n",
    "                if check[i][j] >1 : \n",
    "                    result += (check[i][j] *(check[i][j]-1)) //2\n",
    "        return result"
   ]
  },
  {
   "cell_type": "markdown",
   "id": "fefa8840-4d2e-40a7-874d-24d603bb7744",
   "metadata": {},
   "source": [
    "__#[1175](https://leetcode.com/problems/prime-arrangements/)/Prime Arrangements__"
   ]
  },
  {
   "cell_type": "code",
   "execution_count": 98,
   "id": "b6e271f3-8c4b-4d16-9172-c153e596dfd0",
   "metadata": {},
   "outputs": [],
   "source": [
    "class Solution(object):\n",
    "    def numPrimeArrangements(self, n):\n",
    "        \"\"\"\n",
    "        :type n: int\n",
    "        :rtype: int\n",
    "        \"\"\"\n",
    "        l = []\n",
    "        for i in range(2,n+1):\n",
    "            count = 0\n",
    "            for j in range(len(l)):\n",
    "                if i%l[j]==0:\n",
    "                    count+=1\n",
    "                    break\n",
    "            if count==0:\n",
    "                l.append(i)\n",
    "        a = len(l)\n",
    "        b = n  - len(l)\n",
    "        count = 1\n",
    "        count1 = 1\n",
    "        for i in range(1,a+1):\n",
    "            count*=i\n",
    "        for j in range(1,b+1):\n",
    "            count1*=j\n",
    "        return (count*count1)%((10**9) + 7)"
   ]
  },
  {
   "cell_type": "markdown",
   "id": "eee4f915-d03a-4cfb-a109-0cfbf80fa6f9",
   "metadata": {},
   "source": [
    "__#[1217](https://leetcode.com/problems/minimum-cost-to-move-chips-to-the-same-position/)/Minimum Cost to Move Chips to The Same Position__"
   ]
  },
  {
   "cell_type": "code",
   "execution_count": 99,
   "id": "fe709f88-3509-470c-ad2a-29de0ad6c542",
   "metadata": {},
   "outputs": [],
   "source": [
    "class Solution(object):\n",
    "    def minCostToMoveChips(self, position):\n",
    "        \"\"\"\n",
    "        :type position: List[int]\n",
    "        :rtype: int\n",
    "        \"\"\"\n",
    "        oddsCount = 0\n",
    "        evensCount = 0\n",
    "        for n in position:\n",
    "            if n % 2 == 0:\n",
    "                evensCount +=1\n",
    "            else:\n",
    "                oddsCount += 1\n",
    "        return min(oddsCount, evensCount)"
   ]
  },
  {
   "cell_type": "markdown",
   "id": "0ecaba33-da97-464e-9ffd-5ac4d9545019",
   "metadata": {},
   "source": [
    "__#[1221](https://leetcode.com/problems/split-a-string-in-balanced-strings)/Split a String in Balanced Strings__"
   ]
  },
  {
   "cell_type": "code",
   "execution_count": 100,
   "id": "2fe512a3-c3a6-4bc1-b0a8-2e1f67385bc2",
   "metadata": {},
   "outputs": [],
   "source": [
    "class Solution(object):\n",
    "    def balancedStringSplit(self, s):\n",
    "        \"\"\"\n",
    "        :type s: str\n",
    "        :rtype: int\n",
    "        \"\"\"\n",
    "        s = s.replace(\"R\", \"-1,\").replace(\"L\", \"1,\")\n",
    "        ls = list(map(lambda x : 1 if x == \"1\" else -1, s[:-1].split(\",\")))\n",
    "        c = 0\n",
    "        k = 0\n",
    "        for i in ls :\n",
    "            if k == 0 :\n",
    "                c += 1\n",
    "            k += i\n",
    "        return c"
   ]
  },
  {
   "cell_type": "markdown",
   "id": "25ec8407-9e5e-4b66-b732-200c2d1a2381",
   "metadata": {},
   "source": [
    "__#[1249](https://leetcode.com/problems/minimum-remove-to-make-valid-parentheses)/Minimum Remove to Make Valid Parentheses__"
   ]
  },
  {
   "cell_type": "code",
   "execution_count": 101,
   "id": "6fc54312-b5ed-41a1-8fb2-19631d7c49fb",
   "metadata": {},
   "outputs": [],
   "source": [
    "class Solution(object):\n",
    "    def minRemoveToMakeValid(self, s):\n",
    "        \"\"\"\n",
    "        :type s: str\n",
    "        :rtype: str\n",
    "        \"\"\"\n",
    "        openParenthesesCount = 0\n",
    "        arr = list(s)\n",
    "\n",
    "        for i in range(len(arr)):\n",
    "            if arr[i] == '(':\n",
    "                openParenthesesCount += 1\n",
    "            elif arr[i] == ')':\n",
    "                if openParenthesesCount == 0:\n",
    "                    arr[i] = '*' \n",
    "                else:\n",
    "                    openParenthesesCount -= 1\n",
    "\n",
    "        for i in range(len(arr) - 1, -1, -1):\n",
    "            if openParenthesesCount > 0 and arr[i] == '(':\n",
    "                arr[i] = '*'\n",
    "                openParenthesesCount -= 1\n",
    "        \n",
    "        result = ''.join(c for c in arr if c != '*')\n",
    "\n",
    "        return result"
   ]
  },
  {
   "cell_type": "markdown",
   "id": "824251ea-4ef2-41a0-85ab-0268c0131b72",
   "metadata": {},
   "source": [
    "__#[1266](https://leetcode.com/problems/minimum-time-visiting-all-points)/Minimum Time Visiting All Points__"
   ]
  },
  {
   "cell_type": "code",
   "execution_count": 102,
   "id": "1819673b-ac67-446a-bfcc-dcad24aacadf",
   "metadata": {},
   "outputs": [],
   "source": [
    "class Solution(object):\n",
    "    def minTimeToVisitAllPoints(self, points):\n",
    "        \"\"\"\n",
    "        :type points: List[List[int]]\n",
    "        :rtype: int\n",
    "        \"\"\"\n",
    "        result = 0\n",
    "        for i in range(len(points)):\n",
    "            if i+2 <= len(points):\n",
    "                temp = []\n",
    "                temp.append(points[i][0] - points[i+1][0])\n",
    "                temp.append(points[i][1] - points[i+1][1])\n",
    "                if abs(temp[0]) > abs(temp[1]):\n",
    "                    result += abs(temp[0])\n",
    "                else:\n",
    "                    result += abs(temp[1])\n",
    "        return result"
   ]
  },
  {
   "cell_type": "markdown",
   "id": "3f54d0a7-0756-4980-b7a6-8cc884395f1d",
   "metadata": {},
   "source": [
    "__#[1281](https://leetcode.com/problems/subtract-the-product-and-sum-of-digits-of-an-integer)/Subtract the Product and Sum of Digits of an Integer__"
   ]
  },
  {
   "cell_type": "code",
   "execution_count": 103,
   "id": "a5cbde26-8e39-4a83-b576-a2148b580812",
   "metadata": {},
   "outputs": [],
   "source": [
    "class Solution(object):\n",
    "    def subtractProductAndSum(self, n):\n",
    "        \"\"\"\n",
    "        :type n: int\n",
    "        :rtype: int\n",
    "        \"\"\"\n",
    "        arr = [int(digit) for digit in str(n)]\n",
    "        products = 1\n",
    "        sums = 0\n",
    "        for i in arr:\n",
    "            products = products * i\n",
    "            sums = sums + i\n",
    "        return products - sums"
   ]
  },
  {
   "cell_type": "markdown",
   "id": "2a1de882-bfa0-4d0b-b883-88705752cfec",
   "metadata": {},
   "source": [
    "__#[1290](https://leetcode.com/problems/convert-binary-number-in-a-linked-list-to-integer)/Convert Binary Number in a Linked List to Integer__"
   ]
  },
  {
   "cell_type": "code",
   "execution_count": 104,
   "id": "68a7c1d8-de45-4d7e-a86d-976efde9b976",
   "metadata": {},
   "outputs": [],
   "source": [
    "# Definition for singly-linked list.\n",
    "# class ListNode(object):\n",
    "#     def __init__(self, val=0, next=None):\n",
    "#         self.val = val\n",
    "#         self.next = next\n",
    "class Solution(object):\n",
    "    def getDecimalValue(self, head):\n",
    "        \"\"\"\n",
    "        :type head: ListNode\n",
    "        :rtype: int\n",
    "        \"\"\"\n",
    "        arr = []\n",
    "        while(head != None):\n",
    "            arr.append(head.val)\n",
    "            head = head.next\n",
    "        result = ''.join(map(str, arr))\n",
    "        \n",
    "        return int(result, 2) "
   ]
  },
  {
   "cell_type": "markdown",
   "id": "22214fd2-83cc-4bca-8c56-c712c194f2a3",
   "metadata": {},
   "source": [
    "__#[1302](https://leetcode.com/problems/deepest-leaves-sum)/Deepest Leaves Sum__"
   ]
  },
  {
   "cell_type": "code",
   "execution_count": 105,
   "id": "fc704ef0-bb43-4f0b-aa2e-3bcfaa8f2246",
   "metadata": {},
   "outputs": [],
   "source": [
    "# Definition for a binary tree node.\n",
    "# class TreeNode(object):\n",
    "#     def __init__(self, val=0, left=None, right=None):\n",
    "#         self.val = val\n",
    "#         self.left = left\n",
    "#         self.right = right\n",
    "class Solution(object):\n",
    "    def deepestLeavesSum(self, root):\n",
    "        \"\"\"\n",
    "        :type root: TreeNode\n",
    "        :rtype: int\n",
    "        \"\"\"\n",
    "        if not root: return 0\n",
    "        h=[0]\n",
    "        def dfs(root,depth):\n",
    "            h[0]=max(h[0],depth)\n",
    "            if root.left: dfs(root.left,depth+1)\n",
    "            if root.right: dfs(root.right,depth+1)\n",
    "        dfs(root,0)\n",
    "        ans=[0]\n",
    "        def find(root,depth):\n",
    "            if depth==h[0]:\n",
    "                ans[0]+=root.val\n",
    "            if root.left: find(root.left,depth+1)\n",
    "            if root.right: find(root.right,depth+1)\n",
    "        find(root,0)\n",
    "        return ans[0]"
   ]
  },
  {
   "cell_type": "markdown",
   "id": "227e8280-275a-49e2-a073-415cf99adc0e",
   "metadata": {},
   "source": [
    "__#[1309](https://leetcode.com/problems/decrypt-string-from-alphabet-to-integer-mapping)/Decrypt String from Alphabet to Integer Mapping__"
   ]
  },
  {
   "cell_type": "code",
   "execution_count": 106,
   "id": "e7f9a8af-7855-4a88-819b-63c141c25ea1",
   "metadata": {},
   "outputs": [],
   "source": [
    "class Solution(object):\n",
    "    def freqAlphabets(self, s):\n",
    "        \"\"\"\n",
    "        :type s: str\n",
    "        :rtype: str\n",
    "        \"\"\"\n",
    "        d={'1':'a','2':'b','3':'c','4':'d','5':'e','6':'f','7':'g','8':'h','9':'i','10#':'j','11#':'k','12#':'l','13#':'m','14#':'n','15#':'o','16#':'p','17#':'q','18#':'r','19#':'s','20#':'t','21#':'u','22#':'v','23#':'w','24#':'x','25#':'y','26#':'z'}\n",
    "        if len(s)==1:\n",
    "            return d[s[0]]\n",
    "        if len(s)==2:\n",
    "            return d[s[0]]+d[s[1]]\n",
    "        i=0\n",
    "        s1=\"\"\n",
    "        while(i<len(s)-2):\n",
    "            if s[i+2]!='#':\n",
    "                s1=s1+d[s[i]]\n",
    "            else:\n",
    "                s1=s1+d[s[i:i+3]]\n",
    "                i=i+2\n",
    "            i=i+1\n",
    "        for i in range(i,len(s)):\n",
    "            s1=s1+d[s[i]]\n",
    "        return s1"
   ]
  },
  {
   "cell_type": "markdown",
   "id": "c8c910eb-56c8-4545-b7ef-8480a548c4cf",
   "metadata": {},
   "source": [
    "__#[1313](https://leetcode.com/problems/decompress-run-length-encoded-list)/Decompress Run-Length Encoded List__"
   ]
  },
  {
   "cell_type": "code",
   "execution_count": 107,
   "id": "2cbdc48d-d242-4f2b-98d0-3d18ec45ca37",
   "metadata": {},
   "outputs": [],
   "source": [
    "class Solution(object):\n",
    "    def decompressRLElist(self, nums):\n",
    "        \"\"\"\n",
    "        :type nums: List[int]\n",
    "        :rtype: List[int]\n",
    "        \"\"\"\n",
    "        result = []\n",
    "        for i in range(0, len(nums), 2):\n",
    "            for _ in range(nums[i]):\n",
    "                result.append(nums[i+1])\n",
    "        return result"
   ]
  },
  {
   "cell_type": "markdown",
   "id": "2f282ad2-edfa-4bc6-b361-02ac39f6613a",
   "metadata": {},
   "source": [
    "__#[1323](https://leetcode.com/problems/maximum-69-number)/Maximum 69 Number__"
   ]
  },
  {
   "cell_type": "code",
   "execution_count": 108,
   "id": "64aa81fd-89a7-49f5-b99a-62ee7ab0b533",
   "metadata": {},
   "outputs": [],
   "source": [
    "class Solution(object):\n",
    "    def maximum69Number (self, num):\n",
    "        \"\"\"\n",
    "        :type num: int\n",
    "        :rtype: int\n",
    "        \"\"\"\n",
    "        digits = [int(digit) for digit in str(num)]\n",
    "        count = 0\n",
    "        idx = 0\n",
    "        while(count == 0 and idx < len(digits)):\n",
    "            if digits[idx] == 6:\n",
    "                digits[idx] = 9\n",
    "                count += 1\n",
    "            idx += 1\n",
    "        result = int(''.join(map(str, digits)))\n",
    "        return result"
   ]
  },
  {
   "cell_type": "markdown",
   "id": "64d9f774-2024-4605-a35c-5e3eb1e644ba",
   "metadata": {},
   "source": [
    "__#[1342](https://leetcode.com/problems/number-of-steps-to-reduce-a-number-to-zero)/Number of Steps to Reduce a Number to Zero__"
   ]
  },
  {
   "cell_type": "code",
   "execution_count": 109,
   "id": "0885c5f1-11a8-499b-8bea-e0cc134c9664",
   "metadata": {},
   "outputs": [],
   "source": [
    "class Solution(object):\n",
    "    def numberOfSteps(self, num):\n",
    "        \"\"\"\n",
    "        :type num: int\n",
    "        :rtype: int\n",
    "        \"\"\"\n",
    "        step = 0\n",
    "        while(num > 0):\n",
    "            if num%2 == 0:\n",
    "                num /= 2\n",
    "                step += 1\n",
    "            else:\n",
    "                num -= 1\n",
    "                step += 1\n",
    "        return step"
   ]
  },
  {
   "cell_type": "markdown",
   "id": "89c4e304-597b-40e0-bb07-91cd76ed7e62",
   "metadata": {},
   "source": [
    "__#[1365](https://leetcode.com/problems/how-many-numbers-are-smaller-than-the-current-number)/How Many Numbers Are Smaller Than the Current Number__"
   ]
  },
  {
   "cell_type": "code",
   "execution_count": 110,
   "id": "e8f47fc4-688e-42fb-a9b9-6721aaa55e1f",
   "metadata": {},
   "outputs": [],
   "source": [
    "class Solution(object):\n",
    "    def smallerNumbersThanCurrent(self, nums):\n",
    "        \"\"\"\n",
    "        :type nums: List[int]\n",
    "        :rtype: List[int]\n",
    "        \"\"\"\n",
    "        result = []\n",
    "        for i in range(len(nums)):\n",
    "            temp = 0\n",
    "            for j in range(len(nums)):\n",
    "                if nums[i] > nums[j]:\n",
    "                    temp += 1\n",
    "            result.append(temp)\n",
    "        return result"
   ]
  },
  {
   "cell_type": "markdown",
   "id": "1fbfd0f8-2421-486c-81d1-5474f35d8b12",
   "metadata": {},
   "source": [
    "__#[1370](https://leetcode.com/problems/increasing-decreasing-string)/Increasing Decreasing String__"
   ]
  },
  {
   "cell_type": "code",
   "execution_count": 111,
   "id": "ff4d59e4-312a-4c70-acb5-bed7af25353b",
   "metadata": {},
   "outputs": [],
   "source": [
    "class Solution(object):\n",
    "    def sortString(self, s):\n",
    "        \"\"\"\n",
    "        :type s: str\n",
    "        :rtype: str\n",
    "        \"\"\"\n",
    "        lowercase_alphabets = [chr(i) for i in range(97, 123)]\n",
    "        letter_to_occ = {}\n",
    "        for letter in s:\n",
    "            letter_to_occ[letter] = letter_to_occ.get(letter, 0) + 1\n",
    "        ans = ''\n",
    "        while not all(values==0 for values in letter_to_occ.values()):\n",
    "            for letter in lowercase_alphabets:\n",
    "                if letter in letter_to_occ and letter_to_occ[letter] != 0:\n",
    "                    ans += letter\n",
    "                    letter_to_occ[letter] -= 1\n",
    "            \n",
    "            lowercase_alphabets = lowercase_alphabets[::-1]\n",
    "        \n",
    "        return ans"
   ]
  },
  {
   "cell_type": "markdown",
   "id": "c552582a-3869-4037-bcbb-c65b6e35f0a7",
   "metadata": {},
   "source": [
    "__#[1389](https://leetcode.com/problems/create-target-array-in-the-given-order)/\t\r\n",
    "Create Target Array in the Given Order__"
   ]
  },
  {
   "cell_type": "code",
   "execution_count": 112,
   "id": "03367796-f4a6-412e-bba7-3cbac2480cab",
   "metadata": {},
   "outputs": [],
   "source": [
    "class Solution(object):\n",
    "    def createTargetArray(self, nums, index):\n",
    "        \"\"\"\n",
    "        :type nums: List[int]\n",
    "        :type index: List[int]\n",
    "        :rtype: List[int]\n",
    "        \"\"\"\n",
    "        arr = []\n",
    "        j = 0\n",
    "        for i in index:\n",
    "            arr.insert(i, nums[j])\n",
    "            j += 1\n",
    "        return arr"
   ]
  },
  {
   "cell_type": "markdown",
   "id": "b085fed6-f058-457c-bffe-7681bf24fc4b",
   "metadata": {},
   "source": [
    "__#[1399](https://leetcode.com/problems/count-largest-group)/Count Largest Group__"
   ]
  },
  {
   "cell_type": "code",
   "execution_count": 113,
   "id": "cbd3c560-73f2-41db-b4b7-4b99fbc2c7fe",
   "metadata": {},
   "outputs": [],
   "source": [
    "class Solution(object):\n",
    "    def countLargestGroup(self, n):\n",
    "        \"\"\"\n",
    "        :type n: int\n",
    "        :rtype: int\n",
    "        \"\"\"\n",
    "        def ds(n):\n",
    "            s=0\n",
    "            for i in str(n):\n",
    "                s=s+int(i)\n",
    "            return s\n",
    "        d={}\n",
    "        if (n<=9):\n",
    "            return n\n",
    "        else:\n",
    "            m=0\n",
    "            c=0\n",
    "            for i in range(10,n+1):\n",
    "                s=ds(i)\n",
    "                if (s in d):\n",
    "                    d[s]+=1\n",
    "                else:\n",
    "                    if (s<10):\n",
    "                        d[s]=2\n",
    "                    else:\n",
    "                        d[s]=1\n",
    "                if (d[s]>m):\n",
    "                    m=d[s]\n",
    "            for i in d.keys():\n",
    "                if(d[i]==m):\n",
    "                    c+=1\n",
    "            return c"
   ]
  },
  {
   "cell_type": "markdown",
   "id": "7755f786-3cfe-46b1-a45e-5e76555c062b",
   "metadata": {},
   "source": [
    "__#[1431](https://leetcode.com/problems/kids-with-the-greatest-number-of-candies)/Kids With the Greatest Number of Candies__"
   ]
  },
  {
   "cell_type": "code",
   "execution_count": 114,
   "id": "60675bdc-a6c4-4bfe-a618-28489a8f9d8a",
   "metadata": {},
   "outputs": [],
   "source": [
    "class Solution(object):\n",
    "    def kidsWithCandies(self, candies, extraCandies):\n",
    "        \"\"\"\n",
    "        :type candies: List[int]\n",
    "        :type extraCandies: int\n",
    "        :rtype: List[bool]\n",
    "        \"\"\"\n",
    "        result = []\n",
    "        for i in candies:\n",
    "            if i + extraCandies >= max(candies):\n",
    "                result.append(True)\n",
    "            else: \n",
    "                result.append(False)\n",
    "        return result"
   ]
  },
  {
   "cell_type": "markdown",
   "id": "38678857-d6f3-4552-a93e-bfebcebf73a6",
   "metadata": {},
   "source": [
    "__#[1464](https://leetcode.com/problems/maximum-product-of-two-elements-in-an-array)/Maximum Product of Two Elements in an Array__"
   ]
  },
  {
   "cell_type": "code",
   "execution_count": 115,
   "id": "fd08db3a-ea37-44df-b25b-c5c2982bf51d",
   "metadata": {},
   "outputs": [],
   "source": [
    "class Solution(object):\n",
    "    def maxProduct(self, nums):\n",
    "        \"\"\"\n",
    "        :type nums: List[int]\n",
    "        :rtype: int\n",
    "        \"\"\"\n",
    "        first_max, second_max = 0, 0\n",
    "        for num in nums:\n",
    "            if num > first_max:\n",
    "                second_max, first_max = first_max, num\n",
    "            else:\n",
    "                second_max = max(second_max, num)\n",
    "\n",
    "        return (first_max - 1) * (second_max - 1)"
   ]
  },
  {
   "cell_type": "markdown",
   "id": "9954ae0c-2f2e-4107-80ca-3a3b188f4cdd",
   "metadata": {},
   "source": [
    "__#[1470](https://leetcode.com/problems/shuffle-the-array)/Shuffle the Array__"
   ]
  },
  {
   "cell_type": "code",
   "execution_count": 116,
   "id": "0716d158-8728-4975-843b-44aebf65ff0a",
   "metadata": {},
   "outputs": [],
   "source": [
    "class Solution(object):\n",
    "    def shuffle(self, nums, n):\n",
    "        \"\"\"\n",
    "        :type nums: List[int]\n",
    "        :type n: int\n",
    "        :rtype: List[int]\n",
    "        \"\"\"\n",
    "        result = []\n",
    "        for i in range(n):\n",
    "            result.append(nums[i])\n",
    "            result.append(nums[n+i])\n",
    "        return result"
   ]
  },
  {
   "cell_type": "markdown",
   "id": "8f5ed16d-9116-4e07-9fbc-b332aa6d71fe",
   "metadata": {},
   "source": [
    "__#[1476](https://leetcode.com/problems/subrectangle-queries/)/Subrectangle Queries__"
   ]
  },
  {
   "cell_type": "code",
   "execution_count": 117,
   "id": "89fc0673-c94f-48c3-b90c-72073186b526",
   "metadata": {},
   "outputs": [],
   "source": [
    "class SubrectangleQueries(object):\n",
    "\n",
    "    def __init__(self, rectangle):\n",
    "        \"\"\"\n",
    "        :type rectangle: List[List[int]]\n",
    "        \"\"\"\n",
    "        self.rectangle = rectangle\n",
    "\n",
    "    def updateSubrectangle(self, row1, col1, row2, col2, newValue):\n",
    "        \"\"\"\n",
    "        :type row1: int\n",
    "        :type col1: int\n",
    "        :type row2: int\n",
    "        :type col2: int\n",
    "        :type newValue: int\n",
    "        :rtype: None\n",
    "        \"\"\"\n",
    "        for i in range(row1,row2+1):\n",
    "            self.rectangle[i][col1: col2+1] = [newValue] * (col2+1 - col1)\n",
    "        \n",
    "\n",
    "    def getValue(self, row, col):\n",
    "        \"\"\"\n",
    "        :type row: int\n",
    "        :type col: int\n",
    "        :rtype: int\n",
    "        \"\"\"\n",
    "        return self.rectangle[row][col]\n",
    "\n",
    "\n",
    "# Your SubrectangleQueries object will be instantiated and called as such:\n",
    "# obj = SubrectangleQueries(rectangle)\n",
    "# obj.updateSubrectangle(row1,col1,row2,col2,newValue)\n",
    "# param_2 = obj.getValue(row,col)"
   ]
  },
  {
   "cell_type": "markdown",
   "id": "6d6c9577-68df-4975-8f33-790667d9b451",
   "metadata": {},
   "source": [
    "__#[1480](https://leetcode.com/problems/running-sum-of-1d-array)/Running Sum of 1d Array__"
   ]
  },
  {
   "cell_type": "code",
   "execution_count": 118,
   "id": "ee9f5f05-f2dd-4194-ab81-a7404e01b6de",
   "metadata": {},
   "outputs": [],
   "source": [
    "class Solution(object):\n",
    "    def runningSum(self, nums):\n",
    "        \"\"\"\n",
    "        :type nums: List[int]\n",
    "        :rtype: List[int]\n",
    "        \"\"\"\n",
    "        result = []\n",
    "        result.append(nums[0])\n",
    "        for i in range(1, len(nums), 1):\n",
    "            result.append(nums[i]+result[len(result) - 1])\n",
    "        return result"
   ]
  },
  {
   "cell_type": "markdown",
   "id": "e7bb5b67-c04a-4b83-831a-a970944dfccd",
   "metadata": {},
   "source": [
    "__#[1486](https://leetcode.com/problems/xor-operation-in-an-array)/\t\n",
    "XOR Operation in an Array__"
   ]
  },
  {
   "cell_type": "code",
   "execution_count": 119,
   "id": "2667f688-5781-4166-ba23-e79a329e9573",
   "metadata": {},
   "outputs": [],
   "source": [
    "class Solution(object):\n",
    "    def xorOperation(self, n, start):\n",
    "        \"\"\"\n",
    "        :type n: int\n",
    "        :type start: int\n",
    "        :rtype: int\n",
    "        \"\"\"\n",
    "        nums = []\n",
    "        for i in range(n):\n",
    "            nums.append(start + 2*i)\n",
    "        temp = nums.pop(0)\n",
    "        for j in nums:\n",
    "            temp = temp ^ j\n",
    "        return temp"
   ]
  },
  {
   "cell_type": "markdown",
   "id": "c6e1ae4d-c519-4a31-80d8-8c99d55704ca",
   "metadata": {},
   "source": [
    "__#[1512](https://leetcode.com/problems/number-of-good-pairs/)/Number of Good Pairs__"
   ]
  },
  {
   "cell_type": "code",
   "execution_count": 120,
   "id": "34fdacaa-af9d-42b6-91c2-485135f569aa",
   "metadata": {},
   "outputs": [],
   "source": [
    "class Solution(object):\n",
    "    def numIdenticalPairs(self, nums):\n",
    "        \"\"\"\n",
    "        :type nums: List[int]\n",
    "        :rtype: int\n",
    "        \"\"\"\n",
    "        sums = 0\n",
    "        for i in range(len(nums)):\n",
    "            for j in range(i+1, len(nums), 1):\n",
    "                if nums[i] == nums[j]:\n",
    "                    sums += 1\n",
    "        return sums"
   ]
  },
  {
   "cell_type": "markdown",
   "id": "97bbfe3d-8547-480d-8996-69b31c179615",
   "metadata": {},
   "source": [
    "__#[1518](https://leetcode.com/problems/water-bottles)/Water Bottles__"
   ]
  },
  {
   "cell_type": "code",
   "execution_count": 121,
   "id": "d7db617d-ae6f-461b-ba6b-151c041f546e",
   "metadata": {},
   "outputs": [],
   "source": [
    "class Solution(object):\n",
    "    def numWaterBottles(self, numBottles, numExchange):\n",
    "        \"\"\"\n",
    "        :type numBottles: int\n",
    "        :type numExchange: int\n",
    "        :rtype: int\n",
    "        \"\"\"\n",
    "        output = numBottles\n",
    "        while numBottles >= numExchange :\n",
    "            output += numBottles//numExchange\n",
    "            numBottles = numBottles//numExchange + numBottles%numExchange\n",
    "\n",
    "        return output"
   ]
  },
  {
   "cell_type": "markdown",
   "id": "2378f1da-4c7c-41d4-99dd-8f205c1d8f04",
   "metadata": {},
   "source": [
    "__#[1528](https://leetcode.com/problems/shuffle-string/)/Shuffle String__"
   ]
  },
  {
   "cell_type": "code",
   "execution_count": 122,
   "id": "ca76e37b-5995-4a25-a1a9-aa0d8d7406d4",
   "metadata": {},
   "outputs": [],
   "source": [
    "class Solution(object):\n",
    "    def restoreString(self, s, indices):\n",
    "        \"\"\"\n",
    "        :type s: str\n",
    "        :type indices: List[int]\n",
    "        :rtype: str\n",
    "        \"\"\"\n",
    "        temp = zip(s, indices)\n",
    "        sorttemp = sorted(temp, key=lambda x: x[1])\n",
    "        first_elements = [item[0] for item in sorttemp]\n",
    "        return \"\".join(first_elements)"
   ]
  },
  {
   "cell_type": "markdown",
   "id": "bd247d4a-f1fb-4628-91d7-9fbd955843ad",
   "metadata": {},
   "source": [
    "__#[1534](https://leetcode.com/problems/count-good-triplets)/Count Good Triplets__"
   ]
  },
  {
   "cell_type": "code",
   "execution_count": 123,
   "id": "c18afe44-ccd6-40f9-9f87-16b1e0ea8771",
   "metadata": {},
   "outputs": [],
   "source": [
    "class Solution(object):\n",
    "    def countGoodTriplets(self, arr, a, b, c):\n",
    "        \"\"\"\n",
    "        :type arr: List[int]\n",
    "        :type a: int\n",
    "        :type b: int\n",
    "        :type c: int\n",
    "        :rtype: int\n",
    "        \"\"\"\n",
    "        n = len(arr)\n",
    "        cnt = 0\n",
    "        for i in range(n):\n",
    "            for j in range(i+1, n):\n",
    "                for k in range(j+1, n):\n",
    "                    if abs(arr[i]-arr[j]) <= a and abs(arr[k]-arr[j]) <= b and abs(arr[i]-arr[k]) <= c:\n",
    "                        cnt+=1\n",
    "        return cnt"
   ]
  },
  {
   "cell_type": "markdown",
   "id": "d1866ab5-e7d0-4a6b-94bb-6b24f1517acf",
   "metadata": {},
   "source": [
    "__#[1572](https://leetcode.com/problems/matrix-diagonal-sum)/Matrix Diagonal Sum__"
   ]
  },
  {
   "cell_type": "code",
   "execution_count": 124,
   "id": "b5cfff82-9671-40e4-8a36-b4e5e7f73614",
   "metadata": {},
   "outputs": [],
   "source": [
    "class Solution(object):\n",
    "    def diagonalSum(self, mat):\n",
    "        \"\"\"\n",
    "        :type mat: List[List[int]]\n",
    "        :rtype: int\n",
    "        \"\"\"\n",
    "        result = 0\n",
    "        for i in range(len(mat)):\n",
    "            for j in range(len(mat[i])):\n",
    "                if i == j or i + j == len(mat[i])-1:\n",
    "                    result += mat[i][j]\n",
    "        return result"
   ]
  },
  {
   "cell_type": "markdown",
   "id": "b93afebe-152a-4137-8507-21667b01ad6c",
   "metadata": {},
   "source": [
    "__#[1588](https://leetcode.com/problems/sum-of-all-odd-length-subarrays)/Sum of All Odd Length Subarrays__"
   ]
  },
  {
   "cell_type": "code",
   "execution_count": 125,
   "id": "c52bf01f-a0f1-4c85-8649-f5c2fd68cfe8",
   "metadata": {},
   "outputs": [],
   "source": [
    "class Solution(object):\n",
    "    def sumOddLengthSubarrays(self, arr):\n",
    "        \"\"\"\n",
    "        :type arr: List[int]\n",
    "        :rtype: int\n",
    "        \"\"\"\n",
    "        result = 0\n",
    "        lenarr = len(arr)\n",
    "        for i in range(lenarr):\n",
    "            a = 0\n",
    "            while a + i < lenarr:\n",
    "                for j in range(a + 1):\n",
    "                    result += arr[i+j]\n",
    "                a = a + 2\n",
    "        return result"
   ]
  },
  {
   "cell_type": "markdown",
   "id": "49de7913-19be-4fc6-b000-cb755a19dce4",
   "metadata": {},
   "source": [
    "__#[1603](https://leetcode.com/problems/design-parking-system)/Design Parking System__"
   ]
  },
  {
   "cell_type": "code",
   "execution_count": 126,
   "id": "1c410665-fa72-4cf3-b5fa-1351d3032293",
   "metadata": {},
   "outputs": [],
   "source": [
    "class ParkingSystem(object):\n",
    "\n",
    "    def __init__(self, big, medium, small):\n",
    "        \"\"\"\n",
    "        :type big: int\n",
    "        :type medium: int\n",
    "        :type small: int\n",
    "        \"\"\"\n",
    "        self.bigSpace = big\n",
    "        self.midSpace = medium\n",
    "        self.smallSpace = small\n",
    "        \n",
    "\n",
    "    def addCar(self, carType):\n",
    "        \"\"\"\n",
    "        :type carType: int\n",
    "        :rtype: bool\n",
    "        \"\"\"\n",
    "        if carType == 3:\n",
    "            if self.smallSpace > 0:\n",
    "                self.smallSpace -= 1\n",
    "                return True\n",
    "            else:\n",
    "                return False\n",
    "        elif carType == 2:\n",
    "            if self.midSpace > 0:\n",
    "                self.midSpace -= 1\n",
    "                return True\n",
    "            else:\n",
    "                return False\n",
    "        elif carType == 1:\n",
    "            if self.bigSpace > 0:\n",
    "                self.bigSpace -= 1\n",
    "                return True\n",
    "            else:\n",
    "                return False\n",
    "        else:\n",
    "            return False\n",
    "        \n",
    "\n",
    "\n",
    "# Your ParkingSystem object will be instantiated and called as such:\n",
    "# obj = ParkingSystem(big, medium, small)\n",
    "# param_1 = obj.addCar(carType)"
   ]
  },
  {
   "cell_type": "markdown",
   "id": "c227b42a-aab4-4c55-989a-fc52e18c6238",
   "metadata": {},
   "source": [
    "__#[1614](https://leetcode.com/problems/maximum-nesting-depth-of-the-parentheses)/Maximum Nesting Depth of the Parentheses__"
   ]
  },
  {
   "cell_type": "code",
   "execution_count": 127,
   "id": "1c35ca62-a3f9-4363-a9eb-d8c1680b134c",
   "metadata": {},
   "outputs": [],
   "source": [
    "class Solution(object):\n",
    "    def maxDepth(self, s):\n",
    "        \"\"\"\n",
    "        :type s: str\n",
    "        :rtype: int\n",
    "        \"\"\"\n",
    "        output = 0\n",
    "        tmp = 0\n",
    "        for c in s:\n",
    "            if c == \"(\":\n",
    "                tmp += 1\n",
    "            elif c == \")\":\n",
    "                if tmp > output:\n",
    "                    output = tmp\n",
    "                tmp -= 1\n",
    "        return output"
   ]
  },
  {
   "cell_type": "markdown",
   "id": "eea1e700-20a8-4e01-8294-3182dc20425a",
   "metadata": {},
   "source": [
    "__#[1630](https://leetcode.com/problems/arithmetic-subarrays)/Arithmetic Subarrays__"
   ]
  },
  {
   "cell_type": "code",
   "execution_count": 128,
   "id": "9386c799-add7-4e07-95ed-6d4797bcdad3",
   "metadata": {},
   "outputs": [],
   "source": [
    "class Solution(object):\n",
    "    def checkArithmeticSubarrays(self, nums, l, r):\n",
    "        \"\"\"\n",
    "        :type nums: List[int]\n",
    "        :type l: List[int]\n",
    "        :type r: List[int]\n",
    "        :rtype: List[bool]\n",
    "        \"\"\"\n",
    "        def is_arithmetic(sub):\n",
    "            sub.sort()\n",
    "            diff = sub[1] - sub[0]\n",
    "            for i in range(2, len(sub)):\n",
    "                if sub[i] - sub[i - 1] != diff:\n",
    "                    return False\n",
    "            return True\n",
    "\n",
    "        res = []\n",
    "        for q in range(len(l)):\n",
    "            res.append(is_arithmetic(nums[l[q]:r[q]+1]))\n",
    "        return res"
   ]
  },
  {
   "cell_type": "markdown",
   "id": "d2bafcb1-21b7-4dfc-a4c3-6f18772df399",
   "metadata": {},
   "source": [
    "__#[1637](https://leetcode.com/problems/widest-vertical-area-between-two-points-containing-no-points)/Widest Vertical Area Between Two Points Containing No Points__"
   ]
  },
  {
   "cell_type": "code",
   "execution_count": 129,
   "id": "4f66f680-7d68-4724-84a3-9b69b7c0e1f8",
   "metadata": {},
   "outputs": [],
   "source": [
    "class Solution(object):\n",
    "    def maxWidthOfVerticalArea(self, points):\n",
    "        \"\"\"\n",
    "        :type points: List[List[int]]\n",
    "        :rtype: int\n",
    "        \"\"\"\n",
    "        arr = []\n",
    "        for pt in points:\n",
    "            arr.append(pt[0])\n",
    "        arr.sort()\n",
    "        maxs = 0\n",
    "        temp = arr[0]\n",
    "        for i in arr:\n",
    "            if i - temp > maxs:\n",
    "                maxs = i - temp\n",
    "            temp = i\n",
    "        return maxs"
   ]
  },
  {
   "cell_type": "markdown",
   "id": "4397e329-68df-4b86-bdbb-bd0df58fe3c9",
   "metadata": {},
   "source": [
    "__#[1656](https://leetcode.com/problems/design-an-ordered-stream)/Design an Ordered Stream__"
   ]
  },
  {
   "cell_type": "code",
   "execution_count": 130,
   "id": "a905f671-3d48-40f2-9faf-c9b73c735535",
   "metadata": {},
   "outputs": [],
   "source": [
    "class OrderedStream(object):\n",
    "\n",
    "    def __init__(self, n):\n",
    "        \"\"\"\n",
    "        :type n: int\n",
    "        \"\"\"\n",
    "        self.data = [None]*n\n",
    "        self.ptr = 0 \n",
    "\n",
    "    def insert(self, idKey, value):\n",
    "        \"\"\"\n",
    "        :type idKey: int\n",
    "        :type value: str\n",
    "        :rtype: List[str]\n",
    "        \"\"\"\n",
    "        idKey -= 1 \n",
    "        self.data[idKey] = value \n",
    "        if idKey > self.ptr: return [] \n",
    "        \n",
    "        while self.ptr < len(self.data) and self.data[self.ptr]: self.ptr += 1 # update self.ptr \n",
    "        return self.data[idKey:self.ptr]\n",
    "\n",
    "\n",
    "# Your OrderedStream object will be instantiated and called as such:\n",
    "# obj = OrderedStream(n)\n",
    "# param_1 = obj.insert(idKey,value)"
   ]
  },
  {
   "cell_type": "markdown",
   "id": "cae34ddf-171a-49c3-ad52-af6ad3bfe405",
   "metadata": {},
   "source": [
    "__#[1662](https://leetcode.com/problems/check-if-two-string-arrays-are-equivalent)/Check If Two String Arrays are Equivalent__"
   ]
  },
  {
   "cell_type": "code",
   "execution_count": 131,
   "id": "2f14a89f-910a-4c08-8f31-52b7d50ef4e4",
   "metadata": {},
   "outputs": [],
   "source": [
    "class Solution(object):\n",
    "    def arrayStringsAreEqual(self, word1, word2):\n",
    "        \"\"\"\n",
    "        :type word1: List[str]\n",
    "        :type word2: List[str]\n",
    "        :rtype: bool\n",
    "        \"\"\"\n",
    "        if ''.join(word1) == ''.join(word2):\n",
    "            return True\n",
    "        else:\n",
    "            return False"
   ]
  },
  {
   "cell_type": "markdown",
   "id": "09367a6a-d1b5-4a0f-b4e7-ea40e35c33ae",
   "metadata": {},
   "source": [
    "__#[1672](https://leetcode.com/problems/richest-customer-wealth)/Richest Customer Wealth__"
   ]
  },
  {
   "cell_type": "code",
   "execution_count": 132,
   "id": "f0c055d0-fc7e-4034-90ed-94190ffe127c",
   "metadata": {},
   "outputs": [],
   "source": [
    "class Solution(object):\n",
    "    def maximumWealth(self, accounts):\n",
    "        \"\"\"\n",
    "        :type accounts: List[List[int]]\n",
    "        :rtype: int\n",
    "        \"\"\"\n",
    "        result = 0\n",
    "        temp = 0\n",
    "        for customer in accounts:\n",
    "            temp = 0\n",
    "            for i in customer:\n",
    "                temp += i\n",
    "            if temp > result:\n",
    "                result = temp\n",
    "        return result"
   ]
  },
  {
   "cell_type": "markdown",
   "id": "60f8b023-cecc-4d73-8bea-566333298647",
   "metadata": {},
   "source": [
    "__#[1678](https://leetcode.com/problems/goal-parser-interpretation)/Goal Parser Interpretation__"
   ]
  },
  {
   "cell_type": "code",
   "execution_count": 133,
   "id": "c3e8f34b-4ab8-43e5-bcf2-993eca78c599",
   "metadata": {},
   "outputs": [],
   "source": [
    "class Solution(object):\n",
    "    def interpret(self, command):\n",
    "        \"\"\"\n",
    "        :type command: str\n",
    "        :rtype: str\n",
    "        \"\"\"\n",
    "        return command.replace('()','o').replace('(al)','al')"
   ]
  },
  {
   "cell_type": "markdown",
   "id": "30054487-3523-4b11-a7a8-c82df2a64ab2",
   "metadata": {},
   "source": [
    "__#[1684](https://leetcode.com/problems/count-the-number-of-consistent-strings)/Count the Number of Consistent Strings__"
   ]
  },
  {
   "cell_type": "code",
   "execution_count": 134,
   "id": "d5c518da-55b7-4adb-81af-a0cfc452ab8b",
   "metadata": {},
   "outputs": [],
   "source": [
    "class Solution(object):\n",
    "    def countConsistentStrings(self, allowed, words):\n",
    "        \"\"\"\n",
    "        :type allowed: str\n",
    "        :type words: List[str]\n",
    "        :rtype: int\n",
    "        \"\"\"\n",
    "        count = 0\n",
    "        for i in words:\n",
    "            for j in i:\n",
    "                if j not in allowed:\n",
    "                    count += 1\n",
    "                    break\n",
    "        return len(words) - count"
   ]
  },
  {
   "cell_type": "markdown",
   "id": "f8c07dc7-f6fa-421a-888e-cf6bf00c4140",
   "metadata": {},
   "source": [
    "__#[1688](https://leetcode.com/problems/count-of-matches-in-tournament)/Count of Matches in Tournament__"
   ]
  },
  {
   "cell_type": "code",
   "execution_count": 135,
   "id": "62d38933-360e-4030-9e80-572bd9d6dcb7",
   "metadata": {},
   "outputs": [],
   "source": [
    "class Solution(object):\n",
    "    def numberOfMatches(self, n):\n",
    "        \"\"\"\n",
    "        :type n: int\n",
    "        :rtype: int\n",
    "        \"\"\"\n",
    "        result = 0\n",
    "        \n",
    "        while(n > 1):\n",
    "            if n%2 == 1 and n != 1:\n",
    "                result += n/2\n",
    "                n += 1\n",
    "                n /= 2\n",
    "            else:\n",
    "                result += n/2\n",
    "                n /= 2\n",
    "        return result"
   ]
  },
  {
   "cell_type": "markdown",
   "id": "5a503227-916e-4cfe-8a6e-1b95bd6d9f3c",
   "metadata": {},
   "source": [
    "__#[1689](https://leetcode.com/problems/partitioning-into-minimum-number-of-deci-binary-numbers)/Partitioning Into Minimum Number Of Deci-Binary Numbers__"
   ]
  },
  {
   "cell_type": "code",
   "execution_count": 136,
   "id": "1b6b18a1-bbac-4ff9-8bc7-1286e15cd05b",
   "metadata": {},
   "outputs": [],
   "source": [
    "class Solution(object):\n",
    "    def minPartitions(self, n):\n",
    "        \"\"\"\n",
    "        :type n: str\n",
    "        :rtype: int\n",
    "        \"\"\"\n",
    "        return int(max(n))"
   ]
  },
  {
   "cell_type": "markdown",
   "id": "e62874c8-5144-4c12-a3bc-4807fdd6daa4",
   "metadata": {},
   "source": [
    "__#[1716](https://leetcode.com/problems/calculate-money-in-leetcode-bank)/Calculate Money in Leetcode Bank__"
   ]
  },
  {
   "cell_type": "code",
   "execution_count": 137,
   "id": "bca618de-29e6-4ef6-b486-1bf61361095b",
   "metadata": {},
   "outputs": [],
   "source": [
    "class Solution(object):\n",
    "    def totalMoney(self, n):\n",
    "        \"\"\"\n",
    "        :type n: int\n",
    "        :rtype: int\n",
    "        \"\"\"\n",
    "        result = 0\n",
    "        k = n/7\n",
    "        for i in range(k):\n",
    "            result += (i) * 7\n",
    "            result += (1+2+3+4+5+6+7)\n",
    "        l = n - 7*k\n",
    "        for i in range(l):\n",
    "            result += (k + i + 1)\n",
    "        return result"
   ]
  },
  {
   "cell_type": "markdown",
   "id": "939a459f-e82d-4e8b-a362-f38910e3f292",
   "metadata": {},
   "source": [
    "__#[1720](https://leetcode.com/problems/decode-xored-array)/Decode XORed Array__"
   ]
  },
  {
   "cell_type": "code",
   "execution_count": 138,
   "id": "df8a78e9-462a-49ef-9833-b5bb08928edb",
   "metadata": {},
   "outputs": [],
   "source": [
    "class Solution(object):\n",
    "    def decode(self, encoded, first):\n",
    "        \"\"\"\n",
    "        :type encoded: List[int]\n",
    "        :type first: int\n",
    "        :rtype: List[int]\n",
    "        \"\"\"\n",
    "        arr = []\n",
    "        arr.append(first)\n",
    "        for i in range(len(encoded)):\n",
    "            arr.append(encoded[i] ^ arr[i])\n",
    "        return arr"
   ]
  },
  {
   "cell_type": "markdown",
   "id": "018f6242-e814-4bcf-b8c6-33c0388566bf",
   "metadata": {},
   "source": [
    "__#[1732](https://leetcode.com/problems/find-the-highest-altitude)/Find the Highest Altitude__"
   ]
  },
  {
   "cell_type": "code",
   "execution_count": 139,
   "id": "24c2c02f-661f-41db-adad-bb8dede6245a",
   "metadata": {},
   "outputs": [],
   "source": [
    "class Solution(object):\n",
    "    def largestAltitude(self, gain):\n",
    "        \"\"\"\n",
    "        :type gain: List[int]\n",
    "        :rtype: int\n",
    "        \"\"\"\n",
    "        result = [0]\n",
    "        for i in range(len(gain)):\n",
    "            result.append(result[i] + gain[i])\n",
    "        return max(result)"
   ]
  },
  {
   "cell_type": "markdown",
   "id": "4b424aa8-8b66-4f4c-b7ff-955b08db23c6",
   "metadata": {},
   "source": [
    "__#[1773](https://leetcode.com/problems/count-items-matching-a-rule)/Count Items Matching a Rule__"
   ]
  },
  {
   "cell_type": "code",
   "execution_count": 140,
   "id": "0ff3b052-7261-449f-b777-f8cb8a4d7501",
   "metadata": {},
   "outputs": [],
   "source": [
    "class Solution(object):\n",
    "    def countMatches(self, items, ruleKey, ruleValue):\n",
    "        \"\"\"\n",
    "        :type items: List[List[str]]\n",
    "        :type ruleKey: str\n",
    "        :type ruleValue: str\n",
    "        :rtype: int\n",
    "        \"\"\"\n",
    "        count = 0\n",
    "        for i in items:\n",
    "            if ruleKey == 'type':\n",
    "                if i[0] == ruleValue:\n",
    "                    count += 1\n",
    "            elif ruleKey == 'color':\n",
    "                if i[1] == ruleValue:\n",
    "                    count += 1\n",
    "            else:\n",
    "                if i[2] == ruleValue:\n",
    "                    count += 1\n",
    "        return count"
   ]
  },
  {
   "cell_type": "markdown",
   "id": "313b975f-0c12-4cf2-a2a8-a3d0ad4bf0fa",
   "metadata": {},
   "source": [
    "__#[1791](https://leetcode.com/problems/find-center-of-star-graph)/Find Center of Star Graph__"
   ]
  },
  {
   "cell_type": "code",
   "execution_count": 141,
   "id": "66e1c1eb-a0ab-4821-9c92-5204ced36f90",
   "metadata": {},
   "outputs": [],
   "source": [
    "class Solution(object):\n",
    "    def findCenter(self, edges):\n",
    "        \"\"\"\n",
    "        :type edges: List[List[int]]\n",
    "        :rtype: int\n",
    "        \"\"\"\n",
    "        a = edges[0][0]\n",
    "        b = edges[0][1]\n",
    "        c = edges[1][0]\n",
    "        d = edges[1][1]\n",
    "\n",
    "        if(a==c or a==d):\n",
    "            return a\n",
    "        if(b==c or b==d):\n",
    "            return b\n",
    "        return -1"
   ]
  },
  {
   "cell_type": "markdown",
   "id": "5708def9-17aa-4dd2-a808-98e985fa128a",
   "metadata": {},
   "source": [
    "__#[1816](https://leetcode.com/problems/truncate-sentence)/Truncate Sentence__"
   ]
  },
  {
   "cell_type": "code",
   "execution_count": 142,
   "id": "29db7e78-e2b1-4315-a03d-806367f3aac7",
   "metadata": {},
   "outputs": [],
   "source": [
    "class Solution(object):\n",
    "    def truncateSentence(self, s, k):\n",
    "        \"\"\"\n",
    "        :type s: str\n",
    "        :type k: int\n",
    "        :rtype: str\n",
    "        \"\"\"\n",
    "        temp = s.split()\n",
    "        for i in range(len(temp) - k):\n",
    "            temp.pop()\n",
    "        result = ' '.join(temp)\n",
    "        return result"
   ]
  },
  {
   "cell_type": "markdown",
   "id": "d07794d1-de3f-4506-b6d7-628376ec1c58",
   "metadata": {},
   "source": [
    "__#[1832](https://leetcode.com/problems/check-if-the-sentence-is-pangram)/Check if the Sentence Is Pangram__"
   ]
  },
  {
   "cell_type": "code",
   "execution_count": 143,
   "id": "d9f8989f-c97b-43ca-8796-ea1578229aca",
   "metadata": {},
   "outputs": [],
   "source": [
    "class Solution(object):\n",
    "    def checkIfPangram(self, sentence):\n",
    "        \"\"\"\n",
    "        :type sentence: str\n",
    "        :rtype: bool\n",
    "        \"\"\"\n",
    "        return len(set(sentence))==26 "
   ]
  },
  {
   "cell_type": "markdown",
   "id": "e518e827-69a0-4b60-bf7d-a694734ba0bc",
   "metadata": {},
   "source": [
    "__#[1844](https://leetcode.com/problems/replace-all-digits-with-characters)/Replace All Digits with Characters__"
   ]
  },
  {
   "cell_type": "code",
   "execution_count": 144,
   "id": "12c43c6e-64a5-4851-8fab-6ef35b8908e4",
   "metadata": {},
   "outputs": [],
   "source": [
    "class Solution(object):\n",
    "    def replaceDigits(self, s):\n",
    "        \"\"\"\n",
    "        :type s: str\n",
    "        :rtype: str\n",
    "        \"\"\"\n",
    "        new=\"\"\n",
    "        for i in range(len(s)):\n",
    "            if i%2==0:\n",
    "                new+=s[i]\n",
    "            else:\n",
    "                new+=chr(ord(s[i-1])+int(s[i]))\n",
    "        return new"
   ]
  },
  {
   "cell_type": "markdown",
   "id": "25bd1860-cb9e-4a69-b57e-f22c654c0758",
   "metadata": {},
   "source": [
    "__#[1859](https://leetcode.com/problems/sorting-the-sentence/)/Sorting the Sentence__"
   ]
  },
  {
   "cell_type": "code",
   "execution_count": 145,
   "id": "dccefd14-6307-41d2-8b58-50e987e38362",
   "metadata": {},
   "outputs": [],
   "source": [
    "class Solution(object):\n",
    "    def sortSentence(self, s):\n",
    "        \"\"\"\n",
    "        :type s: str\n",
    "        :rtype: str\n",
    "        \"\"\"\n",
    "        arr = [i[-1] + i[:-1] for i in s.split()]\n",
    "        \n",
    "        arr.sort()\n",
    "        \n",
    "        ans = \"\"\n",
    "        for i in arr:\n",
    "            ans += i[1:] + ' '\n",
    "        \n",
    "        return ans[:-1]"
   ]
  },
  {
   "cell_type": "markdown",
   "id": "8b5a823f-4b9d-4719-a6c9-fd01da16cd69",
   "metadata": {},
   "source": [
    "__#[1863](https://leetcode.com/problems/sum-of-all-subset-xor-totals)/Sum of All Subset XOR Totals__"
   ]
  },
  {
   "cell_type": "code",
   "execution_count": 146,
   "id": "6f8f791e-1d40-4071-8444-baec91109c5b",
   "metadata": {},
   "outputs": [],
   "source": [
    "class Solution(object):\n",
    "    def subsetXORSum(self, nums):\n",
    "        \"\"\"\n",
    "        :type nums: List[int]\n",
    "        :rtype: int\n",
    "        \"\"\"\n",
    "        subset = list(itertools.chain.from_iterable(itertools.combinations(nums, r) for r in range(len(nums) + 1)))\n",
    "\n",
    "        sums = 0\n",
    "        for i in subset[1:]:\n",
    "            temp = i[0]\n",
    "            for j in range(len(i) - 1):\n",
    "                temp = temp^i[j + 1]\n",
    "            sums += temp\n",
    "        return sums"
   ]
  },
  {
   "cell_type": "markdown",
   "id": "0e5a86cc-7c90-4fb1-b803-63b2c3ef4cc5",
   "metadata": {},
   "source": [
    "__#[1903](https://leetcode.com/problems/largest-odd-number-in-string)/Largest Odd Number in String__"
   ]
  },
  {
   "cell_type": "code",
   "execution_count": 147,
   "id": "474ed2d5-0b57-4f05-af78-7de3a288ea5d",
   "metadata": {},
   "outputs": [],
   "source": [
    "class Solution(object):\n",
    "    def largestOddNumber(self, num):\n",
    "        \"\"\"\n",
    "        :type num: str\n",
    "        :rtype: str\n",
    "        \"\"\"\n",
    "        n=len(num)\n",
    "        ans=n-1\n",
    "        while ans>=0 and int(num[ans])%2==0:\n",
    "            ans-=1\n",
    "\n",
    "        if ans<0:\n",
    "            return \"\"\n",
    "        return num[:ans+1]"
   ]
  },
  {
   "cell_type": "markdown",
   "id": "a6d0aba2-f6a5-4746-b1cb-645c1f118f51",
   "metadata": {},
   "source": [
    "__#[1913](https://leetcode.com/problems/maximum-product-difference-between-two-pairs/)/Maximum Product Difference Between Two Pairs__"
   ]
  },
  {
   "cell_type": "code",
   "execution_count": 148,
   "id": "4921e293-0eff-49a0-bace-c64c0e70001e",
   "metadata": {},
   "outputs": [],
   "source": [
    "class Solution(object):\n",
    "    def maxProductDifference(self, nums):\n",
    "        \"\"\"\n",
    "        :type nums: List[int]\n",
    "        :rtype: int\n",
    "        \"\"\"\n",
    "        sorted_arr = sorted(nums, reverse=True)\n",
    "        return sorted_arr[0]*sorted_arr[1] - sorted_arr[-1]*sorted_arr[-2]"
   ]
  },
  {
   "cell_type": "markdown",
   "id": "b843e0ea-0e70-471e-8813-c08deee8d512",
   "metadata": {},
   "source": [
    "__#[1920](https://leetcode.com/problems/build-array-from-permutation/)/Build Array from Permutation__"
   ]
  },
  {
   "cell_type": "code",
   "execution_count": 149,
   "id": "dfaecc57-2255-42e1-bde7-c2eb5c1da912",
   "metadata": {},
   "outputs": [],
   "source": [
    "class Solution(object):\n",
    "    def buildArray(self, nums):\n",
    "        \"\"\"\n",
    "        :type nums: List[int]\n",
    "        :rtype: List[int]\n",
    "        \"\"\"\n",
    "        result = []\n",
    "        for i in range(len(nums)):\n",
    "            result.append(nums[nums[i]])\n",
    "        return result"
   ]
  },
  {
   "cell_type": "markdown",
   "id": "4fe70006-7dad-45ec-836f-994ea0c34c29",
   "metadata": {},
   "source": [
    "__#[1929](https://leetcode.com/problems/concatenation-of-array)/Concatenation of Array__"
   ]
  },
  {
   "cell_type": "code",
   "execution_count": 150,
   "id": "8599c568-b6f0-4a62-bc09-d51c808d4ec7",
   "metadata": {},
   "outputs": [],
   "source": [
    "class Solution(object):\n",
    "    def getConcatenation(self, nums):\n",
    "        \"\"\"\n",
    "        :type nums: List[int]\n",
    "        :rtype: List[int]\n",
    "        \"\"\"\n",
    "        return nums + nums"
   ]
  },
  {
   "cell_type": "markdown",
   "id": "d9d67b01-c98a-4700-9ff6-0bb0ff90b97b",
   "metadata": {},
   "source": [
    "__#[1967](https://leetcode.com/problems/number-of-strings-that-appear-as-substrings-in-word)/Number of Strings That Appear as Substrings in Word__"
   ]
  },
  {
   "cell_type": "code",
   "execution_count": 151,
   "id": "18c1f8f0-5bda-4cc8-9949-e95756ba1890",
   "metadata": {},
   "outputs": [],
   "source": [
    "class Solution(object):\n",
    "    def numOfStrings(self, patterns, word):\n",
    "        \"\"\"\n",
    "        :type patterns: List[str]\n",
    "        :type word: str\n",
    "        :rtype: int\n",
    "        \"\"\"\n",
    "        count=0\n",
    "        for i in patterns:\n",
    "            if i in word:\n",
    "                count+=1\n",
    "        return count"
   ]
  },
  {
   "cell_type": "markdown",
   "id": "9eac0134-ff37-4c05-aaff-246a219deb9f",
   "metadata": {},
   "source": [
    "__#[2000](https://leetcode.com/problems/reverse-prefix-of-word)/Reverse Prefix of Word__"
   ]
  },
  {
   "cell_type": "code",
   "execution_count": 153,
   "id": "449165d8-eae2-4034-9e03-d1f0e6c8d897",
   "metadata": {},
   "outputs": [],
   "source": [
    "class Solution(object):\n",
    "    def reversePrefix(self, word, ch):\n",
    "        \"\"\"\n",
    "        :type word: str\n",
    "        :type ch: str\n",
    "        :rtype: str\n",
    "        \"\"\"\n",
    "        r=word.find(ch)\n",
    "        if r==-1: return word\n",
    "        s=list(word[:r+1])\n",
    "        t=list(word[r+1:])\n",
    "        s.reverse()\n",
    "        return \"\".join(s+t)"
   ]
  },
  {
   "cell_type": "markdown",
   "id": "cece1b94-9205-4016-9601-d23bc520a34f",
   "metadata": {},
   "source": [
    "__#[2006](https://leetcode.com/problems/count-number-of-pairs-with-absolute-difference-k)/Count Number of Pairs With Absolute Difference K__"
   ]
  },
  {
   "cell_type": "code",
   "execution_count": 154,
   "id": "1f68cabf-5bd5-499b-bff2-8e410237cc8c",
   "metadata": {},
   "outputs": [],
   "source": [
    "class Solution(object):\n",
    "    def countKDifference(self, nums, k):\n",
    "        \"\"\"\n",
    "        :type nums: List[int]\n",
    "        :type k: int\n",
    "        :rtype: int\n",
    "        \"\"\"\n",
    "        count = 0\n",
    "        for i in range(len(nums)):\n",
    "            for j in nums[i:]:\n",
    "                if abs(nums[i] - j) == k:\n",
    "                    count += 1\n",
    "        return count"
   ]
  },
  {
   "cell_type": "markdown",
   "id": "740f0724-3ad3-4d46-9caf-547c5c8b44f1",
   "metadata": {},
   "source": [
    "__#[2011](https://leetcode.com/problems/final-value-of-variable-after-performing-operations)/Final Value of Variable After Performing Operations__"
   ]
  },
  {
   "cell_type": "code",
   "execution_count": 155,
   "id": "04b1785c-f50f-45ff-8206-f1414178b690",
   "metadata": {},
   "outputs": [],
   "source": [
    "class Solution(object):\n",
    "    def finalValueAfterOperations(self, operations):\n",
    "        \"\"\"\n",
    "        :type operations: List[str]\n",
    "        :rtype: int\n",
    "        \"\"\"\n",
    "        sums = 0\n",
    "        for i in range(len(operations)):\n",
    "            if '-' in operations[i]:\n",
    "                sums -= 1\n",
    "            if '+' in operations[i]:\n",
    "                sums += 1\n",
    "        return sums"
   ]
  },
  {
   "cell_type": "markdown",
   "id": "a3ace60b-d4d1-4647-aed6-8dcc39dfcc97",
   "metadata": {},
   "source": [
    "__#[2037](https://leetcode.com/problems/minimum-number-of-moves-to-seat-everyone/)/Minimum Number of Moves to Seat Everyone__"
   ]
  },
  {
   "cell_type": "code",
   "execution_count": 156,
   "id": "da702324-0d98-4d88-b11f-4a2aaf61d974",
   "metadata": {},
   "outputs": [],
   "source": [
    "class Solution(object):\n",
    "    def minMovesToSeat(self, seats, students):\n",
    "        \"\"\"\n",
    "        :type seats: List[int]\n",
    "        :type students: List[int]\n",
    "        :rtype: int\n",
    "        \"\"\"\n",
    "        seats = sorted(seats)\n",
    "        students = sorted(students)\n",
    "\n",
    "        counter = 0\n",
    "\n",
    "        for x in range(len(seats)):\n",
    "            counter += abs(seats[x]-students[x])\n",
    "\n",
    "        return counter"
   ]
  },
  {
   "cell_type": "markdown",
   "id": "3a41fab7-96cc-4d30-bfff-b5ff416ede00",
   "metadata": {},
   "source": [
    "__#[2103](https://leetcode.com/problems/rings-and-rods)/Rings and Rods__"
   ]
  },
  {
   "cell_type": "code",
   "execution_count": 157,
   "id": "d37c201d-0460-4f6f-814d-171fab50f303",
   "metadata": {},
   "outputs": [],
   "source": [
    "class Solution(object):\n",
    "    def countPoints(self, rings):\n",
    "        \"\"\"\n",
    "        :type rings: str\n",
    "        :rtype: int\n",
    "        \"\"\"\n",
    "        count = 0\n",
    "        for i in range(10):\n",
    "            c = str(i)\n",
    "            if \"B\"+c in rings and \"G\"+c in rings and \"R\"+c in rings:\n",
    "                count += 1\n",
    "        return count"
   ]
  },
  {
   "cell_type": "markdown",
   "id": "74cfca4e-8bd0-4100-9361-945233e2e6b2",
   "metadata": {},
   "source": [
    "__#[2108](https://leetcode.com/problems/find-first-palindromic-string-in-the-array)/Find First Palindromic String in the Array__"
   ]
  },
  {
   "cell_type": "code",
   "execution_count": 158,
   "id": "62d06ef1-33b3-461b-9411-eb0e5fe0fba0",
   "metadata": {},
   "outputs": [],
   "source": [
    "class Solution(object):\n",
    "    def firstPalindrome(self, words):\n",
    "        \"\"\"\n",
    "        :type words: List[str]\n",
    "        :rtype: str\n",
    "        \"\"\"\n",
    "        for i in words:\n",
    "            if i == i[::-1]:\n",
    "                return i\n",
    "        return \"\""
   ]
  },
  {
   "cell_type": "markdown",
   "id": "8d45164c-db0b-4fab-b226-8821d5ecdb0a",
   "metadata": {},
   "source": [
    "__#[2114](https://leetcode.com/problems/maximum-number-of-words-found-in-sentences)/Maximum Number of Words Found in Sentences__"
   ]
  },
  {
   "cell_type": "code",
   "execution_count": 159,
   "id": "80c70089-f967-43c4-bbc7-944a9ae4229c",
   "metadata": {},
   "outputs": [],
   "source": [
    "class Solution(object):\n",
    "    def mostWordsFound(self, sentences):\n",
    "        \"\"\"\n",
    "        :type sentences: List[str]\n",
    "        :rtype: int\n",
    "        \"\"\"\n",
    "        maxsize = 0\n",
    "        for st in sentences:\n",
    "            temp = st.split()\n",
    "            if len(temp) > maxsize:\n",
    "                maxsize = len(temp)\n",
    "        return maxsize"
   ]
  },
  {
   "cell_type": "markdown",
   "id": "fb750bed-cc47-4b8b-a861-3ae7f092fc4d",
   "metadata": {},
   "source": [
    "__#[2119](https://leetcode.com/problems/a-number-after-a-double-reversal)/A Number After a Double Reversal__"
   ]
  },
  {
   "cell_type": "code",
   "execution_count": 160,
   "id": "ad93fbd4-3272-4987-9c92-4cb7a0e734aa",
   "metadata": {},
   "outputs": [],
   "source": [
    "class Solution(object):\n",
    "    def isSameAfterReversals(self, num):\n",
    "        \"\"\"\n",
    "        :type num: int\n",
    "        :rtype: bool\n",
    "        \"\"\"\n",
    "        reversed_number_str = str(num)[::-1]\n",
    "        reversed_number = int(reversed_number_str)\n",
    "        reversed_number_str2 = str(reversed_number)[::-1]\n",
    "        reversed_number2 = int(reversed_number_str2)\n",
    "        if num == reversed_number2:\n",
    "            return True\n",
    "        else:\n",
    "            return False"
   ]
  },
  {
   "cell_type": "markdown",
   "id": "66b26bd3-8644-4416-bf47-58ed86532b11",
   "metadata": {},
   "source": [
    "__#[2160](https://leetcode.com/problems/minimum-sum-of-four-digit-number-after-splitting-digits)/\t\n",
    "Minimum Sum of Four Digit Number After Splitting Digits__"
   ]
  },
  {
   "cell_type": "code",
   "execution_count": 161,
   "id": "09ddb14e-5ee1-45d1-8540-9cb20562093f",
   "metadata": {},
   "outputs": [],
   "source": [
    "class Solution(object):\n",
    "    def minimumSum(self, num):\n",
    "        \"\"\"\n",
    "        :type num: int\n",
    "        :rtype: int\n",
    "        \"\"\"\n",
    "        arr = sorted([int(digit) for digit in str(num)])\n",
    "        return (arr[0] + arr[1]) * 10 + arr[2] + arr[3] "
   ]
  },
  {
   "cell_type": "markdown",
   "id": "8fcdde6b-1ee3-4d48-bf45-3be5d0e904e1",
   "metadata": {},
   "source": [
    "__#[2169](https://leetcode.com/problems/count-operations-to-obtain-zero/)/\t\n",
    "Count Operations to Obtain Zero__"
   ]
  },
  {
   "cell_type": "code",
   "execution_count": 162,
   "id": "959aaf62-ea5a-4e0f-a73b-bdb1fbfe2684",
   "metadata": {},
   "outputs": [],
   "source": [
    "class Solution(object):\n",
    "    def countOperations(self, num1, num2):\n",
    "        \"\"\"\n",
    "        :type num1: int\n",
    "        :type num2: int\n",
    "        :rtype: int\n",
    "        \"\"\"\n",
    "        counter = 0\n",
    "        while num1 and num2:\n",
    "            if num1 >= num2:\n",
    "                num1 -= num2\n",
    "            else:\n",
    "                num2 -= num1\n",
    "            counter += 1\n",
    "        return counter"
   ]
  },
  {
   "cell_type": "markdown",
   "id": "0fa2115e-453a-48a8-84c7-04b7f3556474",
   "metadata": {},
   "source": [
    "__#[2180](https://leetcode.com/problems/count-integers-with-even-digit-sum)/Count Integers With Even Digit Sum__"
   ]
  },
  {
   "cell_type": "code",
   "execution_count": 163,
   "id": "33df237c-ea06-4874-b185-1b21d2cc1918",
   "metadata": {},
   "outputs": [],
   "source": [
    "class Solution(object):\n",
    "    def countEven(self, num):\n",
    "        \"\"\"\n",
    "        :type num: int\n",
    "        :rtype: int\n",
    "        \"\"\"\n",
    "        count = 0\n",
    "        for i in range(2, num + 1):\n",
    "            if sum([int(digit) for digit in str(i)]) % 2 == 0:\n",
    "                count += 1\n",
    "        return count"
   ]
  },
  {
   "cell_type": "markdown",
   "id": "7c5e0140-e4bc-4ce7-b8ab-2f72a56d294a",
   "metadata": {},
   "source": [
    "__#[2194](https://leetcode.com/problems/cells-in-a-range-on-an-excel-sheet)/Cells in a Range on an Excel Sheet__"
   ]
  },
  {
   "cell_type": "code",
   "execution_count": 164,
   "id": "0e0b84fc-6dac-4ccc-9e5c-5495b807af5b",
   "metadata": {},
   "outputs": [],
   "source": [
    "class Solution(object):\n",
    "    def cellsInRange(self, s):\n",
    "        \"\"\"\n",
    "        :type s: str\n",
    "        :rtype: List[str]\n",
    "        \"\"\"\n",
    "        result = []\n",
    "        for i in range(ord(s[0]),ord(s[3])+1):\n",
    "            for j in range(int(s[1]),int(s[4])+1):\n",
    "                result.append(chr(i)+str(j))\n",
    "        return result"
   ]
  },
  {
   "cell_type": "markdown",
   "id": "bc4c31ae-73b3-41e5-977f-c024ea141148",
   "metadata": {},
   "source": [
    "__#[2220](https://leetcode.com/problems/minimum-bit-flips-to-convert-number)/Minimum Bit Flips to Convert Number__"
   ]
  },
  {
   "cell_type": "code",
   "execution_count": 165,
   "id": "c4b9992d-b3b6-4cab-b801-6fbbd827207e",
   "metadata": {},
   "outputs": [],
   "source": [
    "class Solution(object):\n",
    "    def minBitFlips(self, start, goal):\n",
    "        \"\"\"\n",
    "        :type start: int\n",
    "        :type goal: int\n",
    "        :rtype: int\n",
    "        \"\"\"\n",
    "        return bin(start ^ goal).count('1')"
   ]
  },
  {
   "cell_type": "markdown",
   "id": "ca61b8aa-33ec-4cae-99ef-0421d887fbd7",
   "metadata": {},
   "source": [
    "__#[2235](https://leetcode.com/problems/add-two-integers)/Add Two Integers__"
   ]
  },
  {
   "cell_type": "code",
   "execution_count": 166,
   "id": "8b938ce6-3135-412d-8466-6d0f755e2292",
   "metadata": {},
   "outputs": [],
   "source": [
    "class Solution(object):\n",
    "    def sum(self, num1, num2):\n",
    "        \"\"\"\n",
    "        :type num1: int\n",
    "        :type num2: int\n",
    "        :rtype: int\n",
    "        \"\"\"\n",
    "        return num1 + num2"
   ]
  },
  {
   "cell_type": "markdown",
   "id": "599df3ad-0973-4ba5-b19d-b876b18eedb2",
   "metadata": {},
   "source": [
    "__#[2236](https://leetcode.com/problems/root-equals-sum-of-children)/Root Equals Sum of Children__"
   ]
  },
  {
   "cell_type": "code",
   "execution_count": 167,
   "id": "ad9bc57c-f114-435c-b421-37e84a87ad79",
   "metadata": {},
   "outputs": [],
   "source": [
    "# Definition for a binary tree node.\n",
    "# class TreeNode(object):\n",
    "#     def __init__(self, val=0, left=None, right=None):\n",
    "#         self.val = val\n",
    "#         self.left = left\n",
    "#         self.right = right\n",
    "class Solution(object):\n",
    "    def checkTree(self, root):\n",
    "        \"\"\"\n",
    "        :type root: Optional[TreeNode]\n",
    "        :rtype: bool\n",
    "        \"\"\"\n",
    "        return root.val==root.left.val+root.right.val"
   ]
  },
  {
   "cell_type": "markdown",
   "id": "a321853c-04dd-435b-bc84-1fdc20d24aad",
   "metadata": {},
   "source": [
    "__#[2265](https://leetcode.com/problems/count-nodes-equal-to-average-of-subtree)/Count Nodes Equal to Average of Subtree__"
   ]
  },
  {
   "cell_type": "code",
   "execution_count": 168,
   "id": "780dbaa6-ded0-48fd-8cc2-e75a988b254b",
   "metadata": {},
   "outputs": [],
   "source": [
    "# Definition for a binary tree node.\n",
    "# class TreeNode(object):\n",
    "#     def __init__(self, val=0, left=None, right=None):\n",
    "#         self.val = val\n",
    "#         self.left = left\n",
    "#         self.right = right\n",
    "class Solution(object):\n",
    "    def averageOfSubtree(self, root):\n",
    "        \"\"\"\n",
    "        :type root: TreeNode\n",
    "        :rtype: int\n",
    "        \"\"\"\n",
    "        def calculate_average(root):\n",
    "            if root:\n",
    "                self.summ+=root.val\n",
    "                self.nodecount+=1\n",
    "                calculate_average(root.left)\n",
    "                calculate_average(root.right)\n",
    "        def calculate_for_each_node(root):\n",
    "            if root:\n",
    "                self.summ = 0\n",
    "                self.nodecount = 0\n",
    "                calculate_average(root)\n",
    "                if ((self.summ)//(self.nodecount)) == root.val:\n",
    "                    self.count+=1 \n",
    "                calculate_for_each_node(root.left)\n",
    "                calculate_for_each_node(root.right)   \n",
    "        self.count = 0\n",
    "        calculate_for_each_node(root)       \n",
    "        return self.count"
   ]
  },
  {
   "cell_type": "markdown",
   "id": "6a5918dc-9195-448b-b55e-7e891de9cf22",
   "metadata": {},
   "source": [
    "__#[2315](https://leetcode.com/problems/count-asterisks)/Count Asterisks__"
   ]
  },
  {
   "cell_type": "code",
   "execution_count": 169,
   "id": "a94bf3da-c808-4285-adc6-2265026b92a2",
   "metadata": {},
   "outputs": [],
   "source": [
    "class Solution(object):\n",
    "    def countAsterisks(self, s):\n",
    "        \"\"\"\n",
    "        :type s: str\n",
    "        :rtype: int\n",
    "        \"\"\"\n",
    "        count = 0\n",
    "        ans = 0\n",
    "\n",
    "        for i in range(len(s)):\n",
    "            if s[i] == \"|\":\n",
    "                count += 1\n",
    "            if count % 2 == 0:\n",
    "                if s[i] == \"*\":\n",
    "                    ans += 1\n",
    "        \n",
    "        return ans"
   ]
  },
  {
   "cell_type": "markdown",
   "id": "4ebd142f-e4df-4595-ae0f-7f08a72d48d6",
   "metadata": {},
   "source": [
    "__#[2367](https://leetcode.com/problems/number-of-arithmetic-triplets)/Number of Arithmetic Triplets__"
   ]
  },
  {
   "cell_type": "code",
   "execution_count": 170,
   "id": "7e115b7a-b5c3-43c1-997b-95d77ad6e284",
   "metadata": {},
   "outputs": [],
   "source": [
    "class Solution(object):\n",
    "    def arithmeticTriplets(self, nums, diff):\n",
    "        \"\"\"\n",
    "        :type nums: List[int]\n",
    "        :type diff: int\n",
    "        :rtype: int\n",
    "        \"\"\"\n",
    "        counter = 0\n",
    "        n = len(nums)\n",
    "        for i in range(n):\n",
    "            for j in range(i + 1, n):\n",
    "                for k in range(j + 1, n):\n",
    "                    if nums[k] - nums[j] == diff and nums[j] - nums[i] == diff:\n",
    "                        counter += 1\n",
    "        return counter"
   ]
  },
  {
   "cell_type": "markdown",
   "id": "b97b3d9b-305d-459d-9f08-bbf14e6c93c2",
   "metadata": {},
   "source": [
    "__#[2373](https://leetcode.com/problems/largest-local-values-in-a-matrix)/Largest Local Values in a Matrix__"
   ]
  },
  {
   "cell_type": "code",
   "execution_count": 171,
   "id": "779515b1-e03f-4b14-81a4-543f4163c8ce",
   "metadata": {},
   "outputs": [],
   "source": [
    "class Solution(object):\n",
    "    def largestLocal(self, grid):\n",
    "        \"\"\"\n",
    "        :type grid: List[List[int]]\n",
    "        :rtype: List[List[int]]\n",
    "        \"\"\"\n",
    "        result = [[0 for _ in range(len(grid)-2)] for _ in range(len(grid)-2)]\n",
    "        for i in range(len(grid)-2):\n",
    "            for l in range(len(grid)-2):\n",
    "                for j in range(3):\n",
    "                    for k in range(3):\n",
    "                        if result[i][l] < grid[i+j][l+k]:\n",
    "                            result[i][l] = grid[i+j][l+k]\n",
    "        return result"
   ]
  },
  {
   "cell_type": "markdown",
   "id": "9a6b95b8-0946-40b7-a559-d24530c04ba4",
   "metadata": {},
   "source": [
    "__#[2396](https://leetcode.com/problems/strictly-palindromic-number)/Strictly Palindromic Number__"
   ]
  },
  {
   "cell_type": "code",
   "execution_count": 172,
   "id": "ab6d0794-6bc9-4fc2-9c26-ceac04035c46",
   "metadata": {},
   "outputs": [],
   "source": [
    "class Solution(object):\n",
    "    def isStrictlyPalindromic(self, n):\n",
    "        \"\"\"\n",
    "        :type n: int\n",
    "        :rtype: bool\n",
    "        \"\"\"\n",
    "        for i in range(2, n - 1):\n",
    "            values = \"\"\n",
    "            j = n\n",
    "            while j != 0:\n",
    "                r = j % i \n",
    "                j = j // i\n",
    "\n",
    "                values  = str(r) + values\n",
    "            \n",
    "            if values != values[::-1]:\n",
    "                return False\n",
    "        return True"
   ]
  },
  {
   "cell_type": "markdown",
   "id": "7ac67f11-3391-4fe6-8608-f70ad16b1ad4",
   "metadata": {},
   "source": [
    "__#[2413](https://leetcode.com/problems/smallest-even-multiple)/Smallest Even Multiple__"
   ]
  },
  {
   "cell_type": "code",
   "execution_count": 173,
   "id": "96e37e22-4636-47a0-912a-38e5aded6943",
   "metadata": {},
   "outputs": [],
   "source": [
    "class Solution(object):\n",
    "    def smallestEvenMultiple(self, n):\n",
    "        \"\"\"\n",
    "        :type n: int\n",
    "        :rtype: int\n",
    "        \"\"\"\n",
    "        if n % 2 == 0:\n",
    "            return n\n",
    "        else:\n",
    "            return n * 2"
   ]
  },
  {
   "cell_type": "markdown",
   "id": "d7b207bf-637f-4f90-be04-e43289202167",
   "metadata": {},
   "source": [
    "__#[2418](https://leetcode.com/problems/sort-the-people)/Sort the People__"
   ]
  },
  {
   "cell_type": "code",
   "execution_count": 174,
   "id": "d5a5882a-207e-48ce-aefd-11a763ca193a",
   "metadata": {},
   "outputs": [],
   "source": [
    "class Solution(object):\n",
    "    def sortPeople(self, names, heights):\n",
    "        \"\"\"\n",
    "        :type names: List[str]\n",
    "        :type heights: List[int]\n",
    "        :rtype: List[str]\n",
    "        \"\"\"\n",
    "        zipped = list(zip(names, heights))\n",
    "        sorted_tuples = sorted(zipped, key=lambda x: x[1])\n",
    "        name, height = zip(*sorted_tuples)\n",
    "        return reversed(list(name))"
   ]
  },
  {
   "cell_type": "markdown",
   "id": "4f3e0f55-d59b-4009-9847-e703365ee83b",
   "metadata": {},
   "source": [
    "__#[2433](https://leetcode.com/problems/find-the-original-array-of-prefix-xor)/Find The Original Array of Prefix Xor__"
   ]
  },
  {
   "cell_type": "code",
   "execution_count": 175,
   "id": "a023750f-6a6e-489e-ac31-eacb636b31d4",
   "metadata": {},
   "outputs": [],
   "source": [
    "class Solution(object):\n",
    "    def findArray(self, pref):\n",
    "        \"\"\"\n",
    "        :type pref: List[int]\n",
    "        :rtype: List[int]\n",
    "        \"\"\"\n",
    "        result = []\n",
    "        result.append(pref[0])\n",
    "        for i in range(len(pref))[1:]:\n",
    "            result.append(pref[i-1]^pref[i])\n",
    "        return result"
   ]
  },
  {
   "cell_type": "markdown",
   "id": "f67ea65f-567f-4e1d-9d17-10748dcc8fc5",
   "metadata": {},
   "source": [
    "__#[2469](https://leetcode.com/problems/convert-the-temperature)/\t\r\n",
    "Convert the Temperature__"
   ]
  },
  {
   "cell_type": "code",
   "execution_count": 176,
   "id": "c72d1da8-f891-4e63-b970-2c764af736d9",
   "metadata": {},
   "outputs": [],
   "source": [
    "class Solution(object):\n",
    "    def convertTemperature(self, celsius):\n",
    "        \"\"\"\n",
    "        :type celsius: float\n",
    "        :rtype: List[float]\n",
    "        \"\"\"\n",
    "        arr = []\n",
    "        arr.append(celsius + 273.15)\n",
    "        arr.append(celsius * 1.80 + 32.00)\n",
    "\n",
    "        return arr"
   ]
  },
  {
   "cell_type": "markdown",
   "id": "e7d9f118-cc34-4d4a-8cbe-3e49c8b4ecd1",
   "metadata": {},
   "source": [
    "__#[2485](https://leetcode.com/problems/find-the-pivot-integer)/\t\n",
    "Find the Pivot Integer__"
   ]
  },
  {
   "cell_type": "code",
   "execution_count": 177,
   "id": "deefa3b3-8db9-4f89-a680-523b96e261f0",
   "metadata": {},
   "outputs": [],
   "source": [
    "class Solution(object):\n",
    "    def pivotInteger(self, n):\n",
    "        \"\"\"\n",
    "        :type n: int\n",
    "        :rtype: int\n",
    "        \"\"\"\n",
    "        pivot = -1\n",
    "        for i in range(2*n/3, n+1):\n",
    "            if i*(i+1)/2 == n*(n+1)/2 - i*(i+1)/2 +i:\n",
    "                pivot = i\n",
    "        return pivot"
   ]
  },
  {
   "cell_type": "markdown",
   "id": "a3ae1388-4aa9-4c44-9f6f-ce56f1c0b1ab",
   "metadata": {},
   "source": [
    "__#[2520](https://leetcode.com/problems/count-the-digits-that-divide-a-number)/Count the Digits That Divide a Number__"
   ]
  },
  {
   "cell_type": "code",
   "execution_count": 178,
   "id": "b8f60a23-6719-4cca-90a0-1ae08958f58d",
   "metadata": {},
   "outputs": [],
   "source": [
    "class Solution(object):\n",
    "    def countDigits(self, num):\n",
    "        \"\"\"\n",
    "        :type num: int\n",
    "        :rtype: int\n",
    "        \"\"\"\n",
    "        digits = [int(digit) for digit in str(num)]\n",
    "        count = 0\n",
    "        for i in range(len(digits)):\n",
    "            if num % digits[i] == 0:\n",
    "                count += 1\n",
    "        return count"
   ]
  },
  {
   "cell_type": "markdown",
   "id": "1950cb9e-36fe-4683-a1b3-0bf76d382d78",
   "metadata": {},
   "source": [
    "__#[2535](https://leetcode.com/problems/difference-between-element-sum-and-digit-sum-of-an-array)/Difference Between Element Sum and Digit Sum of an Array__"
   ]
  },
  {
   "cell_type": "code",
   "execution_count": 179,
   "id": "53156d1a-1b55-4f4a-94db-40774096da61",
   "metadata": {},
   "outputs": [],
   "source": [
    "class Solution(object):\n",
    "    def differenceOfSum(self, nums):\n",
    "        \"\"\"\n",
    "        :type nums: List[int]\n",
    "        :rtype: int\n",
    "        \"\"\"\n",
    "        elesum = 0\n",
    "        for i in nums:\n",
    "            elesum += i\n",
    "        \n",
    "        digitsum = 0\n",
    "        for i in nums:\n",
    "            digits = [int(digit) for digit in str(i)]\n",
    "            for j in digits:\n",
    "                digitsum += j\n",
    "        \n",
    "        return abs(elesum - digitsum)"
   ]
  },
  {
   "cell_type": "markdown",
   "id": "a9a4fc2d-2c79-441f-b935-0cc2f5332734",
   "metadata": {},
   "source": [
    "__#[2544](https://leetcode.com/problems/alternating-digit-sum)/Alternating Digit Sum__"
   ]
  },
  {
   "cell_type": "code",
   "execution_count": 180,
   "id": "5f4c2de7-e95e-4c72-9f53-cf5442d82728",
   "metadata": {},
   "outputs": [],
   "source": [
    "class Solution(object):\n",
    "    def alternateDigitSum(self, n):\n",
    "        \"\"\"\n",
    "        :type n: int\n",
    "        :rtype: int\n",
    "        \"\"\"\n",
    "        n = str(n)\n",
    "        sum_, flag = 0, True\n",
    "        for ch in n:\n",
    "            sum_ += int(ch) if flag else -int(ch)\n",
    "            flag = not flag\n",
    "        return sum_"
   ]
  },
  {
   "cell_type": "markdown",
   "id": "14f7726f-54ea-4569-ad64-6c387a0a3155",
   "metadata": {},
   "source": [
    "__#[2553](https://leetcode.com/problems/separate-the-digits-in-an-array)/Separate the Digits in an Array__"
   ]
  },
  {
   "cell_type": "code",
   "execution_count": 181,
   "id": "b6280c4b-09c3-4006-9f07-905d3f61c1d6",
   "metadata": {},
   "outputs": [],
   "source": [
    "class Solution(object):\n",
    "    def separateDigits(self, nums):\n",
    "        \"\"\"\n",
    "        :type nums: List[int]\n",
    "        :rtype: List[int]\n",
    "        \"\"\"\n",
    "        result = []\n",
    "        for i in nums:\n",
    "            temp = []\n",
    "            while i > 0:\n",
    "                temp.append(i % 10)\n",
    "                i //= 10\n",
    "            result.extend(reversed(temp))\n",
    "        return result"
   ]
  },
  {
   "cell_type": "markdown",
   "id": "b1199951-dcf4-4a21-85bb-32ba5b414928",
   "metadata": {},
   "source": [
    "__#[2574](https://leetcode.com/problems/left-and-right-sum-differences)/Left and Right Sum Differences__"
   ]
  },
  {
   "cell_type": "code",
   "execution_count": 182,
   "id": "fa9ae59e-4e73-4637-a816-d8663daa8420",
   "metadata": {},
   "outputs": [],
   "source": [
    "class Solution(object):\n",
    "    def leftRightDifference(self, nums):\n",
    "        \"\"\"\n",
    "        :type nums: List[int]\n",
    "        :rtype: List[int]\n",
    "        \"\"\"\n",
    "        arr = []\n",
    "        leftsum = [0]\n",
    "        numsreverse = nums[::-1]\n",
    "        rightsum = [0]\n",
    "        for i in range(len(nums) - 1):\n",
    "            leftsum.append(nums[i] + leftsum[i])\n",
    "            rightsum.append(nums[len(nums) - 1 - i] + rightsum[i])\n",
    "        rightsum.reverse()\n",
    "\n",
    "        for i in range(len(nums)):\n",
    "            arr.append(abs(leftsum[i] - rightsum[i]))\n",
    "        \n",
    "        return arr"
   ]
  },
  {
   "cell_type": "markdown",
   "id": "b1e2d991-045c-4161-adf6-83de2ccb4a78",
   "metadata": {},
   "source": [
    "__#[2578](https://leetcode.com/problems/split-with-minimum-sum)/Split With Minimum Sum__"
   ]
  },
  {
   "cell_type": "code",
   "execution_count": 183,
   "id": "9e18e02b-7f8e-4c27-bf98-3eaca5a7bf40",
   "metadata": {},
   "outputs": [],
   "source": [
    "class Solution(object):\n",
    "    def splitNum(self, num):\n",
    "        \"\"\"\n",
    "        :type num: int\n",
    "        :rtype: int\n",
    "        \"\"\"\n",
    "        sorted_str = \"\".join(sorted([i for i in str(num)]))\n",
    "        num1,num2 = \"\", \"\"\n",
    "        for i in range(len(sorted_str)):\n",
    "            if i%2 == 0:\n",
    "                num1 += sorted_str[i]\n",
    "            else:\n",
    "                num2 += sorted_str[i]\n",
    "        return int(num1)+int(num2)"
   ]
  },
  {
   "cell_type": "markdown",
   "id": "203b6203-91cb-4cec-aaf7-ff9b0856185a",
   "metadata": {},
   "source": [
    "__#[2651](https://leetcode.com/problems/calculate-delayed-arrival-time)/Calculate Delayed Arrival Time__"
   ]
  },
  {
   "cell_type": "code",
   "execution_count": 184,
   "id": "7a27babd-d969-4d58-b057-0b6265f74ed4",
   "metadata": {},
   "outputs": [],
   "source": [
    "class Solution(object):\n",
    "    def findDelayedArrivalTime(self, arrivalTime, delayedTime):\n",
    "        \"\"\"\n",
    "        :type arrivalTime: int\n",
    "        :type delayedTime: int\n",
    "        :rtype: int\n",
    "        \"\"\"\n",
    "        return (arrivalTime + delayedTime)%24"
   ]
  },
  {
   "cell_type": "markdown",
   "id": "93cafa34-cbb8-4b40-8f62-e790c3ea686c",
   "metadata": {},
   "source": [
    "__#[2652](https://leetcode.com/problems/sum-multiples)/Sum Multiples__"
   ]
  },
  {
   "cell_type": "code",
   "execution_count": 185,
   "id": "5db90f9b-3946-404b-983f-e4cf656514a2",
   "metadata": {},
   "outputs": [],
   "source": [
    "class Solution(object):\n",
    "    def sumOfMultiples(self, n):\n",
    "        \"\"\"\n",
    "        :type n: int\n",
    "        :rtype: int\n",
    "        \"\"\"\n",
    "        result = 0\n",
    "        for i in range(n + 1):\n",
    "            if i%3 == 0:\n",
    "                result += i\n",
    "            elif i%5 == 0:\n",
    "                result += i\n",
    "            elif i%7 == 0:\n",
    "                result += i\n",
    "        return result"
   ]
  },
  {
   "cell_type": "markdown",
   "id": "68902c9b-e7f7-4aa0-b031-2a46076bd536",
   "metadata": {},
   "source": [
    "__#[2656](https://leetcode.com/problems/maximum-sum-with-exactly-k-elements)/Maximum Sum With Exactly K Elements__"
   ]
  },
  {
   "cell_type": "code",
   "execution_count": 186,
   "id": "c1211100-8a21-4d14-a407-82ba61ced968",
   "metadata": {},
   "outputs": [],
   "source": [
    "class Solution(object):\n",
    "    def maximizeSum(self, nums, k):\n",
    "        \"\"\"\n",
    "        :type nums: List[int]\n",
    "        :type k: int\n",
    "        :rtype: int\n",
    "        \"\"\"\n",
    "        max_num = max(nums)\n",
    "        total = 0\n",
    "\n",
    "        for n in range(max_num, max_num + k):\n",
    "            total += n\n",
    "\n",
    "        return total"
   ]
  },
  {
   "cell_type": "markdown",
   "id": "e3010107-646d-4dae-aee0-01b17351e5f8",
   "metadata": {},
   "source": [
    "__#[2697](https://leetcode.com/problems/lexicographically-smallest-palindrome)/Lexicographically Smallest Palindrome__"
   ]
  },
  {
   "cell_type": "code",
   "execution_count": 187,
   "id": "38fe7b17-5c21-4ce4-b94b-d5f29a2413a7",
   "metadata": {},
   "outputs": [],
   "source": [
    "class Solution(object):\n",
    "    def makeSmallestPalindrome(self, s):\n",
    "        \"\"\"\n",
    "        :type s: str\n",
    "        :rtype: str\n",
    "        \"\"\"\n",
    "        array = list(s)\n",
    "\n",
    "        i, j = 0 , len(array)-1\n",
    "\n",
    "        if len(array) == 1:\n",
    "            return ''.join(array)\n",
    "\n",
    "        while i < j:\n",
    "            if array[i]!= array[j]:\n",
    "                if ord(array[i])<ord(array[j]):\n",
    "                    array[j] = array[i]\n",
    "                else:\n",
    "                    array[i] = array[j]\n",
    "            if array == array[::-1]:\n",
    "                return \"\".join(array)\n",
    "            i = i+1\n",
    "            j = j-1"
   ]
  },
  {
   "cell_type": "markdown",
   "id": "d3d92a24-0347-4a0d-ac35-b975675e70bf",
   "metadata": {},
   "source": [
    "__#[2769](https://leetcode.com/problems/find-the-maximum-achievable-number)/Find the Maximum Achievable Number__"
   ]
  },
  {
   "cell_type": "code",
   "execution_count": 188,
   "id": "433efc42-b8fb-4dd6-add8-6584d8f262da",
   "metadata": {},
   "outputs": [],
   "source": [
    "class Solution(object):\n",
    "    def theMaximumAchievableX(self, num, t):\n",
    "        \"\"\"\n",
    "        :type num: int\n",
    "        :type t: int\n",
    "        :rtype: int\n",
    "        \"\"\"\n",
    "        num  = num + 2*t\n",
    "\n",
    "        return num"
   ]
  },
  {
   "cell_type": "markdown",
   "id": "ffe66aba-a3d5-42bd-b3de-7c4e9c211ce5",
   "metadata": {},
   "source": [
    "__#[2798](https://leetcode.com/problems/number-of-employees-who-met-the-target)/Number of Employees Who Met the Target__"
   ]
  },
  {
   "cell_type": "code",
   "execution_count": 189,
   "id": "34ad2833-0e76-4fea-951e-cd5feadbe87a",
   "metadata": {},
   "outputs": [],
   "source": [
    "class Solution(object):\n",
    "    def numberOfEmployeesWhoMetTarget(self, hours, target):\n",
    "        \"\"\"\n",
    "        :type hours: List[int]\n",
    "        :type target: int\n",
    "        :rtype: int\n",
    "        \"\"\"\n",
    "        result = 0\n",
    "        for i in hours:\n",
    "            if i >= target:\n",
    "                result += 1\n",
    "        return result"
   ]
  },
  {
   "cell_type": "markdown",
   "id": "69a6191c-94f2-42f1-8d98-40296bb49ff8",
   "metadata": {},
   "source": [
    "__#[2810](https://leetcode.com/problems/faulty-keyboard)/Faulty Keyboard__"
   ]
  },
  {
   "cell_type": "code",
   "execution_count": 190,
   "id": "2d2f82fa-c277-4d9e-8510-042c792e7f6a",
   "metadata": {},
   "outputs": [],
   "source": [
    "class Solution(object):\n",
    "    def finalString(self, s):\n",
    "        \"\"\"\n",
    "        :type s: str\n",
    "        :rtype: str\n",
    "        \"\"\"\n",
    "        result = []\n",
    "        reverse = False\n",
    "        for char in s:\n",
    "            if char == 'i':\n",
    "                reverse = not reverse\n",
    "            else:\n",
    "                if reverse:\n",
    "                    result.insert(0, char)\n",
    "                else:\n",
    "                    result.append(char)\n",
    "        if reverse:\n",
    "            result.reverse()\n",
    "        return ''.join(result)"
   ]
  },
  {
   "cell_type": "markdown",
   "id": "a2e3f4a1-a0a5-4f7a-a595-8c8fa73d8bf3",
   "metadata": {},
   "source": [
    "__#[2824](https://leetcode.com/problems/count-pairs-whose-sum-is-less-than-target)/Count Pairs Whose Sum is Less than Target__"
   ]
  },
  {
   "cell_type": "code",
   "execution_count": 191,
   "id": "39b5db96-bdb2-4af6-ac3c-98839e91fcb0",
   "metadata": {},
   "outputs": [],
   "source": [
    "class Solution(object):\n",
    "    def countPairs(self, nums, target):\n",
    "        \"\"\"\n",
    "        :type nums: List[int]\n",
    "        :type target: int\n",
    "        :rtype: int\n",
    "        \"\"\"\n",
    "        result = 0\n",
    "        for i in range(len(nums)):\n",
    "            for j in range(i+1, len(nums), 1):\n",
    "                if nums[i] + nums[j] < target:\n",
    "                    result += 1\n",
    "        return result"
   ]
  },
  {
   "cell_type": "markdown",
   "id": "93cccf11-0124-48cd-8e40-9d5d706ec4ce",
   "metadata": {},
   "source": [
    "__#[2828](https://leetcode.com/problems/check-if-a-string-is-an-acronym-of-words)/Check if a String Is an Acronym of Words__"
   ]
  },
  {
   "cell_type": "code",
   "execution_count": 192,
   "id": "5434624a-071c-488d-991c-26e26e579156",
   "metadata": {},
   "outputs": [],
   "source": [
    "class Solution(object):\n",
    "    def isAcronym(self, words, s):\n",
    "        \"\"\"\n",
    "        :type words: List[str]\n",
    "        :type s: str\n",
    "        :rtype: bool\n",
    "        \"\"\"\n",
    "        resultarr = []\n",
    "        for i in words:\n",
    "            resultarr.append(i[0])\n",
    "        result = ''.join(resultarr)\n",
    "        if result == s:\n",
    "            return True\n",
    "        else:\n",
    "            return False"
   ]
  },
  {
   "cell_type": "markdown",
   "id": "65030536-8be8-4c7b-8b70-e3097f9996ba",
   "metadata": {},
   "source": [
    "__#[2859](https://leetcode.com/tag/array/#:~:text=Sum%20of%20Values%20at%20Indices%20With%20K%20Set%20Bits)/Sum of Values at Indices With K Set Bits__"
   ]
  },
  {
   "cell_type": "code",
   "execution_count": 193,
   "id": "5e9e0510-13e6-4fb9-9b80-f492df9e6907",
   "metadata": {},
   "outputs": [],
   "source": [
    "class Solution(object):\n",
    "    def sumIndicesWithKSetBits(self, nums, k):\n",
    "        \"\"\"\n",
    "        :type nums: List[int]\n",
    "        :type k: int\n",
    "        :rtype: int\n",
    "        \"\"\"\n",
    "        sums = 0\n",
    "        for i in range(len(nums)):\n",
    "            temp = 0\n",
    "            for j in bin(i)[2:]:\n",
    "                temp = temp + int(j)\n",
    "            if k == temp:\n",
    "                sums += nums[i]        \n",
    "        return sums"
   ]
  },
  {
   "cell_type": "markdown",
   "id": "12f5943e-0cc4-4121-9f66-47c63d2e8996",
   "metadata": {},
   "source": [
    "__#[2864](https://leetcode.com/problems/maximum-odd-binary-number)/Maximum Odd Binary Number__"
   ]
  },
  {
   "cell_type": "code",
   "execution_count": 194,
   "id": "3feaa98c-f065-4b4b-9441-b50ce5033bd2",
   "metadata": {},
   "outputs": [],
   "source": [
    "class Solution(object):\n",
    "    def maximumOddBinaryNumber(self, s):\n",
    "        \"\"\"\n",
    "        :type s: str\n",
    "        :rtype: str\n",
    "        \"\"\"\n",
    "        count = 0\n",
    "        for i in s:\n",
    "            if i == \"1\":\n",
    "                count += 1\n",
    "        result = []\n",
    "\n",
    "        count2 = len(s) - count\n",
    "        while(count > 1):\n",
    "            result.append('1')\n",
    "            count -= 1\n",
    "        while(count2 > 0):\n",
    "            result.append('0')\n",
    "            count2 -= 1\n",
    "        result.append('1')\n",
    "        return ''.join(result)"
   ]
  },
  {
   "cell_type": "markdown",
   "id": "70a30098-d9ff-4f24-85b5-b4f7a277d114",
   "metadata": {},
   "source": [
    "__#[2894](https://leetcode.com/problems/divisible-and-non-divisible-sums-difference)/Divisible and Non-divisible Sums Difference__"
   ]
  },
  {
   "cell_type": "code",
   "execution_count": 195,
   "id": "b21d1b5f-0afd-43ec-9273-736910527bbb",
   "metadata": {},
   "outputs": [],
   "source": [
    "class Solution(object):\n",
    "    def differenceOfSums(self, n, m):\n",
    "        \"\"\"\n",
    "        :type n: int\n",
    "        :type m: int\n",
    "        :rtype: int\n",
    "        \"\"\"\n",
    "\n",
    "        num1 = 0\n",
    "        num2 = 0\n",
    "        for i in range(1,n+1):\n",
    "            if i % m == 0:\n",
    "                num2 += i\n",
    "            else:\n",
    "                num1 += i\n",
    "        return num1 - num2"
   ]
  },
  {
   "cell_type": "markdown",
   "id": "eee0e545-7183-4100-8e3b-7f638ceec5bd",
   "metadata": {},
   "source": [
    "__#[2913](https://leetcode.com/problems/subarrays-distinct-element-sum-of-squares-i)/Subarrays Distinct Element Sum of Squares I__"
   ]
  },
  {
   "cell_type": "code",
   "execution_count": 196,
   "id": "cf634ef9-2b97-4b9b-b092-f06ef6ee5a78",
   "metadata": {},
   "outputs": [],
   "source": [
    "class Solution(object):\n",
    "    def sumCounts(self, nums):\n",
    "        \"\"\"\n",
    "        :type nums: List[int]\n",
    "        :rtype: int\n",
    "        \"\"\"\n",
    "        subarrays = []\n",
    "        \n",
    "        for i in range(len(nums)):\n",
    "            for j in range(len(nums)):\n",
    "                if len(nums[i:j+1]) >= 1:\n",
    "                    subarrays.append(set(nums[i:j+1]))\n",
    "                \n",
    "        res = 0\n",
    "        for value in subarrays:\n",
    "            res += len(value) * len(value)\n",
    "        return res"
   ]
  },
  {
   "cell_type": "markdown",
   "id": "86e80947-611b-4481-8e73-9100d8086a3c",
   "metadata": {},
   "source": [
    "__#[2942](https://leetcode.com/problems/find-words-containing-character)/Find Words Containing Character__"
   ]
  },
  {
   "cell_type": "code",
   "execution_count": 197,
   "id": "7df28153-543f-4132-a163-3623d0509979",
   "metadata": {},
   "outputs": [],
   "source": [
    "class Solution(object):\n",
    "    def findWordsContaining(self, words, x):\n",
    "        \"\"\"\n",
    "        :type words: List[str]\n",
    "        :type x: str\n",
    "        :rtype: List[int]\n",
    "        \"\"\"\n",
    "        result = []\n",
    "        for i in range(len(words)):\n",
    "            if x in words[i]:\n",
    "                result.append(i)\n",
    "        return result"
   ]
  },
  {
   "cell_type": "markdown",
   "id": "912df1fd-3df4-4cc5-af11-24e09c9257a0",
   "metadata": {},
   "source": [
    "__#[2951](https://leetcode.com/problems/find-the-peaks)/Find the Peaks__"
   ]
  },
  {
   "cell_type": "code",
   "execution_count": 198,
   "id": "ae08d686-9a71-4c3e-af53-4f4e844e2873",
   "metadata": {},
   "outputs": [],
   "source": [
    "class Solution(object):\n",
    "    def findPeaks(self, mountain):\n",
    "        \"\"\"\n",
    "        :type mountain: List[int]\n",
    "        :rtype: List[int]\n",
    "        \"\"\"\n",
    "        result = []\n",
    "        for i in range(len(mountain))[1:len(mountain) - 1]:\n",
    "            if mountain[i] > mountain[i-1] and mountain[i] > mountain[i+1]:\n",
    "                result.append(i)\n",
    "        return result"
   ]
  },
  {
   "cell_type": "markdown",
   "id": "f2c95614-5cc6-4f7b-a1cb-ece4f902bd46",
   "metadata": {},
   "source": [
    "__#[2956](https://leetcode.com/problems/find-common-elements-between-two-arrays)/Find Common Elements Between Two Arrays__"
   ]
  },
  {
   "cell_type": "code",
   "execution_count": 199,
   "id": "7ed7b8fc-311d-4717-8a9c-a4229b1681f2",
   "metadata": {},
   "outputs": [],
   "source": [
    "class Solution(object):\n",
    "    def findIntersectionValues(self, nums1, nums2):\n",
    "        \"\"\"\n",
    "        :type nums1: List[int]\n",
    "        :type nums2: List[int]\n",
    "        :rtype: List[int]\n",
    "        \"\"\"\n",
    "        n = len(nums1)\n",
    "        m = len(nums2)\n",
    "\n",
    "        c1 = 0\n",
    "        c2 = 0\n",
    "\n",
    "        for i in range(n) :\n",
    "            if nums1[i] in nums2 :\n",
    "                c1 += 1\n",
    "        for i in range(m) :\n",
    "            if nums2[i] in nums1 :\n",
    "                c2 += 1\n",
    "                \n",
    "        return [c1, c2]"
   ]
  },
  {
   "cell_type": "markdown",
   "id": "9cabefb8-09be-4727-a071-e1767ea96908",
   "metadata": {},
   "source": [
    "__#[2965](https://leetcode.com/problems/find-missing-and-repeated-values)/Find Missing and Repeated Values__"
   ]
  },
  {
   "cell_type": "code",
   "execution_count": 200,
   "id": "5dc9b603-ca23-4eb2-a177-8fd7b6d54321",
   "metadata": {},
   "outputs": [],
   "source": [
    "class Solution(object):\n",
    "    def findMissingAndRepeatedValues(self, grid):\n",
    "        \"\"\"\n",
    "        :type grid: List[List[int]]\n",
    "        :rtype: List[int]\n",
    "        \"\"\"\n",
    "        arr=[element for sublist in grid for element in sublist]\n",
    "        arr.sort()\n",
    "        n=[]\n",
    "        for i in range(len(arr)-1):\n",
    "            if arr[i]==arr[i+1]:\n",
    "                n.append(arr[i])\n",
    "                arr.remove(arr[i])\n",
    "                break\n",
    "        arr.append(1000000)\n",
    "        for i in range(len(arr)):\n",
    "            if i+1!=arr[i]:\n",
    "                n.append(i+1)\n",
    "                break\n",
    "        return n"
   ]
  },
  {
   "cell_type": "markdown",
   "id": "39383246-5b99-44a8-855b-6c01ad7625a3",
   "metadata": {},
   "source": [
    "__#[2974](https://leetcode.com/problems/minimum-number-game)/Minimum Number Game__"
   ]
  },
  {
   "cell_type": "code",
   "execution_count": 201,
   "id": "851a0def-729f-4b9a-aa6a-af232dae05d1",
   "metadata": {},
   "outputs": [],
   "source": [
    "class Solution(object):\n",
    "    def numberGame(self, nums):\n",
    "        \"\"\"\n",
    "        :type nums: List[int]\n",
    "        :rtype: List[int]\n",
    "        \"\"\"\n",
    "        alice = 0\n",
    "        bob = 0\n",
    "        result = []\n",
    "        while(len(nums) > 0):\n",
    "            alice = min(nums)\n",
    "            nums.remove(alice)\n",
    "            bob = min(nums)\n",
    "            nums.remove(bob)\n",
    "            result.append(bob)\n",
    "            result.append(alice)\n",
    "        return result"
   ]
  },
  {
   "cell_type": "markdown",
   "id": "b2818adb-cb27-4873-af72-9219071b2682",
   "metadata": {},
   "source": [
    "__#[3065](https://leetcode.com/problems/minimum-operations-to-exceed-threshold-value-i)/Minimum Operations to Exceed Threshold Value I__"
   ]
  },
  {
   "cell_type": "code",
   "execution_count": 202,
   "id": "dca48153-94ec-4fbe-915a-eab9cd3cecdb",
   "metadata": {},
   "outputs": [],
   "source": [
    "class Solution(object):\n",
    "    def minOperations(self, nums, k):\n",
    "        \"\"\"\n",
    "        :type nums: List[int]\n",
    "        :type k: int\n",
    "        :rtype: int\n",
    "        \"\"\"\n",
    "        count = 0\n",
    "        for i in nums:\n",
    "            if i < k:\n",
    "                count += 1\n",
    "\n",
    "        return count"
   ]
  },
  {
   "cell_type": "markdown",
   "id": "9ca82d8a-3dd0-4b53-a075-a6b9644cd6d4",
   "metadata": {},
   "source": [
    "__#[3099](https://leetcode.com/problems/harshad-number)/Harshad Number__"
   ]
  },
  {
   "cell_type": "code",
   "execution_count": 203,
   "id": "8733b2a7-af49-48ff-ae8d-50ef55627e7d",
   "metadata": {},
   "outputs": [],
   "source": [
    "class Solution(object):\n",
    "    def sumOfTheDigitsOfHarshadNumber(self, x):\n",
    "        \"\"\"\n",
    "        :type x: int\n",
    "        :rtype: int\n",
    "        \"\"\"\n",
    "        digits = [int(digit) for digit in str(x)]\n",
    "        sums = 0\n",
    "        for i in digits:\n",
    "            sums += i\n",
    "        if x%sums == 0:\n",
    "            return sums\n",
    "        else:\n",
    "            return -1"
   ]
  },
  {
   "cell_type": "markdown",
   "id": "84c73a5d-3c4c-4584-9305-4c4a032a6029",
   "metadata": {},
   "source": [
    "__#[3110](https://leetcode.com/problems/score-of-a-string/)/Score of a String__"
   ]
  },
  {
   "cell_type": "code",
   "execution_count": 204,
   "id": "ec889597-7f0f-4295-8e7d-0b4f504aed00",
   "metadata": {},
   "outputs": [],
   "source": [
    "class Solution(object):\n",
    "    def scoreOfString(self, s):\n",
    "        sum = 0\n",
    "        tempchar = -1\n",
    "        for char in s:\n",
    "            if tempchar == -1: \n",
    "                tempchar = ord(char)\n",
    "            sum += abs(ord(char) - tempchar)\n",
    "            tempchar = ord(char)\n",
    "        return sum"
   ]
  },
  {
   "cell_type": "markdown",
   "id": "34168ed9-1297-411a-812b-227bc6c878b7",
   "metadata": {},
   "source": [
    "__#[3146](https://leetcode.com/problems/permutation-difference-between-two-strings)/Permutation Difference between Two Strings__"
   ]
  },
  {
   "cell_type": "code",
   "execution_count": 205,
   "id": "4d2d9e10-2013-4955-8166-86e89d038942",
   "metadata": {},
   "outputs": [],
   "source": [
    "class Solution(object):\n",
    "    def findPermutationDifference(self, s, t):\n",
    "        \"\"\"\n",
    "        :type s: str\n",
    "        :type t: str\n",
    "        :rtype: int\n",
    "        \"\"\"\n",
    "        pos = {ch : i for i, ch in enumerate(t)}\n",
    "        return sum([abs(i - pos[s[i]]) for i in range(len(s))])"
   ]
  },
  {
   "cell_type": "code",
   "execution_count": null,
   "id": "7f2dc5c8-ec36-448a-87ab-51368824fa59",
   "metadata": {},
   "outputs": [],
   "source": []
  }
 ],
 "metadata": {
  "kernelspec": {
   "display_name": "Python 3 (ipykernel)",
   "language": "python",
   "name": "python3"
  },
  "language_info": {
   "codemirror_mode": {
    "name": "ipython",
    "version": 3
   },
   "file_extension": ".py",
   "mimetype": "text/x-python",
   "name": "python",
   "nbconvert_exporter": "python",
   "pygments_lexer": "ipython3",
   "version": "3.11.7"
  }
 },
 "nbformat": 4,
 "nbformat_minor": 5
}
